{
  "cells": [
    {
      "cell_type": "markdown",
      "metadata": {
        "id": "g8HmKgdIxPQS"
      },
      "source": [
        "### __Environment set up__"
      ]
    },
    {
      "cell_type": "code",
      "execution_count": null,
      "metadata": {
        "id": "u7SkWd0WxCh1",
        "colab": {
          "base_uri": "https://localhost:8080/"
        },
        "outputId": "b759960b-c7ad-406e-903e-313bd2a8404a"
      },
      "outputs": [
        {
          "output_type": "stream",
          "name": "stderr",
          "text": [
            "[nltk_data] Downloading package stopwords to /root/nltk_data...\n",
            "[nltk_data]   Package stopwords is already up-to-date!\n",
            "[nltk_data] Downloading package punkt to /root/nltk_data...\n",
            "[nltk_data]   Package punkt is already up-to-date!\n",
            "[nltk_data] Downloading package wordnet to /root/nltk_data...\n",
            "[nltk_data]   Package wordnet is already up-to-date!\n",
            "[nltk_data] Downloading package omw-1.4 to /root/nltk_data...\n",
            "[nltk_data]   Package omw-1.4 is already up-to-date!\n"
          ]
        }
      ],
      "source": [
        "# Importing dependencies\n",
        "\n",
        "import pandas as pd\n",
        "import numpy as np\n",
        "import re\n",
        "import nltk\n",
        "nltk.download(\"stopwords\")  # You may need to do this if don't have the nltk corpora (singlular: corpus) already downloaded in your environment\n",
        "nltk.download('punkt')\n",
        "nltk.download('wordnet')\n",
        "nltk.download('omw-1.4')  # now needed to load wordnet on linux, i guess- as I am using google collab- and collab runs on linux\n",
        "from nltk.corpus import stopwords\n",
        "from nltk.tokenize import word_tokenize\n",
        "from nltk.stem import  WordNetLemmatizer\n",
        "#from nltk.stem import PorterStemmer\n",
        "from sklearn.feature_extraction.text import TfidfVectorizer\n",
        "from sklearn.cluster import KMeans\n",
        "from sklearn.metrics.pairwise import cosine_similarity\n",
        "from sklearn import metrics\n",
        "#from sklearn.preprocessing import StandardScaler"
      ]
    },
    {
      "cell_type": "code",
      "execution_count": null,
      "metadata": {
        "id": "4f50j3mMDktr"
      },
      "outputs": [],
      "source": [
        "articles_df = pd.read_csv(\"/content/news_articles.csv\")"
      ]
    },
    {
      "cell_type": "markdown",
      "metadata": {
        "id": "sDiymfFpIybC"
      },
      "source": [
        "Examining the data"
      ]
    },
    {
      "cell_type": "code",
      "execution_count": null,
      "metadata": {
        "colab": {
          "base_uri": "https://localhost:8080/"
        },
        "id": "kGuY0Ua7JGpx",
        "outputId": "55eabaa6-3f76-434c-8242-eb0ec3ffb55a"
      },
      "outputs": [
        {
          "output_type": "execute_result",
          "data": {
            "text/plain": [
              "(3122, 5)"
            ]
          },
          "metadata": {},
          "execution_count": 3
        }
      ],
      "source": [
        "articles_df.shape"
      ]
    },
    {
      "cell_type": "code",
      "execution_count": null,
      "metadata": {
        "colab": {
          "base_uri": "https://localhost:8080/",
          "height": 337
        },
        "id": "ruPI-C3dIw2O",
        "outputId": "f03988a7-f7f0-4f87-d9a4-2e7e5f937e18"
      },
      "outputs": [
        {
          "output_type": "execute_result",
          "data": {
            "text/plain": [
              "      contentId        eventType  \\\n",
              "0 -6.451310e+18  CONTENT REMOVED   \n",
              "1 -4.110354e+18   CONTENT SHARED   \n",
              "2 -7.292285e+18   CONTENT SHARED   \n",
              "3 -6.151852e+18   CONTENT SHARED   \n",
              "4  2.448027e+18   CONTENT SHARED   \n",
              "\n",
              "                                               title  \\\n",
              "0  Ethereum, a Virtual Currency, Enables Transact...   \n",
              "1  Ethereum, a Virtual Currency, Enables Transact...   \n",
              "2  Bitcoin Future: When GBPcoin of Branson Wins O...   \n",
              "3                       Google Data Center 360° Tour   \n",
              "4  IBM Wants to \"Evolve the Internet\" With Blockc...   \n",
              "\n",
              "                                                text lang  \n",
              "0  All of this work is still very early. The firs...   en  \n",
              "1  All of this work is still very early. The firs...   en  \n",
              "2  The alarm clock wakes me at 8:00 with stream o...   en  \n",
              "3  We're excited to share the Google Data Center ...   en  \n",
              "4  The Aite Group projects the blockchain market ...   en  "
            ],
            "text/html": [
              "\n",
              "  <div id=\"df-026eae3f-1c7c-4450-95f9-60400e5d2f5c\">\n",
              "    <div class=\"colab-df-container\">\n",
              "      <div>\n",
              "<style scoped>\n",
              "    .dataframe tbody tr th:only-of-type {\n",
              "        vertical-align: middle;\n",
              "    }\n",
              "\n",
              "    .dataframe tbody tr th {\n",
              "        vertical-align: top;\n",
              "    }\n",
              "\n",
              "    .dataframe thead th {\n",
              "        text-align: right;\n",
              "    }\n",
              "</style>\n",
              "<table border=\"1\" class=\"dataframe\">\n",
              "  <thead>\n",
              "    <tr style=\"text-align: right;\">\n",
              "      <th></th>\n",
              "      <th>contentId</th>\n",
              "      <th>eventType</th>\n",
              "      <th>title</th>\n",
              "      <th>text</th>\n",
              "      <th>lang</th>\n",
              "    </tr>\n",
              "  </thead>\n",
              "  <tbody>\n",
              "    <tr>\n",
              "      <th>0</th>\n",
              "      <td>-6.451310e+18</td>\n",
              "      <td>CONTENT REMOVED</td>\n",
              "      <td>Ethereum, a Virtual Currency, Enables Transact...</td>\n",
              "      <td>All of this work is still very early. The firs...</td>\n",
              "      <td>en</td>\n",
              "    </tr>\n",
              "    <tr>\n",
              "      <th>1</th>\n",
              "      <td>-4.110354e+18</td>\n",
              "      <td>CONTENT SHARED</td>\n",
              "      <td>Ethereum, a Virtual Currency, Enables Transact...</td>\n",
              "      <td>All of this work is still very early. The firs...</td>\n",
              "      <td>en</td>\n",
              "    </tr>\n",
              "    <tr>\n",
              "      <th>2</th>\n",
              "      <td>-7.292285e+18</td>\n",
              "      <td>CONTENT SHARED</td>\n",
              "      <td>Bitcoin Future: When GBPcoin of Branson Wins O...</td>\n",
              "      <td>The alarm clock wakes me at 8:00 with stream o...</td>\n",
              "      <td>en</td>\n",
              "    </tr>\n",
              "    <tr>\n",
              "      <th>3</th>\n",
              "      <td>-6.151852e+18</td>\n",
              "      <td>CONTENT SHARED</td>\n",
              "      <td>Google Data Center 360° Tour</td>\n",
              "      <td>We're excited to share the Google Data Center ...</td>\n",
              "      <td>en</td>\n",
              "    </tr>\n",
              "    <tr>\n",
              "      <th>4</th>\n",
              "      <td>2.448027e+18</td>\n",
              "      <td>CONTENT SHARED</td>\n",
              "      <td>IBM Wants to \"Evolve the Internet\" With Blockc...</td>\n",
              "      <td>The Aite Group projects the blockchain market ...</td>\n",
              "      <td>en</td>\n",
              "    </tr>\n",
              "  </tbody>\n",
              "</table>\n",
              "</div>\n",
              "      <button class=\"colab-df-convert\" onclick=\"convertToInteractive('df-026eae3f-1c7c-4450-95f9-60400e5d2f5c')\"\n",
              "              title=\"Convert this dataframe to an interactive table.\"\n",
              "              style=\"display:none;\">\n",
              "        \n",
              "  <svg xmlns=\"http://www.w3.org/2000/svg\" height=\"24px\"viewBox=\"0 0 24 24\"\n",
              "       width=\"24px\">\n",
              "    <path d=\"M0 0h24v24H0V0z\" fill=\"none\"/>\n",
              "    <path d=\"M18.56 5.44l.94 2.06.94-2.06 2.06-.94-2.06-.94-.94-2.06-.94 2.06-2.06.94zm-11 1L8.5 8.5l.94-2.06 2.06-.94-2.06-.94L8.5 2.5l-.94 2.06-2.06.94zm10 10l.94 2.06.94-2.06 2.06-.94-2.06-.94-.94-2.06-.94 2.06-2.06.94z\"/><path d=\"M17.41 7.96l-1.37-1.37c-.4-.4-.92-.59-1.43-.59-.52 0-1.04.2-1.43.59L10.3 9.45l-7.72 7.72c-.78.78-.78 2.05 0 2.83L4 21.41c.39.39.9.59 1.41.59.51 0 1.02-.2 1.41-.59l7.78-7.78 2.81-2.81c.8-.78.8-2.07 0-2.86zM5.41 20L4 18.59l7.72-7.72 1.47 1.35L5.41 20z\"/>\n",
              "  </svg>\n",
              "      </button>\n",
              "      \n",
              "  <style>\n",
              "    .colab-df-container {\n",
              "      display:flex;\n",
              "      flex-wrap:wrap;\n",
              "      gap: 12px;\n",
              "    }\n",
              "\n",
              "    .colab-df-convert {\n",
              "      background-color: #E8F0FE;\n",
              "      border: none;\n",
              "      border-radius: 50%;\n",
              "      cursor: pointer;\n",
              "      display: none;\n",
              "      fill: #1967D2;\n",
              "      height: 32px;\n",
              "      padding: 0 0 0 0;\n",
              "      width: 32px;\n",
              "    }\n",
              "\n",
              "    .colab-df-convert:hover {\n",
              "      background-color: #E2EBFA;\n",
              "      box-shadow: 0px 1px 2px rgba(60, 64, 67, 0.3), 0px 1px 3px 1px rgba(60, 64, 67, 0.15);\n",
              "      fill: #174EA6;\n",
              "    }\n",
              "\n",
              "    [theme=dark] .colab-df-convert {\n",
              "      background-color: #3B4455;\n",
              "      fill: #D2E3FC;\n",
              "    }\n",
              "\n",
              "    [theme=dark] .colab-df-convert:hover {\n",
              "      background-color: #434B5C;\n",
              "      box-shadow: 0px 1px 3px 1px rgba(0, 0, 0, 0.15);\n",
              "      filter: drop-shadow(0px 1px 2px rgba(0, 0, 0, 0.3));\n",
              "      fill: #FFFFFF;\n",
              "    }\n",
              "  </style>\n",
              "\n",
              "      <script>\n",
              "        const buttonEl =\n",
              "          document.querySelector('#df-026eae3f-1c7c-4450-95f9-60400e5d2f5c button.colab-df-convert');\n",
              "        buttonEl.style.display =\n",
              "          google.colab.kernel.accessAllowed ? 'block' : 'none';\n",
              "\n",
              "        async function convertToInteractive(key) {\n",
              "          const element = document.querySelector('#df-026eae3f-1c7c-4450-95f9-60400e5d2f5c');\n",
              "          const dataTable =\n",
              "            await google.colab.kernel.invokeFunction('convertToInteractive',\n",
              "                                                     [key], {});\n",
              "          if (!dataTable) return;\n",
              "\n",
              "          const docLinkHtml = 'Like what you see? Visit the ' +\n",
              "            '<a target=\"_blank\" href=https://colab.research.google.com/notebooks/data_table.ipynb>data table notebook</a>'\n",
              "            + ' to learn more about interactive tables.';\n",
              "          element.innerHTML = '';\n",
              "          dataTable['output_type'] = 'display_data';\n",
              "          await google.colab.output.renderOutput(dataTable, element);\n",
              "          const docLink = document.createElement('div');\n",
              "          docLink.innerHTML = docLinkHtml;\n",
              "          element.appendChild(docLink);\n",
              "        }\n",
              "      </script>\n",
              "    </div>\n",
              "  </div>\n",
              "  "
            ]
          },
          "metadata": {},
          "execution_count": 4
        }
      ],
      "source": [
        "articles_df.head()"
      ]
    },
    {
      "cell_type": "markdown",
      "metadata": {
        "id": "4uADvf4VI64L"
      },
      "source": [
        "Notice, from the `eventtype` column, that some of the content have been removed. Will have to drop such rows. Only content still available can be recommended."
      ]
    },
    {
      "cell_type": "code",
      "execution_count": null,
      "metadata": {
        "colab": {
          "base_uri": "https://localhost:8080/"
        },
        "id": "wnbgPFNFJRVa",
        "outputId": "03e7cf6e-c4a7-440e-98a1-987bd0e52c6d"
      },
      "outputs": [
        {
          "output_type": "stream",
          "name": "stdout",
          "text": [
            "<class 'pandas.core.frame.DataFrame'>\n",
            "RangeIndex: 3122 entries, 0 to 3121\n",
            "Data columns (total 5 columns):\n",
            " #   Column     Non-Null Count  Dtype  \n",
            "---  ------     --------------  -----  \n",
            " 0   contentId  3122 non-null   float64\n",
            " 1   eventType  3122 non-null   object \n",
            " 2   title      3122 non-null   object \n",
            " 3   text       3118 non-null   object \n",
            " 4   lang       3122 non-null   object \n",
            "dtypes: float64(1), object(4)\n",
            "memory usage: 122.1+ KB\n"
          ]
        }
      ],
      "source": [
        "articles_df.info()"
      ]
    },
    {
      "cell_type": "markdown",
      "metadata": {
        "id": "v2IQAVqzKeTa"
      },
      "source": [
        "There are missing values in the `text` column."
      ]
    },
    {
      "cell_type": "markdown",
      "metadata": {
        "id": "5IVea7gRK5Up"
      },
      "source": [
        "### __Preprocessing the data__\n",
        "\n",
        "Let's begin with checking for duplicate records, addressing missing values and dropping columns not relevant to building the recommender system."
      ]
    },
    {
      "cell_type": "code",
      "execution_count": null,
      "metadata": {
        "id": "1kBvsnMWMoQW"
      },
      "outputs": [],
      "source": [
        "# FIrst, filtering out rows with 'removed content' and excluding columns irrelevant to building the recommender system.\n",
        "\n",
        "shared_articles = articles_df.loc[articles_df.eventType == \"CONTENT SHARED\", [\"title\", \"text\", \"lang\"]]"
      ]
    },
    {
      "cell_type": "code",
      "execution_count": null,
      "metadata": {
        "colab": {
          "base_uri": "https://localhost:8080/",
          "height": 206
        },
        "id": "OUfVULTg3eTd",
        "outputId": "97946683-c76e-47a1-ae4f-152df155d52b"
      },
      "outputs": [
        {
          "output_type": "execute_result",
          "data": {
            "text/plain": [
              "                                               title  \\\n",
              "1  Ethereum, a Virtual Currency, Enables Transact...   \n",
              "2  Bitcoin Future: When GBPcoin of Branson Wins O...   \n",
              "3                       Google Data Center 360° Tour   \n",
              "4  IBM Wants to \"Evolve the Internet\" With Blockc...   \n",
              "5  IEEE to Talk Blockchain at Cloud Computing Oxf...   \n",
              "\n",
              "                                                text lang  \n",
              "1  All of this work is still very early. The firs...   en  \n",
              "2  The alarm clock wakes me at 8:00 with stream o...   en  \n",
              "3  We're excited to share the Google Data Center ...   en  \n",
              "4  The Aite Group projects the blockchain market ...   en  \n",
              "5  One of the largest and oldest organizations fo...   en  "
            ],
            "text/html": [
              "\n",
              "  <div id=\"df-8052d10e-a9d6-4e29-b74b-5964fb74b3f4\">\n",
              "    <div class=\"colab-df-container\">\n",
              "      <div>\n",
              "<style scoped>\n",
              "    .dataframe tbody tr th:only-of-type {\n",
              "        vertical-align: middle;\n",
              "    }\n",
              "\n",
              "    .dataframe tbody tr th {\n",
              "        vertical-align: top;\n",
              "    }\n",
              "\n",
              "    .dataframe thead th {\n",
              "        text-align: right;\n",
              "    }\n",
              "</style>\n",
              "<table border=\"1\" class=\"dataframe\">\n",
              "  <thead>\n",
              "    <tr style=\"text-align: right;\">\n",
              "      <th></th>\n",
              "      <th>title</th>\n",
              "      <th>text</th>\n",
              "      <th>lang</th>\n",
              "    </tr>\n",
              "  </thead>\n",
              "  <tbody>\n",
              "    <tr>\n",
              "      <th>1</th>\n",
              "      <td>Ethereum, a Virtual Currency, Enables Transact...</td>\n",
              "      <td>All of this work is still very early. The firs...</td>\n",
              "      <td>en</td>\n",
              "    </tr>\n",
              "    <tr>\n",
              "      <th>2</th>\n",
              "      <td>Bitcoin Future: When GBPcoin of Branson Wins O...</td>\n",
              "      <td>The alarm clock wakes me at 8:00 with stream o...</td>\n",
              "      <td>en</td>\n",
              "    </tr>\n",
              "    <tr>\n",
              "      <th>3</th>\n",
              "      <td>Google Data Center 360° Tour</td>\n",
              "      <td>We're excited to share the Google Data Center ...</td>\n",
              "      <td>en</td>\n",
              "    </tr>\n",
              "    <tr>\n",
              "      <th>4</th>\n",
              "      <td>IBM Wants to \"Evolve the Internet\" With Blockc...</td>\n",
              "      <td>The Aite Group projects the blockchain market ...</td>\n",
              "      <td>en</td>\n",
              "    </tr>\n",
              "    <tr>\n",
              "      <th>5</th>\n",
              "      <td>IEEE to Talk Blockchain at Cloud Computing Oxf...</td>\n",
              "      <td>One of the largest and oldest organizations fo...</td>\n",
              "      <td>en</td>\n",
              "    </tr>\n",
              "  </tbody>\n",
              "</table>\n",
              "</div>\n",
              "      <button class=\"colab-df-convert\" onclick=\"convertToInteractive('df-8052d10e-a9d6-4e29-b74b-5964fb74b3f4')\"\n",
              "              title=\"Convert this dataframe to an interactive table.\"\n",
              "              style=\"display:none;\">\n",
              "        \n",
              "  <svg xmlns=\"http://www.w3.org/2000/svg\" height=\"24px\"viewBox=\"0 0 24 24\"\n",
              "       width=\"24px\">\n",
              "    <path d=\"M0 0h24v24H0V0z\" fill=\"none\"/>\n",
              "    <path d=\"M18.56 5.44l.94 2.06.94-2.06 2.06-.94-2.06-.94-.94-2.06-.94 2.06-2.06.94zm-11 1L8.5 8.5l.94-2.06 2.06-.94-2.06-.94L8.5 2.5l-.94 2.06-2.06.94zm10 10l.94 2.06.94-2.06 2.06-.94-2.06-.94-.94-2.06-.94 2.06-2.06.94z\"/><path d=\"M17.41 7.96l-1.37-1.37c-.4-.4-.92-.59-1.43-.59-.52 0-1.04.2-1.43.59L10.3 9.45l-7.72 7.72c-.78.78-.78 2.05 0 2.83L4 21.41c.39.39.9.59 1.41.59.51 0 1.02-.2 1.41-.59l7.78-7.78 2.81-2.81c.8-.78.8-2.07 0-2.86zM5.41 20L4 18.59l7.72-7.72 1.47 1.35L5.41 20z\"/>\n",
              "  </svg>\n",
              "      </button>\n",
              "      \n",
              "  <style>\n",
              "    .colab-df-container {\n",
              "      display:flex;\n",
              "      flex-wrap:wrap;\n",
              "      gap: 12px;\n",
              "    }\n",
              "\n",
              "    .colab-df-convert {\n",
              "      background-color: #E8F0FE;\n",
              "      border: none;\n",
              "      border-radius: 50%;\n",
              "      cursor: pointer;\n",
              "      display: none;\n",
              "      fill: #1967D2;\n",
              "      height: 32px;\n",
              "      padding: 0 0 0 0;\n",
              "      width: 32px;\n",
              "    }\n",
              "\n",
              "    .colab-df-convert:hover {\n",
              "      background-color: #E2EBFA;\n",
              "      box-shadow: 0px 1px 2px rgba(60, 64, 67, 0.3), 0px 1px 3px 1px rgba(60, 64, 67, 0.15);\n",
              "      fill: #174EA6;\n",
              "    }\n",
              "\n",
              "    [theme=dark] .colab-df-convert {\n",
              "      background-color: #3B4455;\n",
              "      fill: #D2E3FC;\n",
              "    }\n",
              "\n",
              "    [theme=dark] .colab-df-convert:hover {\n",
              "      background-color: #434B5C;\n",
              "      box-shadow: 0px 1px 3px 1px rgba(0, 0, 0, 0.15);\n",
              "      filter: drop-shadow(0px 1px 2px rgba(0, 0, 0, 0.3));\n",
              "      fill: #FFFFFF;\n",
              "    }\n",
              "  </style>\n",
              "\n",
              "      <script>\n",
              "        const buttonEl =\n",
              "          document.querySelector('#df-8052d10e-a9d6-4e29-b74b-5964fb74b3f4 button.colab-df-convert');\n",
              "        buttonEl.style.display =\n",
              "          google.colab.kernel.accessAllowed ? 'block' : 'none';\n",
              "\n",
              "        async function convertToInteractive(key) {\n",
              "          const element = document.querySelector('#df-8052d10e-a9d6-4e29-b74b-5964fb74b3f4');\n",
              "          const dataTable =\n",
              "            await google.colab.kernel.invokeFunction('convertToInteractive',\n",
              "                                                     [key], {});\n",
              "          if (!dataTable) return;\n",
              "\n",
              "          const docLinkHtml = 'Like what you see? Visit the ' +\n",
              "            '<a target=\"_blank\" href=https://colab.research.google.com/notebooks/data_table.ipynb>data table notebook</a>'\n",
              "            + ' to learn more about interactive tables.';\n",
              "          element.innerHTML = '';\n",
              "          dataTable['output_type'] = 'display_data';\n",
              "          await google.colab.output.renderOutput(dataTable, element);\n",
              "          const docLink = document.createElement('div');\n",
              "          docLink.innerHTML = docLinkHtml;\n",
              "          element.appendChild(docLink);\n",
              "        }\n",
              "      </script>\n",
              "    </div>\n",
              "  </div>\n",
              "  "
            ]
          },
          "metadata": {},
          "execution_count": 7
        }
      ],
      "source": [
        "shared_articles.head()"
      ]
    },
    {
      "cell_type": "code",
      "execution_count": null,
      "metadata": {
        "colab": {
          "base_uri": "https://localhost:8080/"
        },
        "id": "WBxdFck-5rLc",
        "outputId": "437f261c-b2e9-487b-d9c6-4b82689aebe0"
      },
      "outputs": [
        {
          "output_type": "execute_result",
          "data": {
            "text/plain": [
              "(3047, 3)"
            ]
          },
          "metadata": {},
          "execution_count": 8
        }
      ],
      "source": [
        "shared_articles.shape"
      ]
    },
    {
      "cell_type": "code",
      "execution_count": null,
      "metadata": {
        "colab": {
          "base_uri": "https://localhost:8080/"
        },
        "id": "1PaWSqBVK8Br",
        "outputId": "9136833f-ff3d-49c3-a2e2-984267a58894"
      },
      "outputs": [
        {
          "output_type": "execute_result",
          "data": {
            "text/plain": [
              "30"
            ]
          },
          "metadata": {},
          "execution_count": 9
        }
      ],
      "source": [
        "# Checking for duplicate records\n",
        "\n",
        "shared_articles.duplicated().sum()"
      ]
    },
    {
      "cell_type": "code",
      "execution_count": null,
      "metadata": {
        "colab": {
          "base_uri": "https://localhost:8080/"
        },
        "id": "CXT8oe7h3__y",
        "outputId": "2dae821d-705c-4e38-e528-84fbbb744d53"
      },
      "outputs": [
        {
          "output_type": "execute_result",
          "data": {
            "text/plain": [
              "(3017, 3)"
            ]
          },
          "metadata": {},
          "execution_count": 10
        }
      ],
      "source": [
        "# Dropping duplicate records\n",
        "\n",
        "shared_articles.drop_duplicates(inplace = True)\n",
        "\n",
        "# confirming that duplicate records were dropped\n",
        "\n",
        "shared_articles.shape"
      ]
    },
    {
      "cell_type": "code",
      "execution_count": null,
      "metadata": {
        "colab": {
          "base_uri": "https://localhost:8080/"
        },
        "id": "cGn_I7VI5_Xp",
        "outputId": "173f6b05-c980-49c3-c897-c5d136aa5320"
      },
      "outputs": [
        {
          "output_type": "execute_result",
          "data": {
            "text/plain": [
              "title    0\n",
              "text     4\n",
              "lang     0\n",
              "dtype: int64"
            ]
          },
          "metadata": {},
          "execution_count": 11
        }
      ],
      "source": [
        "# Addressing missing values. \n",
        "# We already got some hint about the presence of some missing values in the `text` column earlier. Let's confirm.\n",
        "\n",
        "shared_articles.isna().sum()"
      ]
    },
    {
      "cell_type": "code",
      "execution_count": null,
      "metadata": {
        "id": "-CXDVXhh31fW"
      },
      "outputs": [],
      "source": [
        "# There are missing values in the `text` column. This column is the most important in the project so, the text in some rows cannot be missing. Dropping these rows.\n",
        "\n",
        "shared_articles.dropna(inplace = True)"
      ]
    },
    {
      "cell_type": "code",
      "execution_count": null,
      "metadata": {
        "colab": {
          "base_uri": "https://localhost:8080/"
        },
        "id": "iXTAPEsUAP1M",
        "outputId": "4bd51d79-6539-4ae9-b5b9-2be3de41a750"
      },
      "outputs": [
        {
          "output_type": "execute_result",
          "data": {
            "text/plain": [
              "(3013, 3)"
            ]
          },
          "metadata": {},
          "execution_count": 13
        }
      ],
      "source": [
        "# Confirming removal of rows with missing values in the `text` column.\n",
        "shared_articles.shape"
      ]
    },
    {
      "cell_type": "code",
      "execution_count": null,
      "metadata": {
        "colab": {
          "base_uri": "https://localhost:8080/"
        },
        "id": "wj9WJ_Xp8y1-",
        "outputId": "6f050085-087d-46a6-ce7c-8dcb2123d577"
      },
      "outputs": [
        {
          "output_type": "execute_result",
          "data": {
            "text/plain": [
              "en    2182\n",
              "pt     824\n",
              "la       3\n",
              "es       2\n",
              "ja       2\n",
              "Name: lang, dtype: int64"
            ]
          },
          "metadata": {},
          "execution_count": 14
        }
      ],
      "source": [
        "# Checking what languages the content are written in. Are they all written in english or there are content in other languages?\n",
        "\n",
        "shared_articles.lang.value_counts()"
      ]
    },
    {
      "cell_type": "code",
      "execution_count": null,
      "metadata": {
        "id": "7Q11WazDcJ2E"
      },
      "outputs": [],
      "source": [
        "# excluding rows of content not in english.\n",
        "\n",
        "articles_eng = shared_articles[shared_articles.lang == \"en\"].reset_index(drop = True)"
      ]
    },
    {
      "cell_type": "code",
      "execution_count": null,
      "metadata": {
        "colab": {
          "base_uri": "https://localhost:8080/",
          "height": 206
        },
        "id": "sDemiFCXwHrV",
        "outputId": "d0d161ab-5f6c-4036-cd56-036f25a6aae3"
      },
      "outputs": [
        {
          "output_type": "execute_result",
          "data": {
            "text/plain": [
              "                                               title  \\\n",
              "0  Ethereum, a Virtual Currency, Enables Transact...   \n",
              "1  Bitcoin Future: When GBPcoin of Branson Wins O...   \n",
              "2                       Google Data Center 360° Tour   \n",
              "3  IBM Wants to \"Evolve the Internet\" With Blockc...   \n",
              "4  IEEE to Talk Blockchain at Cloud Computing Oxf...   \n",
              "\n",
              "                                                text lang  \n",
              "0  All of this work is still very early. The firs...   en  \n",
              "1  The alarm clock wakes me at 8:00 with stream o...   en  \n",
              "2  We're excited to share the Google Data Center ...   en  \n",
              "3  The Aite Group projects the blockchain market ...   en  \n",
              "4  One of the largest and oldest organizations fo...   en  "
            ],
            "text/html": [
              "\n",
              "  <div id=\"df-1d072a66-07ed-46dd-b845-9485d26cc0ec\">\n",
              "    <div class=\"colab-df-container\">\n",
              "      <div>\n",
              "<style scoped>\n",
              "    .dataframe tbody tr th:only-of-type {\n",
              "        vertical-align: middle;\n",
              "    }\n",
              "\n",
              "    .dataframe tbody tr th {\n",
              "        vertical-align: top;\n",
              "    }\n",
              "\n",
              "    .dataframe thead th {\n",
              "        text-align: right;\n",
              "    }\n",
              "</style>\n",
              "<table border=\"1\" class=\"dataframe\">\n",
              "  <thead>\n",
              "    <tr style=\"text-align: right;\">\n",
              "      <th></th>\n",
              "      <th>title</th>\n",
              "      <th>text</th>\n",
              "      <th>lang</th>\n",
              "    </tr>\n",
              "  </thead>\n",
              "  <tbody>\n",
              "    <tr>\n",
              "      <th>0</th>\n",
              "      <td>Ethereum, a Virtual Currency, Enables Transact...</td>\n",
              "      <td>All of this work is still very early. The firs...</td>\n",
              "      <td>en</td>\n",
              "    </tr>\n",
              "    <tr>\n",
              "      <th>1</th>\n",
              "      <td>Bitcoin Future: When GBPcoin of Branson Wins O...</td>\n",
              "      <td>The alarm clock wakes me at 8:00 with stream o...</td>\n",
              "      <td>en</td>\n",
              "    </tr>\n",
              "    <tr>\n",
              "      <th>2</th>\n",
              "      <td>Google Data Center 360° Tour</td>\n",
              "      <td>We're excited to share the Google Data Center ...</td>\n",
              "      <td>en</td>\n",
              "    </tr>\n",
              "    <tr>\n",
              "      <th>3</th>\n",
              "      <td>IBM Wants to \"Evolve the Internet\" With Blockc...</td>\n",
              "      <td>The Aite Group projects the blockchain market ...</td>\n",
              "      <td>en</td>\n",
              "    </tr>\n",
              "    <tr>\n",
              "      <th>4</th>\n",
              "      <td>IEEE to Talk Blockchain at Cloud Computing Oxf...</td>\n",
              "      <td>One of the largest and oldest organizations fo...</td>\n",
              "      <td>en</td>\n",
              "    </tr>\n",
              "  </tbody>\n",
              "</table>\n",
              "</div>\n",
              "      <button class=\"colab-df-convert\" onclick=\"convertToInteractive('df-1d072a66-07ed-46dd-b845-9485d26cc0ec')\"\n",
              "              title=\"Convert this dataframe to an interactive table.\"\n",
              "              style=\"display:none;\">\n",
              "        \n",
              "  <svg xmlns=\"http://www.w3.org/2000/svg\" height=\"24px\"viewBox=\"0 0 24 24\"\n",
              "       width=\"24px\">\n",
              "    <path d=\"M0 0h24v24H0V0z\" fill=\"none\"/>\n",
              "    <path d=\"M18.56 5.44l.94 2.06.94-2.06 2.06-.94-2.06-.94-.94-2.06-.94 2.06-2.06.94zm-11 1L8.5 8.5l.94-2.06 2.06-.94-2.06-.94L8.5 2.5l-.94 2.06-2.06.94zm10 10l.94 2.06.94-2.06 2.06-.94-2.06-.94-.94-2.06-.94 2.06-2.06.94z\"/><path d=\"M17.41 7.96l-1.37-1.37c-.4-.4-.92-.59-1.43-.59-.52 0-1.04.2-1.43.59L10.3 9.45l-7.72 7.72c-.78.78-.78 2.05 0 2.83L4 21.41c.39.39.9.59 1.41.59.51 0 1.02-.2 1.41-.59l7.78-7.78 2.81-2.81c.8-.78.8-2.07 0-2.86zM5.41 20L4 18.59l7.72-7.72 1.47 1.35L5.41 20z\"/>\n",
              "  </svg>\n",
              "      </button>\n",
              "      \n",
              "  <style>\n",
              "    .colab-df-container {\n",
              "      display:flex;\n",
              "      flex-wrap:wrap;\n",
              "      gap: 12px;\n",
              "    }\n",
              "\n",
              "    .colab-df-convert {\n",
              "      background-color: #E8F0FE;\n",
              "      border: none;\n",
              "      border-radius: 50%;\n",
              "      cursor: pointer;\n",
              "      display: none;\n",
              "      fill: #1967D2;\n",
              "      height: 32px;\n",
              "      padding: 0 0 0 0;\n",
              "      width: 32px;\n",
              "    }\n",
              "\n",
              "    .colab-df-convert:hover {\n",
              "      background-color: #E2EBFA;\n",
              "      box-shadow: 0px 1px 2px rgba(60, 64, 67, 0.3), 0px 1px 3px 1px rgba(60, 64, 67, 0.15);\n",
              "      fill: #174EA6;\n",
              "    }\n",
              "\n",
              "    [theme=dark] .colab-df-convert {\n",
              "      background-color: #3B4455;\n",
              "      fill: #D2E3FC;\n",
              "    }\n",
              "\n",
              "    [theme=dark] .colab-df-convert:hover {\n",
              "      background-color: #434B5C;\n",
              "      box-shadow: 0px 1px 3px 1px rgba(0, 0, 0, 0.15);\n",
              "      filter: drop-shadow(0px 1px 2px rgba(0, 0, 0, 0.3));\n",
              "      fill: #FFFFFF;\n",
              "    }\n",
              "  </style>\n",
              "\n",
              "      <script>\n",
              "        const buttonEl =\n",
              "          document.querySelector('#df-1d072a66-07ed-46dd-b845-9485d26cc0ec button.colab-df-convert');\n",
              "        buttonEl.style.display =\n",
              "          google.colab.kernel.accessAllowed ? 'block' : 'none';\n",
              "\n",
              "        async function convertToInteractive(key) {\n",
              "          const element = document.querySelector('#df-1d072a66-07ed-46dd-b845-9485d26cc0ec');\n",
              "          const dataTable =\n",
              "            await google.colab.kernel.invokeFunction('convertToInteractive',\n",
              "                                                     [key], {});\n",
              "          if (!dataTable) return;\n",
              "\n",
              "          const docLinkHtml = 'Like what you see? Visit the ' +\n",
              "            '<a target=\"_blank\" href=https://colab.research.google.com/notebooks/data_table.ipynb>data table notebook</a>'\n",
              "            + ' to learn more about interactive tables.';\n",
              "          element.innerHTML = '';\n",
              "          dataTable['output_type'] = 'display_data';\n",
              "          await google.colab.output.renderOutput(dataTable, element);\n",
              "          const docLink = document.createElement('div');\n",
              "          docLink.innerHTML = docLinkHtml;\n",
              "          element.appendChild(docLink);\n",
              "        }\n",
              "      </script>\n",
              "    </div>\n",
              "  </div>\n",
              "  "
            ]
          },
          "metadata": {},
          "execution_count": 16
        }
      ],
      "source": [
        "articles_eng.head()"
      ]
    },
    {
      "cell_type": "markdown",
      "metadata": {
        "id": "S2DEcWaLA406"
      },
      "source": [
        "Now, I'll combine the `title`, `text` and `language` columns into one. The engine we want to build is a recommender system, so every textual data relating to a content- including those in the title- and the context around it, can play a role in pointing to which set of other content are related to it. I'll drop the drop the individual `title` and `lang` columns after the combination."
      ]
    },
    {
      "cell_type": "code",
      "execution_count": null,
      "metadata": {
        "id": "BV3XVZr3Azyg"
      },
      "outputs": [],
      "source": [
        "# Combining the three columns: `title`, `text`, `lang`\n",
        "\n",
        "articles_eng[\"text\"] = articles_eng.title + \" \" + articles_eng.text + articles_eng.lang\n",
        "\n",
        "articles_eng.drop([\"title\", \"lang\"], axis = 1, inplace = True)"
      ]
    },
    {
      "cell_type": "code",
      "source": [
        "articles_eng.head()"
      ],
      "metadata": {
        "colab": {
          "base_uri": "https://localhost:8080/",
          "height": 206
        },
        "id": "-yop5RsaPK4y",
        "outputId": "3a144f70-93b8-4719-c38a-21d982600ddc"
      },
      "execution_count": null,
      "outputs": [
        {
          "output_type": "execute_result",
          "data": {
            "text/plain": [
              "                                                text\n",
              "0  Ethereum, a Virtual Currency, Enables Transact...\n",
              "1  Bitcoin Future: When GBPcoin of Branson Wins O...\n",
              "2  Google Data Center 360° Tour We're excited to ...\n",
              "3  IBM Wants to \"Evolve the Internet\" With Blockc...\n",
              "4  IEEE to Talk Blockchain at Cloud Computing Oxf..."
            ],
            "text/html": [
              "\n",
              "  <div id=\"df-0054deef-53a9-45f8-98d4-554c028fe647\">\n",
              "    <div class=\"colab-df-container\">\n",
              "      <div>\n",
              "<style scoped>\n",
              "    .dataframe tbody tr th:only-of-type {\n",
              "        vertical-align: middle;\n",
              "    }\n",
              "\n",
              "    .dataframe tbody tr th {\n",
              "        vertical-align: top;\n",
              "    }\n",
              "\n",
              "    .dataframe thead th {\n",
              "        text-align: right;\n",
              "    }\n",
              "</style>\n",
              "<table border=\"1\" class=\"dataframe\">\n",
              "  <thead>\n",
              "    <tr style=\"text-align: right;\">\n",
              "      <th></th>\n",
              "      <th>text</th>\n",
              "    </tr>\n",
              "  </thead>\n",
              "  <tbody>\n",
              "    <tr>\n",
              "      <th>0</th>\n",
              "      <td>Ethereum, a Virtual Currency, Enables Transact...</td>\n",
              "    </tr>\n",
              "    <tr>\n",
              "      <th>1</th>\n",
              "      <td>Bitcoin Future: When GBPcoin of Branson Wins O...</td>\n",
              "    </tr>\n",
              "    <tr>\n",
              "      <th>2</th>\n",
              "      <td>Google Data Center 360° Tour We're excited to ...</td>\n",
              "    </tr>\n",
              "    <tr>\n",
              "      <th>3</th>\n",
              "      <td>IBM Wants to \"Evolve the Internet\" With Blockc...</td>\n",
              "    </tr>\n",
              "    <tr>\n",
              "      <th>4</th>\n",
              "      <td>IEEE to Talk Blockchain at Cloud Computing Oxf...</td>\n",
              "    </tr>\n",
              "  </tbody>\n",
              "</table>\n",
              "</div>\n",
              "      <button class=\"colab-df-convert\" onclick=\"convertToInteractive('df-0054deef-53a9-45f8-98d4-554c028fe647')\"\n",
              "              title=\"Convert this dataframe to an interactive table.\"\n",
              "              style=\"display:none;\">\n",
              "        \n",
              "  <svg xmlns=\"http://www.w3.org/2000/svg\" height=\"24px\"viewBox=\"0 0 24 24\"\n",
              "       width=\"24px\">\n",
              "    <path d=\"M0 0h24v24H0V0z\" fill=\"none\"/>\n",
              "    <path d=\"M18.56 5.44l.94 2.06.94-2.06 2.06-.94-2.06-.94-.94-2.06-.94 2.06-2.06.94zm-11 1L8.5 8.5l.94-2.06 2.06-.94-2.06-.94L8.5 2.5l-.94 2.06-2.06.94zm10 10l.94 2.06.94-2.06 2.06-.94-2.06-.94-.94-2.06-.94 2.06-2.06.94z\"/><path d=\"M17.41 7.96l-1.37-1.37c-.4-.4-.92-.59-1.43-.59-.52 0-1.04.2-1.43.59L10.3 9.45l-7.72 7.72c-.78.78-.78 2.05 0 2.83L4 21.41c.39.39.9.59 1.41.59.51 0 1.02-.2 1.41-.59l7.78-7.78 2.81-2.81c.8-.78.8-2.07 0-2.86zM5.41 20L4 18.59l7.72-7.72 1.47 1.35L5.41 20z\"/>\n",
              "  </svg>\n",
              "      </button>\n",
              "      \n",
              "  <style>\n",
              "    .colab-df-container {\n",
              "      display:flex;\n",
              "      flex-wrap:wrap;\n",
              "      gap: 12px;\n",
              "    }\n",
              "\n",
              "    .colab-df-convert {\n",
              "      background-color: #E8F0FE;\n",
              "      border: none;\n",
              "      border-radius: 50%;\n",
              "      cursor: pointer;\n",
              "      display: none;\n",
              "      fill: #1967D2;\n",
              "      height: 32px;\n",
              "      padding: 0 0 0 0;\n",
              "      width: 32px;\n",
              "    }\n",
              "\n",
              "    .colab-df-convert:hover {\n",
              "      background-color: #E2EBFA;\n",
              "      box-shadow: 0px 1px 2px rgba(60, 64, 67, 0.3), 0px 1px 3px 1px rgba(60, 64, 67, 0.15);\n",
              "      fill: #174EA6;\n",
              "    }\n",
              "\n",
              "    [theme=dark] .colab-df-convert {\n",
              "      background-color: #3B4455;\n",
              "      fill: #D2E3FC;\n",
              "    }\n",
              "\n",
              "    [theme=dark] .colab-df-convert:hover {\n",
              "      background-color: #434B5C;\n",
              "      box-shadow: 0px 1px 3px 1px rgba(0, 0, 0, 0.15);\n",
              "      filter: drop-shadow(0px 1px 2px rgba(0, 0, 0, 0.3));\n",
              "      fill: #FFFFFF;\n",
              "    }\n",
              "  </style>\n",
              "\n",
              "      <script>\n",
              "        const buttonEl =\n",
              "          document.querySelector('#df-0054deef-53a9-45f8-98d4-554c028fe647 button.colab-df-convert');\n",
              "        buttonEl.style.display =\n",
              "          google.colab.kernel.accessAllowed ? 'block' : 'none';\n",
              "\n",
              "        async function convertToInteractive(key) {\n",
              "          const element = document.querySelector('#df-0054deef-53a9-45f8-98d4-554c028fe647');\n",
              "          const dataTable =\n",
              "            await google.colab.kernel.invokeFunction('convertToInteractive',\n",
              "                                                     [key], {});\n",
              "          if (!dataTable) return;\n",
              "\n",
              "          const docLinkHtml = 'Like what you see? Visit the ' +\n",
              "            '<a target=\"_blank\" href=https://colab.research.google.com/notebooks/data_table.ipynb>data table notebook</a>'\n",
              "            + ' to learn more about interactive tables.';\n",
              "          element.innerHTML = '';\n",
              "          dataTable['output_type'] = 'display_data';\n",
              "          await google.colab.output.renderOutput(dataTable, element);\n",
              "          const docLink = document.createElement('div');\n",
              "          docLink.innerHTML = docLinkHtml;\n",
              "          element.appendChild(docLink);\n",
              "        }\n",
              "      </script>\n",
              "    </div>\n",
              "  </div>\n",
              "  "
            ]
          },
          "metadata": {},
          "execution_count": 18
        }
      ]
    },
    {
      "cell_type": "markdown",
      "source": [
        "Next prepocessing steps\n",
        "* Remove punctuation\n",
        "* Standardize - in this case, conversion to lowercase\n",
        "* Tokenize\n",
        "* Remove stopwords\n",
        "* Stem\n",
        "\n",
        "We can achieve all these steps with a function."
      ],
      "metadata": {
        "id": "xvdFLLk0mpAu"
      }
    },
    {
      "cell_type": "code",
      "source": [
        "eng_stopwords = stopwords.words(\"english\")\n",
        "lem = WordNetLemmatizer()"
      ],
      "metadata": {
        "id": "6bQAGfL11gxb"
      },
      "execution_count": null,
      "outputs": []
    },
    {
      "cell_type": "code",
      "source": [
        "# Making a copy of the dataframe before applying these steps\n",
        "\n",
        "articles_eng2 = articles_eng.copy()"
      ],
      "metadata": {
        "id": "cL0D1EPiBhhk"
      },
      "execution_count": null,
      "outputs": []
    },
    {
      "cell_type": "code",
      "source": [
        "# text cleaning function\n",
        "\n",
        "def cleantext(text):\n",
        "    text = re.sub(\"[^A-Za-z0-9 ]\", \"\", text)           \n",
        "    text = text.lower()                                 \n",
        "    tokens = word_tokenize(text)                        \n",
        "    cleaned_txt = []                                    \n",
        "    for token in tokens:                                \n",
        "        if token not in eng_stopwords:                  # removing stopwords because, typically, a recommender system will consider related keywords to recommend\n",
        "            cleaned_txt.append(lem.lemmatize(token))   \n",
        "    return \" \".join(cleaned_txt)"
      ],
      "metadata": {
        "id": "pIj_i9P3ogc3"
      },
      "execution_count": null,
      "outputs": []
    },
    {
      "cell_type": "code",
      "source": [
        "articles_eng2[\"text\"] = articles_eng2.text.apply(cleantext)"
      ],
      "metadata": {
        "id": "sECOmMUN_G5b"
      },
      "execution_count": null,
      "outputs": []
    },
    {
      "cell_type": "code",
      "source": [
        "articles_eng2.head()"
      ],
      "metadata": {
        "colab": {
          "base_uri": "https://localhost:8080/",
          "height": 206
        },
        "id": "5hQyynPeQ4kb",
        "outputId": "3362dc47-5339-416f-b772-6a223f74715d"
      },
      "execution_count": null,
      "outputs": [
        {
          "output_type": "execute_result",
          "data": {
            "text/plain": [
              "                                                text\n",
              "0  ethereum virtual currency enables transaction ...\n",
              "1  bitcoin future gbpcoin branson win usdcoin tru...\n",
              "2  google data center 360 tour excited share goog...\n",
              "3  ibm want evolve internet blockchain technology...\n",
              "4  ieee talk blockchain cloud computing oxfordcon..."
            ],
            "text/html": [
              "\n",
              "  <div id=\"df-33f5574c-a334-4978-afd3-2f862309323c\">\n",
              "    <div class=\"colab-df-container\">\n",
              "      <div>\n",
              "<style scoped>\n",
              "    .dataframe tbody tr th:only-of-type {\n",
              "        vertical-align: middle;\n",
              "    }\n",
              "\n",
              "    .dataframe tbody tr th {\n",
              "        vertical-align: top;\n",
              "    }\n",
              "\n",
              "    .dataframe thead th {\n",
              "        text-align: right;\n",
              "    }\n",
              "</style>\n",
              "<table border=\"1\" class=\"dataframe\">\n",
              "  <thead>\n",
              "    <tr style=\"text-align: right;\">\n",
              "      <th></th>\n",
              "      <th>text</th>\n",
              "    </tr>\n",
              "  </thead>\n",
              "  <tbody>\n",
              "    <tr>\n",
              "      <th>0</th>\n",
              "      <td>ethereum virtual currency enables transaction ...</td>\n",
              "    </tr>\n",
              "    <tr>\n",
              "      <th>1</th>\n",
              "      <td>bitcoin future gbpcoin branson win usdcoin tru...</td>\n",
              "    </tr>\n",
              "    <tr>\n",
              "      <th>2</th>\n",
              "      <td>google data center 360 tour excited share goog...</td>\n",
              "    </tr>\n",
              "    <tr>\n",
              "      <th>3</th>\n",
              "      <td>ibm want evolve internet blockchain technology...</td>\n",
              "    </tr>\n",
              "    <tr>\n",
              "      <th>4</th>\n",
              "      <td>ieee talk blockchain cloud computing oxfordcon...</td>\n",
              "    </tr>\n",
              "  </tbody>\n",
              "</table>\n",
              "</div>\n",
              "      <button class=\"colab-df-convert\" onclick=\"convertToInteractive('df-33f5574c-a334-4978-afd3-2f862309323c')\"\n",
              "              title=\"Convert this dataframe to an interactive table.\"\n",
              "              style=\"display:none;\">\n",
              "        \n",
              "  <svg xmlns=\"http://www.w3.org/2000/svg\" height=\"24px\"viewBox=\"0 0 24 24\"\n",
              "       width=\"24px\">\n",
              "    <path d=\"M0 0h24v24H0V0z\" fill=\"none\"/>\n",
              "    <path d=\"M18.56 5.44l.94 2.06.94-2.06 2.06-.94-2.06-.94-.94-2.06-.94 2.06-2.06.94zm-11 1L8.5 8.5l.94-2.06 2.06-.94-2.06-.94L8.5 2.5l-.94 2.06-2.06.94zm10 10l.94 2.06.94-2.06 2.06-.94-2.06-.94-.94-2.06-.94 2.06-2.06.94z\"/><path d=\"M17.41 7.96l-1.37-1.37c-.4-.4-.92-.59-1.43-.59-.52 0-1.04.2-1.43.59L10.3 9.45l-7.72 7.72c-.78.78-.78 2.05 0 2.83L4 21.41c.39.39.9.59 1.41.59.51 0 1.02-.2 1.41-.59l7.78-7.78 2.81-2.81c.8-.78.8-2.07 0-2.86zM5.41 20L4 18.59l7.72-7.72 1.47 1.35L5.41 20z\"/>\n",
              "  </svg>\n",
              "      </button>\n",
              "      \n",
              "  <style>\n",
              "    .colab-df-container {\n",
              "      display:flex;\n",
              "      flex-wrap:wrap;\n",
              "      gap: 12px;\n",
              "    }\n",
              "\n",
              "    .colab-df-convert {\n",
              "      background-color: #E8F0FE;\n",
              "      border: none;\n",
              "      border-radius: 50%;\n",
              "      cursor: pointer;\n",
              "      display: none;\n",
              "      fill: #1967D2;\n",
              "      height: 32px;\n",
              "      padding: 0 0 0 0;\n",
              "      width: 32px;\n",
              "    }\n",
              "\n",
              "    .colab-df-convert:hover {\n",
              "      background-color: #E2EBFA;\n",
              "      box-shadow: 0px 1px 2px rgba(60, 64, 67, 0.3), 0px 1px 3px 1px rgba(60, 64, 67, 0.15);\n",
              "      fill: #174EA6;\n",
              "    }\n",
              "\n",
              "    [theme=dark] .colab-df-convert {\n",
              "      background-color: #3B4455;\n",
              "      fill: #D2E3FC;\n",
              "    }\n",
              "\n",
              "    [theme=dark] .colab-df-convert:hover {\n",
              "      background-color: #434B5C;\n",
              "      box-shadow: 0px 1px 3px 1px rgba(0, 0, 0, 0.15);\n",
              "      filter: drop-shadow(0px 1px 2px rgba(0, 0, 0, 0.3));\n",
              "      fill: #FFFFFF;\n",
              "    }\n",
              "  </style>\n",
              "\n",
              "      <script>\n",
              "        const buttonEl =\n",
              "          document.querySelector('#df-33f5574c-a334-4978-afd3-2f862309323c button.colab-df-convert');\n",
              "        buttonEl.style.display =\n",
              "          google.colab.kernel.accessAllowed ? 'block' : 'none';\n",
              "\n",
              "        async function convertToInteractive(key) {\n",
              "          const element = document.querySelector('#df-33f5574c-a334-4978-afd3-2f862309323c');\n",
              "          const dataTable =\n",
              "            await google.colab.kernel.invokeFunction('convertToInteractive',\n",
              "                                                     [key], {});\n",
              "          if (!dataTable) return;\n",
              "\n",
              "          const docLinkHtml = 'Like what you see? Visit the ' +\n",
              "            '<a target=\"_blank\" href=https://colab.research.google.com/notebooks/data_table.ipynb>data table notebook</a>'\n",
              "            + ' to learn more about interactive tables.';\n",
              "          element.innerHTML = '';\n",
              "          dataTable['output_type'] = 'display_data';\n",
              "          await google.colab.output.renderOutput(dataTable, element);\n",
              "          const docLink = document.createElement('div');\n",
              "          docLink.innerHTML = docLinkHtml;\n",
              "          element.appendChild(docLink);\n",
              "        }\n",
              "      </script>\n",
              "    </div>\n",
              "  </div>\n",
              "  "
            ]
          },
          "metadata": {},
          "execution_count": 23
        }
      ]
    },
    {
      "cell_type": "markdown",
      "source": [
        "__Feature encoding__\n",
        "\n",
        "\n",
        "In this case, vectorization- Converting the text data to numeric\n",
        "\n",
        "The result is usually a sparse matrix. Most of the values in it are zeros so, in the matrix, only the location of none-zero values are stored. This is to save space. But when the matrix is converted to an array (ndarray), the zeros can be seen."
      ],
      "metadata": {
        "id": "1Ou-9aRV2vEE"
      }
    },
    {
      "cell_type": "code",
      "source": [
        "encoder = TfidfVectorizer()"
      ],
      "metadata": {
        "id": "G4WFbISP1X3p"
      },
      "execution_count": null,
      "outputs": []
    },
    {
      "cell_type": "code",
      "source": [
        "vectorized_text = encoder.fit_transform(articles_eng2.text).toarray()\n",
        "\n",
        "vectorized_text_kn = vectorized_text.copy()"
      ],
      "metadata": {
        "id": "B8GN2AfBRoWR"
      },
      "execution_count": null,
      "outputs": []
    },
    {
      "cell_type": "code",
      "source": [
        "print(type(vectorized_text_kn))"
      ],
      "metadata": {
        "colab": {
          "base_uri": "https://localhost:8080/"
        },
        "id": "tthA2hy-5UaV",
        "outputId": "16d813c8-d963-4016-eca7-732ec447aea7"
      },
      "execution_count": null,
      "outputs": [
        {
          "output_type": "stream",
          "name": "stdout",
          "text": [
            "<class 'numpy.ndarray'>\n"
          ]
        }
      ]
    },
    {
      "cell_type": "markdown",
      "source": [
        "### __Building the Model__\n",
        "\n",
        "__Using KMeans__"
      ],
      "metadata": {
        "id": "tAp4myNh62gz"
      }
    },
    {
      "cell_type": "markdown",
      "source": [
        "__Getting Optimal Number of Clusters__\n",
        "\n",
        "FIrst, let's determine the optimal number of clusters. The number of clusters in this case would mean number of groups of articles- based on close relation- in the dataset\n",
        "\n",
        "I'll use the elbow method to determine the optimal number of clusters I should use to build my model.\n",
        "\n",
        "This can be achieved with a loop or, the built-in KElbowVisualizer from from the yellowbrick.cluster module. Both are implemented below.\n",
        "\n",
        "The elbow method may not always give the most accurate k, especially when the data does not show clear enough demarcation or clustering, maybe due to a lot of noise. The result is only a figure it considers would be optimal for the model. I prefer the KElbowVisualizer because it produces a visual that gives an idea where the elbow is through a straight line at the optimal k, especially for unclear data for which this is difficult to interpret manaually. \n",
        "\n",
        "Optimal k is the point after which, the sum of squared distances stops dropping significantly.\n",
        "\n"
      ],
      "metadata": {
        "id": "epRnmHhwk92o"
      }
    },
    {
      "cell_type": "code",
      "source": [
        "# Finding optimal k manually\n",
        "\n",
        "ss_distance = [] #sum of squared distances\n",
        "k_range = range(2, 31)  # I want the number of clusters to be tested begin from 2 and stop at 20\n",
        "for c in k_range:\n",
        "  km_model = KMeans(n_clusters=c)    # the elbow method uses K means, just that it does not specify the number of clusters, k\n",
        "  km_model.fit(vectorized_text_kn)\n",
        "  ss_distance.append(km_model.inertia_)\n",
        "ss_distance"
      ],
      "metadata": {
        "colab": {
          "base_uri": "https://localhost:8080/"
        },
        "id": "m6LwVdfzd7WB",
        "outputId": "5e3b5c82-f85b-47ba-8053-913b90dd013a"
      },
      "execution_count": null,
      "outputs": [
        {
          "output_type": "execute_result",
          "data": {
            "text/plain": [
              "[2092.7017817709298,\n",
              " 2080.8102741450375,\n",
              " 2070.9111567765003,\n",
              " 2056.217133913262,\n",
              " 2045.5523625382114,\n",
              " 2034.9115023380446,\n",
              " 2026.394418768783,\n",
              " 2018.247268208965,\n",
              " 2007.2426652214367,\n",
              " 2004.0677374027305,\n",
              " 2000.967938268774,\n",
              " 1991.4611080931327,\n",
              " 1988.6718259026152,\n",
              " 1984.6270801474989,\n",
              " 1980.2223629075484,\n",
              " 1976.6743582284075,\n",
              " 1969.093386534753,\n",
              " 1967.716540253967,\n",
              " 1962.7283055608582,\n",
              " 1960.0981314034548,\n",
              " 1956.2317002501486,\n",
              " 1952.40042441848,\n",
              " 1951.0108166984896,\n",
              " 1947.8333318345826,\n",
              " 1943.606634110617,\n",
              " 1941.0016904819825,\n",
              " 1936.9763981725673,\n",
              " 1936.7815908327036,\n",
              " 1932.964109927954]"
            ]
          },
          "metadata": {},
          "execution_count": 55
        }
      ]
    },
    {
      "cell_type": "code",
      "source": [
        "import matplotlib.pyplot as plt\n",
        "plt.figure(figsize = (10, 8))\n",
        "plt.plot(k_range, ss_distance)\n",
        "plt.xlabel(\"Num of Cluster\")\n",
        "plt.ylabel(\"Inertia\")"
      ],
      "metadata": {
        "colab": {
          "base_uri": "https://localhost:8080/",
          "height": 516
        },
        "id": "x5ajPxUgpZRc",
        "outputId": "a73d23d2-a8cf-4fde-eae0-0a1c910c8a3f"
      },
      "execution_count": null,
      "outputs": [
        {
          "output_type": "execute_result",
          "data": {
            "text/plain": [
              "Text(0, 0.5, 'Inertia')"
            ]
          },
          "metadata": {},
          "execution_count": 57
        },
        {
          "output_type": "display_data",
          "data": {
            "text/plain": [
              "<Figure size 720x576 with 1 Axes>"
            ],
            "image/png": "[encoded data removed]"
          },
          "metadata": {
            "needs_background": "light"
          }
        }
      ]
    },
    {
      "cell_type": "code",
      "source": [
        "# Using the built-in KElbowVisualizer to find optimal k.\n",
        "\n",
        "from yellowbrick.cluster import KElbowVisualizer\n",
        "from sklearn.cluster import KMeans\n",
        "model = KElbowVisualizer(KMeans(), k=30, timings = False)\n",
        "model.fit(vectorized_text_kn)\n",
        "model.show()"
      ],
      "metadata": {
        "id": "KqbQ2vzoVgry",
        "colab": {
          "base_uri": "https://localhost:8080/",
          "height": 393
        },
        "outputId": "594a1f27-0781-4539-b89e-b1c3f9236dff"
      },
      "execution_count": null,
      "outputs": [
        {
          "output_type": "display_data",
          "data": {
            "text/plain": [
              "<Figure size 576x396 with 1 Axes>"
            ],
            "image/png": "[encoded data removed]"
          },
          "metadata": {}
        },
        {
          "output_type": "execute_result",
          "data": {
            "text/plain": [
              "<matplotlib.axes._subplots.AxesSubplot at 0x7f8be99a31c0>"
            ]
          },
          "metadata": {},
          "execution_count": 27
        }
      ]
    },
    {
      "cell_type": "markdown",
      "source": [
        "The KElbowVisualizer is proposing a k of 14 so, i'll use this to build the model. "
      ],
      "metadata": {
        "id": "e-uubPnflW0L"
      }
    },
    {
      "cell_type": "markdown",
      "source": [
        "PS: It appears the optimal number of clusters, k seem to change as I change the range of k to test. I noticed that when the range was from 2 to 20, the optimal k was 12 but when I extented it to 30, the optimal k was 17. I ran the same cell again, using the same range, and I got another optimal k at 14..\n",
        "Now, let's train the model."
      ],
      "metadata": {
        "id": "11e1fGpb1xnp"
      }
    },
    {
      "cell_type": "code",
      "source": [
        "# first, configuring the model. I am doing another configuration because the first was used in finding the optimal k.\n",
        "\n",
        "model = KMeans(n_clusters= 14, random_state= 42)\n",
        "\n",
        "# Training the model\n",
        "\n",
        "model.fit(vectorized_text_kn)"
      ],
      "metadata": {
        "colab": {
          "base_uri": "https://localhost:8080/"
        },
        "id": "wljViuu-lWIm",
        "outputId": "90930e13-6fd3-4cef-907b-cc70f92ac564"
      },
      "execution_count": null,
      "outputs": [
        {
          "output_type": "execute_result",
          "data": {
            "text/plain": [
              "KMeans(n_clusters=14, random_state=42)"
            ]
          },
          "metadata": {},
          "execution_count": 28
        }
      ]
    },
    {
      "cell_type": "markdown",
      "source": [
        "Although I have used a clustering algorithm to build this first model, what we primarily need is a system that recommends related articles based on an article a user is currently reading. \n",
        "\n",
        "So, even without supplying new data, we can try to see which class an article in the train data falls into and what are the other articles that have the same class labels as it. These other articles will be the articles most related to that particular article, according to the model we have trained. \n",
        "\n",
        "Essentially, we may not need to apply the .predict() method now unless we want to find what cluster a new, unseen article belongs to. Based on the business problem at hand, what we want to achieve primarily, is to recommend articles related to a focus article. \n",
        "\n",
        "We can do this by getting the class of the article we are trying to find related articles for and we subset the dataframe for other articles in that class. \n",
        "Those will be our recommended articles."
      ],
      "metadata": {
        "id": "ftCjh54r2x97"
      }
    },
    {
      "cell_type": "code",
      "source": [
        "# First, getting the new labels and merging this to the news_articles dataframe as a new column. \n",
        "# We are able to do this because the order pf predictions matches the order in the original input data. \n",
        "# So, each row of prediction has a corresponding row in the input data. \n",
        "# The order is usually preserved when computing predictions from ml models\n",
        "\n",
        "group = model.labels_\n",
        "\n",
        "# adding the new labels to the initial dataframe as a new column\n",
        "\n",
        "articles_eng[\"group\"] = group"
      ],
      "metadata": {
        "id": "Fd2C2btDhrFy"
      },
      "execution_count": null,
      "outputs": []
    },
    {
      "cell_type": "code",
      "source": [
        "articles_eng.head()"
      ],
      "metadata": {
        "colab": {
          "base_uri": "https://localhost:8080/",
          "height": 206
        },
        "id": "_x6RGxzYAiIw",
        "outputId": "21adbaa3-09a9-4ff5-f32a-0161ae61652a"
      },
      "execution_count": null,
      "outputs": [
        {
          "output_type": "execute_result",
          "data": {
            "text/plain": [
              "                                                text  group\n",
              "0  Ethereum, a Virtual Currency, Enables Transact...     13\n",
              "1  Bitcoin Future: When GBPcoin of Branson Wins O...     10\n",
              "2  Google Data Center 360° Tour We're excited to ...     12\n",
              "3  IBM Wants to \"Evolve the Internet\" With Blockc...     13\n",
              "4  IEEE to Talk Blockchain at Cloud Computing Oxf...     13"
            ],
            "text/html": [
              "\n",
              "  <div id=\"df-55312ad1-9bd1-4e67-8a80-6b87228f876c\">\n",
              "    <div class=\"colab-df-container\">\n",
              "      <div>\n",
              "<style scoped>\n",
              "    .dataframe tbody tr th:only-of-type {\n",
              "        vertical-align: middle;\n",
              "    }\n",
              "\n",
              "    .dataframe tbody tr th {\n",
              "        vertical-align: top;\n",
              "    }\n",
              "\n",
              "    .dataframe thead th {\n",
              "        text-align: right;\n",
              "    }\n",
              "</style>\n",
              "<table border=\"1\" class=\"dataframe\">\n",
              "  <thead>\n",
              "    <tr style=\"text-align: right;\">\n",
              "      <th></th>\n",
              "      <th>text</th>\n",
              "      <th>group</th>\n",
              "    </tr>\n",
              "  </thead>\n",
              "  <tbody>\n",
              "    <tr>\n",
              "      <th>0</th>\n",
              "      <td>Ethereum, a Virtual Currency, Enables Transact...</td>\n",
              "      <td>13</td>\n",
              "    </tr>\n",
              "    <tr>\n",
              "      <th>1</th>\n",
              "      <td>Bitcoin Future: When GBPcoin of Branson Wins O...</td>\n",
              "      <td>10</td>\n",
              "    </tr>\n",
              "    <tr>\n",
              "      <th>2</th>\n",
              "      <td>Google Data Center 360° Tour We're excited to ...</td>\n",
              "      <td>12</td>\n",
              "    </tr>\n",
              "    <tr>\n",
              "      <th>3</th>\n",
              "      <td>IBM Wants to \"Evolve the Internet\" With Blockc...</td>\n",
              "      <td>13</td>\n",
              "    </tr>\n",
              "    <tr>\n",
              "      <th>4</th>\n",
              "      <td>IEEE to Talk Blockchain at Cloud Computing Oxf...</td>\n",
              "      <td>13</td>\n",
              "    </tr>\n",
              "  </tbody>\n",
              "</table>\n",
              "</div>\n",
              "      <button class=\"colab-df-convert\" onclick=\"convertToInteractive('df-55312ad1-9bd1-4e67-8a80-6b87228f876c')\"\n",
              "              title=\"Convert this dataframe to an interactive table.\"\n",
              "              style=\"display:none;\">\n",
              "        \n",
              "  <svg xmlns=\"http://www.w3.org/2000/svg\" height=\"24px\"viewBox=\"0 0 24 24\"\n",
              "       width=\"24px\">\n",
              "    <path d=\"M0 0h24v24H0V0z\" fill=\"none\"/>\n",
              "    <path d=\"M18.56 5.44l.94 2.06.94-2.06 2.06-.94-2.06-.94-.94-2.06-.94 2.06-2.06.94zm-11 1L8.5 8.5l.94-2.06 2.06-.94-2.06-.94L8.5 2.5l-.94 2.06-2.06.94zm10 10l.94 2.06.94-2.06 2.06-.94-2.06-.94-.94-2.06-.94 2.06-2.06.94z\"/><path d=\"M17.41 7.96l-1.37-1.37c-.4-.4-.92-.59-1.43-.59-.52 0-1.04.2-1.43.59L10.3 9.45l-7.72 7.72c-.78.78-.78 2.05 0 2.83L4 21.41c.39.39.9.59 1.41.59.51 0 1.02-.2 1.41-.59l7.78-7.78 2.81-2.81c.8-.78.8-2.07 0-2.86zM5.41 20L4 18.59l7.72-7.72 1.47 1.35L5.41 20z\"/>\n",
              "  </svg>\n",
              "      </button>\n",
              "      \n",
              "  <style>\n",
              "    .colab-df-container {\n",
              "      display:flex;\n",
              "      flex-wrap:wrap;\n",
              "      gap: 12px;\n",
              "    }\n",
              "\n",
              "    .colab-df-convert {\n",
              "      background-color: #E8F0FE;\n",
              "      border: none;\n",
              "      border-radius: 50%;\n",
              "      cursor: pointer;\n",
              "      display: none;\n",
              "      fill: #1967D2;\n",
              "      height: 32px;\n",
              "      padding: 0 0 0 0;\n",
              "      width: 32px;\n",
              "    }\n",
              "\n",
              "    .colab-df-convert:hover {\n",
              "      background-color: #E2EBFA;\n",
              "      box-shadow: 0px 1px 2px rgba(60, 64, 67, 0.3), 0px 1px 3px 1px rgba(60, 64, 67, 0.15);\n",
              "      fill: #174EA6;\n",
              "    }\n",
              "\n",
              "    [theme=dark] .colab-df-convert {\n",
              "      background-color: #3B4455;\n",
              "      fill: #D2E3FC;\n",
              "    }\n",
              "\n",
              "    [theme=dark] .colab-df-convert:hover {\n",
              "      background-color: #434B5C;\n",
              "      box-shadow: 0px 1px 3px 1px rgba(0, 0, 0, 0.15);\n",
              "      filter: drop-shadow(0px 1px 2px rgba(0, 0, 0, 0.3));\n",
              "      fill: #FFFFFF;\n",
              "    }\n",
              "  </style>\n",
              "\n",
              "      <script>\n",
              "        const buttonEl =\n",
              "          document.querySelector('#df-55312ad1-9bd1-4e67-8a80-6b87228f876c button.colab-df-convert');\n",
              "        buttonEl.style.display =\n",
              "          google.colab.kernel.accessAllowed ? 'block' : 'none';\n",
              "\n",
              "        async function convertToInteractive(key) {\n",
              "          const element = document.querySelector('#df-55312ad1-9bd1-4e67-8a80-6b87228f876c');\n",
              "          const dataTable =\n",
              "            await google.colab.kernel.invokeFunction('convertToInteractive',\n",
              "                                                     [key], {});\n",
              "          if (!dataTable) return;\n",
              "\n",
              "          const docLinkHtml = 'Like what you see? Visit the ' +\n",
              "            '<a target=\"_blank\" href=https://colab.research.google.com/notebooks/data_table.ipynb>data table notebook</a>'\n",
              "            + ' to learn more about interactive tables.';\n",
              "          element.innerHTML = '';\n",
              "          dataTable['output_type'] = 'display_data';\n",
              "          await google.colab.output.renderOutput(dataTable, element);\n",
              "          const docLink = document.createElement('div');\n",
              "          docLink.innerHTML = docLinkHtml;\n",
              "          element.appendChild(docLink);\n",
              "        }\n",
              "      </script>\n",
              "    </div>\n",
              "  </div>\n",
              "  "
            ]
          },
          "metadata": {},
          "execution_count": 30
        }
      ]
    },
    {
      "cell_type": "code",
      "source": [
        "# Let's check how many articles fall into each class\n",
        "\n",
        "articles_eng.group.value_counts()"
      ],
      "metadata": {
        "colab": {
          "base_uri": "https://localhost:8080/"
        },
        "id": "EURghe3lEpRC",
        "outputId": "b7d27c3f-5ad2-4b02-a78c-d1923653b332"
      },
      "execution_count": null,
      "outputs": [
        {
          "output_type": "execute_result",
          "data": {
            "text/plain": [
              "10    698\n",
              "7     387\n",
              "5     224\n",
              "9     201\n",
              "3     109\n",
              "12     99\n",
              "13     96\n",
              "2      68\n",
              "6      55\n",
              "11     52\n",
              "4      52\n",
              "1      49\n",
              "8      46\n",
              "0      46\n",
              "Name: group, dtype: int64"
            ]
          },
          "metadata": {},
          "execution_count": 31
        }
      ]
    },
    {
      "cell_type": "code",
      "source": [
        "# Now, I'll get one of the articles in the original dataset, get its group and output the first 10 articles in that group to inspect what kind of content they contain and how they are related.\n",
        "\n",
        "test_article = articles_eng.iloc[305, :]\n",
        "\n",
        "# Let's get the group it belongs to\n",
        "\n",
        "print(f\"This article belongs to group {test_article.group}\")\n",
        "print(test_article.text)"
      ],
      "metadata": {
        "colab": {
          "base_uri": "https://localhost:8080/"
        },
        "id": "30Zc9a2tPkcz",
        "outputId": "2af2f906-e906-434e-aac1-ae4ff283daee"
      },
      "execution_count": null,
      "outputs": [
        {
          "output_type": "stream",
          "name": "stdout",
          "text": [
            "This article belongs to group 7\n",
            "NoSQL Performance Benchmarks Benchmarking NoSQL Databases: Cassandra vs. MongoDB vs. HBase vs. Couchbase Understanding the performance behavior of a NoSQL database like Apache Cassandra ™ under various conditions is critical. Conducting a formal proof of concept (POC) in the environment in which the database will run is the best way to evaluate platforms. POC processes that include the right benchmarks such as production configurations, parameters and anticipated data and concurrent user workloads give both IT and business stakeholders powerful insight about platforms under consideration and a view for how business applications will perform in production. Independent benchmark analyses and testing of various NoSQL platforms under big data, production-level workloads have been performed over the years and have consistently identified Apache Cassandra as the platform of choice for businesses interested in adopting NoSQL as the database for modern Web, mobile and IOT applications. One benchmark analysis ( Solving Big Data Challenges for Enterprise Application Performance Management ) by engineers at the University of Toronto, which in evaluating six different data stores, found Apache Cassandra the \"clear winner throughout our experiments\". Also, End Point Corporation, a database and open source consulting company, benchmarked the top NoSQL databases including: Apache Cassandra, Apache HBase, Couchbase, and MongoDB using a variety of different workloads on AWS EC2. The databases involved were: Apache Cassandra : Highly scalable, high performance distributed database designed to handle large amounts of data across many commodity servers, providing high availability with no single point of failure. Apache HBase: Open source, non-relational, distributed database modeled after Google's BigTable and is written in Java. It is developed as part of Apache Software Foundation's Apache Hadoop project and runs on top of HDFS (Hadoop Distributed File System), providing BigTable-like capabilities for Hadoop. MongoDB : Cross-platform document-oriented database system that eschews the traditional table-based relational database structure in favor of JSON-like documents with dynamic schemas making the integration of data in certain types of applications easier and faster. Couchbase : Distributed NoSQL document-oriented database that is optimized for interactive applications. End Point conducted the benchmark of these NoSQL database options on Amazon Web Services EC2 instances, which is an industry-standard platform for hosting horizontally scalable services. In order to minimize the effect of AWS CPU and I/O variability, End Point performed each test 3 times on 3 different days. New EC2 instances were used for each test run to further reduce the impact of any \"lame instance\" or \"noisy neighbor\" effects sometimes experienced in cloud environments, on any one test. NoSQL Database Performance Testing Results When it comes to performance, it should be noted that there is (to date) no single \"winner takes all\" among the top NoSQL databases or any other NoSQL engine for that matter. Depending on the use case and deployment conditions, it is almost always possible for one NoSQL database to outperform another and yet lag its competitor when the rules of engagement change. Here are a couple snapshots of the performance benchmark to give you a sense of how each NoSQL database stacks up. Throughput by Workload Each workload appears below with the throughput/operations-per-second (more is better) graphed vertically, the number of nodes used for the workload displayed horizontally, and a table with the result numbers following each graph. Load process For load, Couchbase, HBase, and MongoDB all had to be configured for non-durable writes to complete in a reasonable amount of time, with Cassandra being the only database performing durable write operations. Therefore, the numbers below for Couchbase, HBase, and MongoDB represent non-durable write metrics. Mixed Operational and Analytical Workload Note that Couchbase was eliminated from this test because it does not support scan operations (producing the error: \"Range scan is not supported\"). For a comprehensive analysis, please download the complete report: Benchmarking Top NoSQL Databases . NoSQL Database Performance Conclusion These performance metrics are just a few of the many that have solidified Apache Cassandra as the NoSQL database of choice for businesses needing a modern, distributed database for their Web, mobile and IOT applications. Each database option (Cassandra, HBase, Couchbase and MongoDB) will certainly shine in particular use cases, so it's important to test your specific use cases to ensure your selected database meets your performance SLA. Whether you are primarily concerned with throughput or latency, or more interested in the architectural benefits such as having no single point of failure or being able to have elastic scalability across multiple data centers and the cloud, much of an application's success comes down to its ability to deliver the response times Web, mobile and IOT customers expect. As the benchmarks referenced here showcase, Cassandra's reputation for fast write and read performance, and delivering true linear scale performance in a masterless, scale-out design, bests its top NoSQL database rivals in many use cases.en\n"
          ]
        }
      ]
    },
    {
      "cell_type": "code",
      "source": [
        "# Get articles in the same group as the test_article\n",
        "\n",
        "articles_eng.text[articles_eng.group == 7][370:-1]"
      ],
      "metadata": {
        "colab": {
          "base_uri": "https://localhost:8080/"
        },
        "id": "91Osdf4DRubs",
        "outputId": "60635d6a-059b-401a-837a-590931c2152a"
      },
      "execution_count": null,
      "outputs": [
        {
          "output_type": "execute_result",
          "data": {
            "text/plain": [
              "2123    Spring Boot 1.5.1 released One behalf of the S...\n",
              "2125    IBM Seeks to Simplify Graph with New Titan Ser...\n",
              "2128    GitLab.com melts down after backup fail and da...\n",
              "2131    Building Event-driven Microservices Using CQRS...\n",
              "2138    Speed Up a WordPress Website in 8 Steps Althou...\n",
              "2139    The Complete Google Analytics Audit Checklist ...\n",
              "2147    Python - It's metaclasses all the way down Met...\n",
              "2155    Now sites can fingerprint you online even when...\n",
              "2158    Don't document your code. Code your documentat...\n",
              "2159    What do you mean by \"Event-Driven\"? Towards th...\n",
              "2164    When to make a Git Commit You don't have to lo...\n",
              "2167    How to build cross-platform mobile apps using ...\n",
              "2168    Amazon EBS Update - New Elastic Volumes Change...\n",
              "2170    Concrete things you can do about your technica...\n",
              "2171    Optimizing the Performance of Vector Drawables...\n",
              "2174    Another option for file sharing Existing mecha...\n",
              "Name: text, dtype: object"
            ]
          },
          "metadata": {},
          "execution_count": 45
        }
      ]
    },
    {
      "cell_type": "markdown",
      "source": [
        "Most of the articles in group 7 appear to be about core tech generally, coding and building digital products."
      ],
      "metadata": {
        "id": "voFnmM2PSWde"
      }
    },
    {
      "cell_type": "markdown",
      "source": [
        "__Let's check the performance of the model.__\n",
        "\n",
        "Since there were no labels at all for this data prior to the training, I will use the sihlouette coefficient  and the variance_ratio coefficient.\n",
        "\n",
        "The Silhoutte score reveals the closeness of each point to the cluster it is grouped into, compared to how close it is to other clusters.\n",
        "\n",
        "Variance Ratio Criterion speaks to the distance, on average, from each point to the center of the cluster it belongs to and cluster-to-cluster distance."
      ],
      "metadata": {
        "id": "yj1nmeAqYFdQ"
      }
    },
    {
      "cell_type": "code",
      "source": [
        "# Using silhoutte score.\n",
        "\n",
        "metrics.silhouette_score(vectorized_text_kn, group, metric = 'euclidean')"
      ],
      "metadata": {
        "colab": {
          "base_uri": "https://localhost:8080/"
        },
        "id": "EyOZKROQYEz-",
        "outputId": "03ff256e-8497-423c-940a-5cfd115d4349"
      },
      "execution_count": null,
      "outputs": [
        {
          "output_type": "execute_result",
          "data": {
            "text/plain": [
              "0.014362190468073917"
            ]
          },
          "metadata": {},
          "execution_count": 48
        }
      ]
    },
    {
      "cell_type": "markdown",
      "source": [
        "According to Sklearn's silhoutte score documentation, \n",
        "\"The best value is 1 and the worst value is -1. Values near 0 indicate overlapping clusters. Negative values generally indicate that a sample has been assigned to the wrong cluster, as a different cluster is more similar\"\n",
        "\n",
        "Going by this information, the model is not performing well enough. With the silhoutte score so close to zero, overlapping clusters are very likely. This is not surpising though. The data is textual. It is not unlikely that a particular keyword could have appeared, even if just once, in other articles belonging to one or more other clusters."
      ],
      "metadata": {
        "id": "3wcNutOReqJ1"
      }
    },
    {
      "cell_type": "code",
      "source": [
        "# Using the variace-ratio criterion\n",
        "\n",
        "metrics.calinski_harabasz_score(vectorized_text_kn, group)"
      ],
      "metadata": {
        "colab": {
          "base_uri": "https://localhost:8080/"
        },
        "id": "NsD3nS5pcz7M",
        "outputId": "94717271-976e-41c4-a044-64fcae44cbd7"
      },
      "execution_count": null,
      "outputs": [
        {
          "output_type": "execute_result",
          "data": {
            "text/plain": [
              "9.92506031854669"
            ]
          },
          "metadata": {},
          "execution_count": 49
        }
      ]
    },
    {
      "cell_type": "markdown",
      "source": [
        "For the variance-ratio criterion, there is no fixed cut-off but when the value is higher, it is an indication that the clusters are clear off each other and well separated. This value is low."
      ],
      "metadata": {
        "id": "jasIJE6V3d8Q"
      }
    },
    {
      "cell_type": "markdown",
      "source": [
        "One shortcoming I perceive with the model is the class Inbalance in the grouping. There's need to investigate if this is due to articles in the class with the highest number of related articles being, indeed, related and just happen to be the kind of articles that is mostly found on this news website, or that this is a case of misclustering. \n",
        "\n",
        "Also I noticed that, even though I set random state for training the model, the group of each article changes each time I re-run the cell that has the code for fitting the model."
      ],
      "metadata": {
        "id": "S0IJUMqqVUcR"
      }
    },
    {
      "cell_type": "markdown",
      "source": [
        "__Using Cosine Similarity__\n",
        "\n",
        "Here, In place of the kmeans clustering model, I am proceeding straightaway from vectorization to using\n",
        "cosine similarity as a metric to compute the similarity between two articles by taking the cosine of the angle between two vectors representing these articles.\n",
        "\n",
        "A cosine similarity of zero means 'no similarity' while 1 means that the two articles are either perfectly similar or, the exact same articles. The result ranges between 0 and 1.\n"
      ],
      "metadata": {
        "id": "nMrbu9aYTbLD"
      }
    },
    {
      "cell_type": "code",
      "source": [
        "# FIrst, making a copy of `vectorized_text`\n",
        "\n",
        "vectorized_text_cs = vectorized_text.copy()"
      ],
      "metadata": {
        "id": "BVidmdNd0LEe"
      },
      "execution_count": null,
      "outputs": []
    },
    {
      "cell_type": "code",
      "source": [
        "# Getting the cosine_similarities, usually outputed as a matrix.\n",
        "\n",
        "cos_similarity= cosine_similarity(vectorized_text_cs)"
      ],
      "metadata": {
        "id": "sEpXNeTlRrkj"
      },
      "execution_count": null,
      "outputs": []
    },
    {
      "cell_type": "code",
      "source": [
        "# Looking at it as a dataframe\n",
        "\n",
        "pd.DataFrame(cos_similarity).head()"
      ],
      "metadata": {
        "colab": {
          "base_uri": "https://localhost:8080/",
          "height": 299
        },
        "id": "SVSGRowJ37CA",
        "outputId": "57f4bebb-eda7-466f-fda2-7218f3e20ad0"
      },
      "execution_count": null,
      "outputs": [
        {
          "output_type": "execute_result",
          "data": {
            "text/plain": [
              "       0         1         2         3         4         5         6     \\\n",
              "0  1.000000  0.046464  0.019135  0.238359  0.096303  0.190434  0.169288   \n",
              "1  0.046464  1.000000  0.018625  0.045762  0.023282  0.054362  0.040782   \n",
              "2  0.019135  0.018625  1.000000  0.016380  0.036852  0.014113  0.020942   \n",
              "3  0.238359  0.045762  0.016380  1.000000  0.196021  0.163726  0.237590   \n",
              "4  0.096303  0.023282  0.036852  0.196021  1.000000  0.043669  0.140368   \n",
              "\n",
              "       7         8         9     ...      2172      2173      2174      2175  \\\n",
              "0  0.163548  0.851137  0.018125  ...  0.049436  0.049856  0.027415  0.006715   \n",
              "1  0.054849  0.038658  0.010776  ...  0.034269  0.027863  0.006661  0.002326   \n",
              "2  0.018663  0.016166  0.045948  ...  0.054732  0.049333  0.017642  0.004562   \n",
              "3  0.129486  0.177431  0.014561  ...  0.075461  0.045801  0.026587  0.006807   \n",
              "4  0.078341  0.060645  0.015087  ...  0.056501  0.027072  0.011750  0.017063   \n",
              "\n",
              "       2176      2177      2178      2179      2180      2181  \n",
              "0  0.025910  0.011027  0.021436  0.060298  0.104808  0.012673  \n",
              "1  0.013440  0.004549  0.017792  0.029071  0.040475  0.010874  \n",
              "2  0.027446  0.025623  0.071255  0.021021  0.036621  0.000000  \n",
              "3  0.048362  0.027848  0.016877  0.031642  0.104817  0.014585  \n",
              "4  0.012123  0.008258  0.019305  0.052254  0.075855  0.009561  \n",
              "\n",
              "[5 rows x 2182 columns]"
            ],
            "text/html": [
              "\n",
              "  <div id=\"df-954dbc92-8e3f-4f07-b8d8-7f4b7ca27b34\">\n",
              "    <div class=\"colab-df-container\">\n",
              "      <div>\n",
              "<style scoped>\n",
              "    .dataframe tbody tr th:only-of-type {\n",
              "        vertical-align: middle;\n",
              "    }\n",
              "\n",
              "    .dataframe tbody tr th {\n",
              "        vertical-align: top;\n",
              "    }\n",
              "\n",
              "    .dataframe thead th {\n",
              "        text-align: right;\n",
              "    }\n",
              "</style>\n",
              "<table border=\"1\" class=\"dataframe\">\n",
              "  <thead>\n",
              "    <tr style=\"text-align: right;\">\n",
              "      <th></th>\n",
              "      <th>0</th>\n",
              "      <th>1</th>\n",
              "      <th>2</th>\n",
              "      <th>3</th>\n",
              "      <th>4</th>\n",
              "      <th>5</th>\n",
              "      <th>6</th>\n",
              "      <th>7</th>\n",
              "      <th>8</th>\n",
              "      <th>9</th>\n",
              "      <th>...</th>\n",
              "      <th>2172</th>\n",
              "      <th>2173</th>\n",
              "      <th>2174</th>\n",
              "      <th>2175</th>\n",
              "      <th>2176</th>\n",
              "      <th>2177</th>\n",
              "      <th>2178</th>\n",
              "      <th>2179</th>\n",
              "      <th>2180</th>\n",
              "      <th>2181</th>\n",
              "    </tr>\n",
              "  </thead>\n",
              "  <tbody>\n",
              "    <tr>\n",
              "      <th>0</th>\n",
              "      <td>1.000000</td>\n",
              "      <td>0.046464</td>\n",
              "      <td>0.019135</td>\n",
              "      <td>0.238359</td>\n",
              "      <td>0.096303</td>\n",
              "      <td>0.190434</td>\n",
              "      <td>0.169288</td>\n",
              "      <td>0.163548</td>\n",
              "      <td>0.851137</td>\n",
              "      <td>0.018125</td>\n",
              "      <td>...</td>\n",
              "      <td>0.049436</td>\n",
              "      <td>0.049856</td>\n",
              "      <td>0.027415</td>\n",
              "      <td>0.006715</td>\n",
              "      <td>0.025910</td>\n",
              "      <td>0.011027</td>\n",
              "      <td>0.021436</td>\n",
              "      <td>0.060298</td>\n",
              "      <td>0.104808</td>\n",
              "      <td>0.012673</td>\n",
              "    </tr>\n",
              "    <tr>\n",
              "      <th>1</th>\n",
              "      <td>0.046464</td>\n",
              "      <td>1.000000</td>\n",
              "      <td>0.018625</td>\n",
              "      <td>0.045762</td>\n",
              "      <td>0.023282</td>\n",
              "      <td>0.054362</td>\n",
              "      <td>0.040782</td>\n",
              "      <td>0.054849</td>\n",
              "      <td>0.038658</td>\n",
              "      <td>0.010776</td>\n",
              "      <td>...</td>\n",
              "      <td>0.034269</td>\n",
              "      <td>0.027863</td>\n",
              "      <td>0.006661</td>\n",
              "      <td>0.002326</td>\n",
              "      <td>0.013440</td>\n",
              "      <td>0.004549</td>\n",
              "      <td>0.017792</td>\n",
              "      <td>0.029071</td>\n",
              "      <td>0.040475</td>\n",
              "      <td>0.010874</td>\n",
              "    </tr>\n",
              "    <tr>\n",
              "      <th>2</th>\n",
              "      <td>0.019135</td>\n",
              "      <td>0.018625</td>\n",
              "      <td>1.000000</td>\n",
              "      <td>0.016380</td>\n",
              "      <td>0.036852</td>\n",
              "      <td>0.014113</td>\n",
              "      <td>0.020942</td>\n",
              "      <td>0.018663</td>\n",
              "      <td>0.016166</td>\n",
              "      <td>0.045948</td>\n",
              "      <td>...</td>\n",
              "      <td>0.054732</td>\n",
              "      <td>0.049333</td>\n",
              "      <td>0.017642</td>\n",
              "      <td>0.004562</td>\n",
              "      <td>0.027446</td>\n",
              "      <td>0.025623</td>\n",
              "      <td>0.071255</td>\n",
              "      <td>0.021021</td>\n",
              "      <td>0.036621</td>\n",
              "      <td>0.000000</td>\n",
              "    </tr>\n",
              "    <tr>\n",
              "      <th>3</th>\n",
              "      <td>0.238359</td>\n",
              "      <td>0.045762</td>\n",
              "      <td>0.016380</td>\n",
              "      <td>1.000000</td>\n",
              "      <td>0.196021</td>\n",
              "      <td>0.163726</td>\n",
              "      <td>0.237590</td>\n",
              "      <td>0.129486</td>\n",
              "      <td>0.177431</td>\n",
              "      <td>0.014561</td>\n",
              "      <td>...</td>\n",
              "      <td>0.075461</td>\n",
              "      <td>0.045801</td>\n",
              "      <td>0.026587</td>\n",
              "      <td>0.006807</td>\n",
              "      <td>0.048362</td>\n",
              "      <td>0.027848</td>\n",
              "      <td>0.016877</td>\n",
              "      <td>0.031642</td>\n",
              "      <td>0.104817</td>\n",
              "      <td>0.014585</td>\n",
              "    </tr>\n",
              "    <tr>\n",
              "      <th>4</th>\n",
              "      <td>0.096303</td>\n",
              "      <td>0.023282</td>\n",
              "      <td>0.036852</td>\n",
              "      <td>0.196021</td>\n",
              "      <td>1.000000</td>\n",
              "      <td>0.043669</td>\n",
              "      <td>0.140368</td>\n",
              "      <td>0.078341</td>\n",
              "      <td>0.060645</td>\n",
              "      <td>0.015087</td>\n",
              "      <td>...</td>\n",
              "      <td>0.056501</td>\n",
              "      <td>0.027072</td>\n",
              "      <td>0.011750</td>\n",
              "      <td>0.017063</td>\n",
              "      <td>0.012123</td>\n",
              "      <td>0.008258</td>\n",
              "      <td>0.019305</td>\n",
              "      <td>0.052254</td>\n",
              "      <td>0.075855</td>\n",
              "      <td>0.009561</td>\n",
              "    </tr>\n",
              "  </tbody>\n",
              "</table>\n",
              "<p>5 rows × 2182 columns</p>\n",
              "</div>\n",
              "      <button class=\"colab-df-convert\" onclick=\"convertToInteractive('df-954dbc92-8e3f-4f07-b8d8-7f4b7ca27b34')\"\n",
              "              title=\"Convert this dataframe to an interactive table.\"\n",
              "              style=\"display:none;\">\n",
              "        \n",
              "  <svg xmlns=\"http://www.w3.org/2000/svg\" height=\"24px\"viewBox=\"0 0 24 24\"\n",
              "       width=\"24px\">\n",
              "    <path d=\"M0 0h24v24H0V0z\" fill=\"none\"/>\n",
              "    <path d=\"M18.56 5.44l.94 2.06.94-2.06 2.06-.94-2.06-.94-.94-2.06-.94 2.06-2.06.94zm-11 1L8.5 8.5l.94-2.06 2.06-.94-2.06-.94L8.5 2.5l-.94 2.06-2.06.94zm10 10l.94 2.06.94-2.06 2.06-.94-2.06-.94-.94-2.06-.94 2.06-2.06.94z\"/><path d=\"M17.41 7.96l-1.37-1.37c-.4-.4-.92-.59-1.43-.59-.52 0-1.04.2-1.43.59L10.3 9.45l-7.72 7.72c-.78.78-.78 2.05 0 2.83L4 21.41c.39.39.9.59 1.41.59.51 0 1.02-.2 1.41-.59l7.78-7.78 2.81-2.81c.8-.78.8-2.07 0-2.86zM5.41 20L4 18.59l7.72-7.72 1.47 1.35L5.41 20z\"/>\n",
              "  </svg>\n",
              "      </button>\n",
              "      \n",
              "  <style>\n",
              "    .colab-df-container {\n",
              "      display:flex;\n",
              "      flex-wrap:wrap;\n",
              "      gap: 12px;\n",
              "    }\n",
              "\n",
              "    .colab-df-convert {\n",
              "      background-color: #E8F0FE;\n",
              "      border: none;\n",
              "      border-radius: 50%;\n",
              "      cursor: pointer;\n",
              "      display: none;\n",
              "      fill: #1967D2;\n",
              "      height: 32px;\n",
              "      padding: 0 0 0 0;\n",
              "      width: 32px;\n",
              "    }\n",
              "\n",
              "    .colab-df-convert:hover {\n",
              "      background-color: #E2EBFA;\n",
              "      box-shadow: 0px 1px 2px rgba(60, 64, 67, 0.3), 0px 1px 3px 1px rgba(60, 64, 67, 0.15);\n",
              "      fill: #174EA6;\n",
              "    }\n",
              "\n",
              "    [theme=dark] .colab-df-convert {\n",
              "      background-color: #3B4455;\n",
              "      fill: #D2E3FC;\n",
              "    }\n",
              "\n",
              "    [theme=dark] .colab-df-convert:hover {\n",
              "      background-color: #434B5C;\n",
              "      box-shadow: 0px 1px 3px 1px rgba(0, 0, 0, 0.15);\n",
              "      filter: drop-shadow(0px 1px 2px rgba(0, 0, 0, 0.3));\n",
              "      fill: #FFFFFF;\n",
              "    }\n",
              "  </style>\n",
              "\n",
              "      <script>\n",
              "        const buttonEl =\n",
              "          document.querySelector('#df-954dbc92-8e3f-4f07-b8d8-7f4b7ca27b34 button.colab-df-convert');\n",
              "        buttonEl.style.display =\n",
              "          google.colab.kernel.accessAllowed ? 'block' : 'none';\n",
              "\n",
              "        async function convertToInteractive(key) {\n",
              "          const element = document.querySelector('#df-954dbc92-8e3f-4f07-b8d8-7f4b7ca27b34');\n",
              "          const dataTable =\n",
              "            await google.colab.kernel.invokeFunction('convertToInteractive',\n",
              "                                                     [key], {});\n",
              "          if (!dataTable) return;\n",
              "\n",
              "          const docLinkHtml = 'Like what you see? Visit the ' +\n",
              "            '<a target=\"_blank\" href=https://colab.research.google.com/notebooks/data_table.ipynb>data table notebook</a>'\n",
              "            + ' to learn more about interactive tables.';\n",
              "          element.innerHTML = '';\n",
              "          dataTable['output_type'] = 'display_data';\n",
              "          await google.colab.output.renderOutput(dataTable, element);\n",
              "          const docLink = document.createElement('div');\n",
              "          docLink.innerHTML = docLinkHtml;\n",
              "          element.appendChild(docLink);\n",
              "        }\n",
              "      </script>\n",
              "    </div>\n",
              "  </div>\n",
              "  "
            ]
          },
          "metadata": {},
          "execution_count": 52
        }
      ]
    },
    {
      "cell_type": "markdown",
      "source": [
        "The cosine similarity scores in the dataframe above show that articles being compared to each other in this subset of the data are barely similar. Most of the scores are closer to, than farther from zero(0)."
      ],
      "metadata": {
        "id": "n0oOl6Zn8TK1"
      }
    },
    {
      "cell_type": "code",
      "source": [
        "# To test, we'll get the index of an article from our initial `articles_eng` dataframe and collect the indices and scores of articles compared to it, in a list, using the cos_similarity matrix.\n",
        "# Let's use the test_article we used in the KMeans model evaluation step so we can compare the results.\n",
        "\n",
        "test_article_cs = test_article.text\n",
        "\n",
        "# Defining a function that gets us the index of the test article.\n",
        "\n",
        "def get_text_index(text):         # We are assuming we don't know the index yet\n",
        "    return articles_eng[articles_eng.text == text].index.values[0]\n",
        "\n",
        "article_index = get_text_index(test_article_cs)\n",
        "\n",
        "print(article_index)"
      ],
      "metadata": {
        "colab": {
          "base_uri": "https://localhost:8080/"
        },
        "id": "OIC_td9U-8bK",
        "outputId": "cea3bb78-a5b2-4884-b4ac-bbc0529c75cc"
      },
      "execution_count": null,
      "outputs": [
        {
          "output_type": "stream",
          "name": "stdout",
          "text": [
            "305\n"
          ]
        }
      ]
    },
    {
      "cell_type": "code",
      "source": [
        "# Now, lets get a list of all the similarity scores generated after comparing our test_article with all other articles.\n",
        "# The result is a list of tuples containing the index of each article and the similarity score from comparing it with the test_article.\n",
        "\n",
        "articles_index_score = list(enumerate(cos_similarity[article_index]))\n",
        "\n",
        "print(articles_index_score)"
      ],
      "metadata": {
        "colab": {
          "base_uri": "https://localhost:8080/"
        },
        "id": "q13metvTDSxi",
        "outputId": "03cf3f94-f784-4634-9528-4a85841f3894"
      },
      "execution_count": null,
      "outputs": [
        {
          "output_type": "stream",
          "name": "stdout",
          "text": [
            "[(0, 0.035974191823815754), (1, 0.0170319341443754), (2, 0.04390128807292025), (3, 0.024590447702921243), (4, 0.03820550305310715), (5, 0.01424198698193228), (6, 0.053452051438413556), (7, 0.01672600768165412), (8, 0.02958075549954719), (9, 0.043033102169932044), (10, 0.03926428163330043), (11, 0.0072207477769225415), (12, 0.02730643733689462), (13, 0.03190942906049919), (14, 0.02844841334903887), (15, 0.016102690688696783), (16, 0.03001978233144721), (17, 0.0644420214329645), (18, 0.020674365809649205), (19, 0.03556935180951523), (20, 0.014987853933567798), (21, 0.046928715538080465), (22, 0.02850608313695882), (23, 0.03636767527062045), (24, 0.009074206098329946), (25, 0.010265458224773434), (26, 0.017683529005352826), (27, 0.008537148255762086), (28, 0.01164741169922488), (29, 0.02294981198378461), (30, 0.025193280599462655), (31, 0.006848476278581468), (32, 0.023775033135347814), (33, 0.025872639664698167), (34, 0.03176221566276417), (35, 0.007736051871595808), (36, 0.04224689323568236), (37, 0.01884018016829465), (38, 0.023227391819286625), (39, 0.09438743924874696), (40, 0.011703816282376978), (41, 0.016544172799903813), (42, 0.05249093181558149), (43, 0.03502500391180874), (44, 0.01609490388738418), (45, 0.02976196323545069), (46, 0.017061386506977257), (47, 0.03221019556259793), (48, 0.05310483147950446), (49, 0.021800077478568353), (50, 0.018193342133958443), (51, 0.034269784234851455), (52, 0.03404540557979241), (53, 0.05035190745363596), (54, 0.10994503791064655), (55, 0.01524351710535963), (56, 0.015528152630780976), (57, 0.03532736162094064), (58, 0.008805252598787056), (59, 0.02258869671100281), (60, 0.01511393796232518), (61, 0.010232037624261562), (62, 0.020696144888058078), (63, 0.04774712790931667), (64, 0.011859309017874521), (65, 0.012137368100127098), (66, 0.02434462743714822), (67, 0.07712380372382806), (68, 0.0230969768594557), (69, 0.05147266445206719), (70, 0.12594718175592115), (71, 0.03478062287463659), (72, 0.10141233631689041), (73, 0.017519113729369613), (74, 0.07377491474356282), (75, 0.02107507527983969), (76, 0.03691933408805948), (77, 0.023944176608963922), (78, 0.0029281481719741105), (79, 0.07626020957598524), (80, 0.013409269979942887), (81, 0.010591749195495083), (82, 0.02969068674462894), (83, 0.018503143929975225), (84, 0.07928233910533611), (85, 0.0031460134586563434), (86, 0.004908497340045883), (87, 0.010650444701327417), (88, 0.026109060967906814), (89, 0.01664746181321446), (90, 0.023354610500544517), (91, 0.0198735075974832), (92, 0.02868805634179409), (93, 0.013037619987230811), (94, 0.017569234861787512), (95, 0.008761172978657495), (96, 0.01321413608959082), (97, 0.011630274393966097), (98, 0.026354001523559635), (99, 0.002807836251839651), (100, 0.03426982211507944), (101, 0.013891935911784824), (102, 0.010396326386896604), (103, 0.013920601272577774), (104, 0.023650629370090076), (105, 0.037099812426048095), (106, 0.03441511006022832), (107, 0.01229372911325963), (108, 0.017828800827894127), (109, 0.009646231119000087), (110, 0.06180918993154563), (111, 0.032798415935156214), (112, 0.05174810834992239), (113, 0.004708245816925171), (114, 0.010918119952164192), (115, 0.032413509044456404), (116, 0.01155017650820666), (117, 0.022714383844380445), (118, 0.07149720547394581), (119, 0.02333719047577268), (120, 0.04737130417859086), (121, 0.06891823089481808), (122, 0.008524004697304476), (123, 0.0442818252127781), (124, 0.016887460470753155), (125, 0.03193651183679304), (126, 0.023060607779972205), (127, 0.02030096634192357), (128, 0.01525289748342544), (129, 0.020556014656956747), (130, 0.014457255929267825), (131, 0.02298553013881827), (132, 0.057601781712906266), (133, 0.027606047305308537), (134, 0.048912982086279054), (135, 0.03490734806900504), (136, 0.011294988908661624), (137, 0.025626715830644638), (138, 0.035454632135378916), (139, 0.004806012804078151), (140, 0.054012081083814494), (141, 0.010586649890393414), (142, 0.03562173272628032), (143, 0.0027317689226986457), (144, 0.026373987401050233), (145, 0.030357612352259106), (146, 0.03542517268809767), (147, 0.015369500865810687), (148, 0.003728045911925177), (149, 0.03330335104102658), (150, 0.015388398715218006), (151, 0.017186671540952866), (152, 0.009604427608979454), (153, 0.01836166416208962), (154, 0.01062099336403313), (155, 0.01718470258842815), (156, 0.013802468306935167), (157, 0.032612236773745), (158, 0.016790812215922234), (159, 0.011884486942070501), (160, 0.013637992277917826), (161, 0.017572793998138533), (162, 0.01913279055347323), (163, 0.018433951926141213), (164, 0.01053992986917702), (165, 0.09629959081160608), (166, 0.04289256796714426), (167, 0.061755434057035076), (168, 0.02521700236613933), (169, 0.017067311196907044), (170, 0.008328916510530892), (171, 0.04146745668212707), (172, 0.018694931272941074), (173, 0.018025672320969344), (174, 0.03283241306613972), (175, 0.03136972146607624), (176, 0.025242332591365237), (177, 0.02974353883112455), (178, 0.02347238061775977), (179, 0.0362881983614053), (180, 0.02765689325032113), (181, 0.007939745843916598), (182, 0.014718158827157659), (183, 0.01855747090741625), (184, 0.014646316462878723), (185, 0.046841570489804106), (186, 0.026927867606100324), (187, 0.023912100519141857), (188, 0.031687853040196154), (189, 0.01400416023204418), (190, 0.021342140694581183), (191, 0.011738916050442978), (192, 0.04879836800580225), (193, 0.014765694923037384), (194, 0.03204291334670928), (195, 0.053640013770037985), (196, 0.0037309938182654026), (197, 0.01747619432964656), (198, 0.004663161503636408), (199, 0.024680053167013962), (200, 0.0018003786902041558), (201, 0.03510751557582075), (202, 0.03804757396127178), (203, 0.0441292081861063), (204, 0.07761825380699379), (205, 0.025811663677689348), (206, 0.04589475932286946), (207, 0.06372446885086397), (208, 0.011812332620508872), (209, 0.008498500193731452), (210, 0.009554459328621352), (211, 0.006747373656522836), (212, 0.02977851351052937), (213, 0.03186908500847711), (214, 0.01902281298246692), (215, 0.024542351184347885), (216, 0.02312768278080189), (217, 0.032650143686539804), (218, 0.018011078620188425), (219, 0.01577832963084945), (220, 0.017996163599077714), (221, 0.023217619105121212), (222, 0.053753078150486605), (223, 0.05088451315741947), (224, 0.00804815491565203), (225, 0.030538808900628957), (226, 0.0364139693211094), (227, 0.05218883795867999), (228, 0.007485255813029393), (229, 0.038828611669955576), (230, 0.08798142357117582), (231, 0.0077943595101975715), (232, 0.023199050710643626), (233, 0.02842425288731306), (234, 0.011827610580677786), (235, 0.0035442862288512247), (236, 0.04936346884295749), (237, 0.012034863964569856), (238, 0.023436257334376053), (239, 0.024170349075157502), (240, 0.010397179890187753), (241, 0.013381213084319884), (242, 0.020827749177848513), (243, 0.027627818806104123), (244, 0.03591895027413988), (245, 0.017031216697648056), (246, 0.012749848646262574), (247, 0.01215232125003294), (248, 0.028983640792523982), (249, 0.05038341682650299), (250, 0.02867074161253076), (251, 0.040528358904057864), (252, 0.034943951839334006), (253, 0.025294491067060432), (254, 0.055435524062786186), (255, 0.01517383004821736), (256, 0.016166009012140898), (257, 0.019774565132889915), (258, 0.010098718884767037), (259, 0.013748621395230795), (260, 0.0046828282254480595), (261, 0.01060260532255668), (262, 0.05174070107123574), (263, 0.01460393301922528), (264, 0.024194466888167114), (265, 0.032863153938691096), (266, 0.03929666967735745), (267, 0.012696782055446111), (268, 0.013034234638095239), (269, 0.01237125443851375), (270, 0.0104560008441372), (271, 0.011922760746472168), (272, 0.02497674132345272), (273, 0.029758974964804657), (274, 0.03510586260172781), (275, 0.008741476894682278), (276, 0.011181399435718562), (277, 0.012475465529517503), (278, 0.02289737522825203), (279, 0.012132598585579243), (280, 0.01792904808870685), (281, 0.06736559243528263), (282, 0.016355984426926186), (283, 0.012741702046809389), (284, 0.009307060638830952), (285, 0.010558497854073551), (286, 0.04355775720253514), (287, 0.02418625916615311), (288, 0.02249588070214465), (289, 0.03553361281625535), (290, 0.019371130774032873), (291, 0.06645103418399184), (292, 0.07032411942013538), (293, 0.030525243881496432), (294, 0.0256689557199432), (295, 0.023479132534689424), (296, 0.009945657915154107), (297, 0.014766615912470218), (298, 0.016850692257262656), (299, 0.003651749767669563), (300, 0.024224986011660912), (301, 0.0167718645846755), (302, 0.016535788708046978), (303, 0.025221465317312775), (304, 0.023880216276639686), (305, 1.0), (306, 0.012695437270479804), (307, 0.016768640325900943), (308, 0.031969937934318474), (309, 0.02611067704641945), (310, 0.019606729128323487), (311, 0.02857181143007654), (312, 0.03857879676249541), (313, 0.039166889735304064), (314, 0.07774672351974392), (315, 0.013477481837672913), (316, 0.016850532161095205), (317, 0.04128044355433154), (318, 0.06587177802497544), (319, 0.017202634387158282), (320, 0.010686466205280756), (321, 0.00785413882438941), (322, 0.05152394030786931), (323, 0.015445550363694473), (324, 0.02200773032657869), (325, 0.06416253276535544), (326, 0.0150299353971946), (327, 0.015001254725306699), (328, 0.04127316816385746), (329, 0.005541343022797791), (330, 0.009968092207071125), (331, 0.009088440061951983), (332, 0.01791371807470586), (333, 0.0038725389096171455), (334, 0.020312227680194084), (335, 0.03605982647381481), (336, 0.01608629863383814), (337, 0.03961089906305278), (338, 0.004546296191702561), (339, 0.041981340217309406), (340, 0.027288276551678568), (341, 0.025701129987774136), (342, 0.018079401790620987), (343, 0.01934660692120348), (344, 0.017103676074331605), (345, 0.010635777374617728), (346, 0.008657814000646004), (347, 0.019130982988703173), (348, 0.0030272545752291742), (349, 0.013952684977247463), (350, 0.2056736766185862), (351, 0.01595600508998508), (352, 0.014819560339093074), (353, 0.0028292297923591205), (354, 0.017484118898224283), (355, 0.01670101702046784), (356, 0.05360294558118084), (357, 0.0448832255724011), (358, 0.04371475456545114), (359, 0.012782750484835577), (360, 0.019741674290581192), (361, 0.015438000849671034), (362, 0.008905307218351158), (363, 0.05962958300029277), (364, 0.012341463558628323), (365, 0.013161929341222983), (366, 0.022116200983091798), (367, 0.015176545246955383), (368, 0.00811680484373355), (369, 0.027782854986529642), (370, 0.04003726599021517), (371, 0.0703737791917646), (372, 0.031820498550712326), (373, 0.016966333081774955), (374, 0.05599362864410663), (375, 0.02016569302673437), (376, 0.017952749543231852), (377, 0.013166952803348694), (378, 0.015367343592081422), (379, 0.047855043277570376), (380, 0.01042241582194465), (381, 0.018433113127491813), (382, 0.0454910450867669), (383, 0.02288116211687812), (384, 0.020013399250179774), (385, 0.01664145695278918), (386, 0.013847342431157518), (387, 0.01772495899341339), (388, 0.026475185624289924), (389, 0.017797660871759147), (390, 0.019663385478932486), (391, 0.011965284667771126), (392, 0.01727167859900445), (393, 0.07405727764640006), (394, 0.03771011062809555), (395, 0.0014797357021498233), (396, 0.02683099964210195), (397, 0.020471272044092388), (398, 0.022999502422399166), (399, 0.008652018301769164), (400, 0.004328581010511631), (401, 0.007084099335946165), (402, 0.046793433156894944), (403, 0.009952159721920007), (404, 0.010410416439000123), (405, 0.0056104198818680995), (406, 0.00992124256076924), (407, 0.005179888280491129), (408, 0.007740359041071784), (409, 0.05359372017191153), (410, 0.017505790102551388), (411, 0.014615835827470695), (412, 0.030103997166860276), (413, 0.00643458334081594), (414, 0.09408369842069733), (415, 0.019291827438547772), (416, 0.01630952940739587), (417, 0.005075887039198415), (418, 0.014120059854620223), (419, 0.029682711354825114), (420, 0.01812206657913539), (421, 0.013694808437179644), (422, 0.008148228222442388), (423, 0.017437345896578065), (424, 0.07431804791206141), (425, 0.02274037774384729), (426, 0.010158506456132973), (427, 0.009262415303767998), (428, 0.025280772283004106), (429, 0.03897414230244088), (430, 0.017163824205845595), (431, 0.04589593878352264), (432, 0.010335325660771878), (433, 0.008081635078817286), (434, 0.009500654266198097), (435, 0.023224580073495357), (436, 0.006008341000461359), (437, 0.057659140991975444), (438, 0.024059156396567423), (439, 0.013276524451158801), (440, 0.04496488372000372), (441, 0.03465337245320687), (442, 0.034566296540835574), (443, 0.006825704659837416), (444, 0.015266232564745099), (445, 0.025790326397625737), (446, 0.02680938409397358), (447, 0.008422620693250414), (448, 0.11313665813954286), (449, 0.033081372744994425), (450, 0.02189202748540843), (451, 0.013441265819166296), (452, 0.029552987926215496), (453, 0.014117760212068632), (454, 0.029640926827228936), (455, 0.03079235111297063), (456, 0.04105099204272038), (457, 0.00696484827291372), (458, 0.01389327994969775), (459, 0.014323672289136684), (460, 0.01030264905188641), (461, 0.014277769980995454), (462, 0.04227944665337813), (463, 0.03387631042365282), (464, 0.02909211695986752), (465, 0.07158711899946416), (466, 0.01960898656045585), (467, 0.009787325552709822), (468, 0.007303223502219081), (469, 0.024083654907407406), (470, 0.003579557675554319), (471, 0.02517171413601489), (472, 0.06438905170358543), (473, 0.033707953839850924), (474, 0.01499510413150649), (475, 0.01373484413282154), (476, 0.0119738271463177), (477, 0.015547090842307888), (478, 0.013519595675473686), (479, 0.009637248225407388), (480, 0.0332112358832501), (481, 0.029392666436348535), (482, 0.031525774451849134), (483, 0.023214912959278803), (484, 0.03518005650175644), (485, 0.06897819671944862), (486, 0.06335557309138447), (487, 0.02145851557129985), (488, 0.022971332723443753), (489, 0.050084336948232853), (490, 0.04816003748193533), (491, 0.05828308460903008), (492, 0.04613844575523303), (493, 0.047856124460326374), (494, 0.03371859613629267), (495, 0.001606001578664025), (496, 0.03448043677743478), (497, 0.014918509717292555), (498, 0.02636475986336801), (499, 0.006972214925207981), (500, 0.011964556425557552), (501, 0.0246447840947867), (502, 0.010835064921313047), (503, 0.028925408740254552), (504, 0.033711849142008754), (505, 0.026995186200838368), (506, 0.03225520183383803), (507, 0.0048952481247980075), (508, 0.029395895020176588), (509, 0.015319669203347354), (510, 0.013639030583148828), (511, 0.009922330857646775), (512, 0.013564373243674956), (513, 0.006976494173514212), (514, 0.007097475203618803), (515, 0.009676755159177108), (516, 0.006710226813570814), (517, 0.010300174852706234), (518, 0.03837738449281326), (519, 0.024617402777076244), (520, 0.050195745920867), (521, 0.03254729518322676), (522, 0.013000258400968773), (523, 0.02584937041713005), (524, 0.02216308129339406), (525, 0.058828783517064), (526, 0.018319999996924418), (527, 0.0277490841039743), (528, 0.025808492250819166), (529, 0.032742812276257104), (530, 0.04024457018060952), (531, 0.01901516492271411), (532, 0.005408507879524937), (533, 0.0478858447911991), (534, 0.03949501410042598), (535, 0.04714016369398996), (536, 0.06821008415211438), (537, 0.029391617509936737), (538, 0.020270369108346342), (539, 0.014770296348722728), (540, 0.00507222758955993), (541, 0.019304033216092774), (542, 0.027517670001513114), (543, 0.06861772380449505), (544, 0.0219930456354787), (545, 0.007732009009143692), (546, 0.04782580521972865), (547, 0.025672798491097423), (548, 0.042512589463616086), (549, 0.013350987832307986), (550, 0.00903255056548215), (551, 0.026218807213994427), (552, 0.012221872094271172), (553, 0.022761778629534834), (554, 0.008192948427104765), (555, 0.041659508783014526), (556, 0.01751932951908725), (557, 0.04635358094230152), (558, 0.022466106071094158), (559, 0.039451024862813135), (560, 0.012597844974317117), (561, 0.018040687873159846), (562, 0.02774473902670507), (563, 0.0015484289732857614), (564, 0.03813273825236547), (565, 0.02307363101552665), (566, 0.009236185634810986), (567, 0.02413293052057706), (568, 0.026482930831774307), (569, 0.028701716732573435), (570, 0.020136368308166223), (571, 0.031527184524589344), (572, 0.007952481750527514), (573, 0.005852072740216008), (574, 0.009585974638300146), (575, 0.008960672710783204), (576, 0.00842712167116749), (577, 0.010750305570023095), (578, 0.008714001384078546), (579, 0.005983035887591087), (580, 0.014872574069665545), (581, 0.007526772222811616), (582, 0.008757091151069344), (583, 0.008747938265893613), (584, 0.014998611093385426), (585, 0.011753489287402046), (586, 0.00715818309835314), (587, 0.004988987736447364), (588, 0.006237193711984021), (589, 0.004029901123119892), (590, 0.004555512721988675), (591, 0.009693192597423624), (592, 0.007994252564710353), (593, 0.006261949060730507), (594, 0.053224178911849225), (595, 0.022692760571436824), (596, 0.00566828076275919), (597, 0.04037399390755943), (598, 0.030252091707517446), (599, 0.013100474007626138), (600, 0.10798010107738937), (601, 0.022719580117537667), (602, 0.02044218136934611), (603, 0.017916234061221555), (604, 0.00604351332922126), (605, 0.005622617584110318), (606, 0.006392171092105277), (607, 0.019117245769393405), (608, 0.02881746539218573), (609, 0.013552354386845405), (610, 0.0483348292367704), (611, 0.020838233814395268), (612, 0.005149737407371505), (613, 0.008342869151173491), (614, 0.004616874546070707), (615, 0.02999317671081803), (616, 0.0045734914892186125), (617, 0.05131254354469516), (618, 0.01840504264721578), (619, 0.05332479703532196), (620, 0.01903339172568136), (621, 0.009284650523431104), (622, 0.019294573717108156), (623, 0.02325986238229453), (624, 0.020817880410186087), (625, 0.02520465928704335), (626, 0.06376833778074469), (627, 0.016890554244984646), (628, 0.0274784529249139), (629, 0.014163224989062164), (630, 0.0031010871850313537), (631, 0.01407437465483509), (632, 0.04698965385161813), (633, 0.020277815398386637), (634, 0.015496461678442291), (635, 0.015861687023593328), (636, 0.02246136549315061), (637, 0.049327911719266655), (638, 0.0436360451749269), (639, 0.04938507115244004), (640, 0.015820937297537117), (641, 0.0171693947339864), (642, 0.01760242939367655), (643, 0.04222429000098097), (644, 0.07860230027773099), (645, 0.016975192921985547), (646, 0.035303044104006226), (647, 0.005814686449170746), (648, 0.03687667569285694), (649, 0.032527306787935036), (650, 0.028048274051757752), (651, 0.02713187032397602), (652, 0.009611421741905761), (653, 0.02013077980793123), (654, 0.023625811492009957), (655, 0.02307126606889453), (656, 0.031955712332448614), (657, 0.023680810566679297), (658, 0.008436003190850788), (659, 0.01671715286871389), (660, 0.013596455504244126), (661, 0.008002354664560177), (662, 0.008578760440212243), (663, 0.051415302668979306), (664, 0.01707782411768978), (665, 0.008205761402947024), (666, 0.030694487893229396), (667, 0.030004680271773995), (668, 0.009152226423561283), (669, 0.014136494615556853), (670, 0.020075822971108687), (671, 0.026430926209614902), (672, 0.02448212419870947), (673, 0.016550707087705778), (674, 0.012925646942341534), (675, 0.02451288796438577), (676, 0.014178994761884632), (677, 0.01222213978448643), (678, 0.032784263899329966), (679, 0.010660213864495513), (680, 0.010661839843474314), (681, 0.05594410586443313), (682, 0.02333296338623364), (683, 0.031634975496551906), (684, 0.040194057077188684), (685, 0.03551992334537109), (686, 0.02657287063411105), (687, 0.037654173346687525), (688, 0.021632777669155785), (689, 0.012532639148273933), (690, 0.028050758497280535), (691, 0.013433801870817861), (692, 0.01661284556362675), (693, 0.03392672430772802), (694, 0.03622303981950607), (695, 0.07272629471987513), (696, 0.014334078215628663), (697, 0.013325357889666692), (698, 0.012691073295853266), (699, 0.012852988728706268), (700, 0.012256574825863557), (701, 0.018837635186357615), (702, 0.05062564143385644), (703, 0.05389008942416906), (704, 0.013238980898301816), (705, 0.016884321603118892), (706, 0.06191247907967739), (707, 0.02404707618053603), (708, 0.020304857151840317), (709, 0.016748607794045932), (710, 0.010257478312667873), (711, 0.06853406633603104), (712, 0.02180258665880503), (713, 0.027626492804936953), (714, 0.03824441348537657), (715, 0.018207400265266523), (716, 0.07663193690784025), (717, 0.0618906701543716), (718, 0.015166263169961548), (719, 0.043452016134988586), (720, 0.040337319547278046), (721, 0.015296238395541261), (722, 0.03321113123014781), (723, 0.01034285160916444), (724, 0.028587529166963072), (725, 0.03454712526324457), (726, 0.015648311373149627), (727, 0.05426575617818678), (728, 0.016491636359260285), (729, 0.01496237159769466), (730, 0.006522795972474658), (731, 0.0071447610497129685), (732, 0.03274348216507421), (733, 0.03472435773142714), (734, 0.028356431774978753), (735, 0.03994142892390356), (736, 0.030309362938824105), (737, 0.032259210500809585), (738, 0.018915687911434744), (739, 0.02972325633088676), (740, 0.025917220373182094), (741, 0.04143601618791551), (742, 0.01516704562116752), (743, 0.041921058982967406), (744, 0.01672955403985077), (745, 0.02317814064408672), (746, 0.010192503398784887), (747, 0.01027654063484396), (748, 0.006167556727459424), (749, 0.014526658961020214), (750, 0.05068417188941221), (751, 0.015012713647599677), (752, 0.02950348996039079), (753, 0.011392222828863428), (754, 0.04800050403175181), (755, 0.02856285705791804), (756, 0.06228836989665813), (757, 0.01770006141844201), (758, 0.024035971845513534), (759, 0.023856874263005742), (760, 0.05833044366403035), (761, 0.010144409858925365), (762, 0.055274936612567986), (763, 0.020453286627385766), (764, 0.009371381456354798), (765, 0.029836242682872743), (766, 0.040996015608049455), (767, 0.01410746816531307), (768, 0.0303066302878342), (769, 0.034345624528272396), (770, 0.018542912778516447), (771, 0.00949837793294192), (772, 0.013911986493405306), (773, 0.019725079829092034), (774, 0.0011004397455488036), (775, 0.048016709242355037), (776, 0.03934401713530801), (777, 0.039488647751724906), (778, 0.06688281580863109), (779, 0.042892336644096724), (780, 0.034825226250043556), (781, 0.019374219122863648), (782, 0.025400346740939262), (783, 0.043649550193044555), (784, 0.031073739913402367), (785, 0.00918495497669427), (786, 0.011283791638756906), (787, 0.035336245094653815), (788, 0.02386676191521503), (789, 0.02322515441348592), (790, 0.05909305284239143), (791, 0.00909700559713143), (792, 0.015237615173723427), (793, 0.017687976084822317), (794, 0.02453897101893801), (795, 0.01273691751722987), (796, 0.013360876610386645), (797, 0.020051228525270623), (798, 0.012689491939893102), (799, 0.03188115566140618), (800, 0.020905553802234293), (801, 0.013562518298275456), (802, 0.022331990226097494), (803, 0.027710023677569365), (804, 0.057316964978602676), (805, 0.009102380110055125), (806, 0.013295360519959217), (807, 0.011457329121712788), (808, 0.03262227373221059), (809, 0.04025709118524361), (810, 0.023848455952789453), (811, 0.013657973508820438), (812, 0.11004030427317793), (813, 0.026017779232298578), (814, 0.013919098523798032), (815, 0.015838983293789667), (816, 0.02390510928315779), (817, 0.013655132726077174), (818, 0.01266578434148922), (819, 0.0220521751732873), (820, 0.1251479614450887), (821, 0.024523764617367088), (822, 0.028623612880292595), (823, 0.018379561087348076), (824, 0.02252510251982269), (825, 0.03511110814961411), (826, 0.016210894455657265), (827, 0.027768149353145272), (828, 0.014192030000358957), (829, 0.04633823412828757), (830, 0.047465700562481596), (831, 0.026076878120507525), (832, 0.008209274979748722), (833, 0.05586958164228492), (834, 0.028763490902821848), (835, 0.019196756521348477), (836, 0.020731995117329153), (837, 0.010322081336558089), (838, 0.010938004204289696), (839, 0.016345702194360722), (840, 0.03139613184739566), (841, 0.04403018516698044), (842, 0.013001342969976138), (843, 0.0072253203160504206), (844, 0.024213780927507464), (845, 0.01539903109628708), (846, 0.07055756430524772), (847, 0.045967671010828805), (848, 0.013305186602083078), (849, 0.012098324192653423), (850, 0.03068876234726373), (851, 0.054270600988042296), (852, 0.009061943965245763), (853, 0.017698211384494705), (854, 0.018926751106654593), (855, 0.008052222796514762), (856, 0.011544497461170276), (857, 0.023797104043576392), (858, 0.009519314265174834), (859, 0.001093619357616682), (860, 0.055436194491440924), (861, 0.011843314401754925), (862, 0.03704142799146351), (863, 0.024140847193064648), (864, 0.027046540507856338), (865, 0.021628563909823293), (866, 0.09750735628570636), (867, 0.047930047263684154), (868, 0.017946365894818937), (869, 0.03015086645874264), (870, 0.018658024059633703), (871, 0.033244552679640424), (872, 0.037353115463930525), (873, 0.03662014500300145), (874, 0.02976863979514841), (875, 0.04849826263612308), (876, 0.043126179665970654), (877, 0.02292249950936656), (878, 0.011581717356745451), (879, 0.028858148580710313), (880, 0.009738414839090218), (881, 0.017946365894818937), (882, 0.013806258819081476), (883, 0.05610723939080665), (884, 0.03166797310658836), (885, 0.017954686940875375), (886, 0.008326384107664264), (887, 0.006054026970769156), (888, 0.05000690893490693), (889, 0.025316657273958258), (890, 0.017671650529300312), (891, 0.010629281837115888), (892, 0.017092891534189032), (893, 0.005412351779951249), (894, 0.02274502723193396), (895, 0.061030644590430665), (896, 0.005260099500783147), (897, 0.007346709292393885), (898, 0.03298468190470908), (899, 0.019540522690882845), (900, 0.03288204725166298), (901, 0.0260716591861875), (902, 0.049546828389720764), (903, 0.028582152270484464), (904, 0.025485508658450062), (905, 0.05781763345088897), (906, 0.1444434594430532), (907, 0.053374178286262716), (908, 0.06859970277973493), (909, 0.05732709837230947), (910, 0.05724201915583071), (911, 0.051304419887472835), (912, 0.018960149630258678), (913, 0.015459782675833391), (914, 0.04898884841584485), (915, 0.042779471834768615), (916, 0.06739742015337861), (917, 0.05892996664741541), (918, 0.009315794459634102), (919, 0.02733910108121255), (920, 0.0354347876939582), (921, 0.018549627390726103), (922, 0.06062906384022391), (923, 0.10114664108553445), (924, 0.06369307419226655), (925, 0.039221060450272106), (926, 0.03703880032046531), (927, 0.08618867524907936), (928, 0.03352271518954499), (929, 0.016655554770907605), (930, 0.030200668764791876), (931, 0.026636762500821323), (932, 0.025100784780900935), (933, 0.030457847062615787), (934, 0.048297975366673775), (935, 0.049752783901181014), (936, 0.02273227505472289), (937, 0.009478237946480554), (938, 0.03319927237713528), (939, 0.012888392547697119), (940, 0.013805594149598203), (941, 0.04183842724516167), (942, 0.03547087736609862), (943, 0.011893380659387984), (944, 0.010524441941405803), (945, 0.034228189855744134), (946, 0.023537038560155422), (947, 0.035677096329647176), (948, 0.006141136518504824), (949, 0.008547430127778293), (950, 0.01988072865251259), (951, 0.038358450792447436), (952, 0.020442230214028405), (953, 0.01458741823872078), (954, 0.03276503748246237), (955, 0.016038921192693244), (956, 0.015122155513988326), (957, 0.014019798778854196), (958, 0.014955866849218553), (959, 0.038130947012333466), (960, 0.05659842038496488), (961, 0.04112006073553366), (962, 0.02470164145982807), (963, 0.19428241185014786), (964, 0.027357058497068817), (965, 0.017984193284882568), (966, 0.029225248580758447), (967, 0.030286010158340235), (968, 0.015000611980275165), (969, 0.03301961953806704), (970, 0.023293393741014308), (971, 0.04733781830849203), (972, 0.01919188863914396), (973, 0.043184575628074484), (974, 0.029244744237379623), (975, 0.019055849497734968), (976, 0.009440456848836043), (977, 0.013574659666840783), (978, 0.02861019129821238), (979, 0.014474002824023113), (980, 0.008238093434187), (981, 0.020621948304495694), (982, 0.025306936568165992), (983, 0.006776330852657838), (984, 0.00792084977195776), (985, 0.009495153870088159), (986, 0.019316581846495488), (987, 0.010867207358790746), (988, 0.018368468950011797), (989, 0.008376588728198936), (990, 0.00769426550921832), (991, 0.11243145121399407), (992, 0.022291874192665102), (993, 0.018727514008807507), (994, 0.01004753352448223), (995, 0.016663922073003976), (996, 0.008079896302827344), (997, 0.031633298485130086), (998, 0.017718367458536142), (999, 0.02278922379090488), (1000, 0.026229295483072207), (1001, 0.05513568538616816), (1002, 0.06036213919364368), (1003, 0.055829366803046156), (1004, 0.016235641249977884), (1005, 0.006966829156613676), (1006, 0.024841795004527007), (1007, 0.025622868540931897), (1008, 0.020016194473736895), (1009, 0.01602152174136414), (1010, 0.04026916015768475), (1011, 0.10550254590186922), (1012, 0.009281681243138296), (1013, 0.024186956269224527), (1014, 0.024851336256024974), (1015, 0.004456062177088787), (1016, 0.006019073745123251), (1017, 0.015319662567465477), (1018, 0.023978282492022343), (1019, 0.005590120759425037), (1020, 0.025835341548984453), (1021, 0.02042228409565418), (1022, 0.02106455661092824), (1023, 0.0199292954629563), (1024, 0.035557509896101125), (1025, 0.013398399873597752), (1026, 0.020038914352550403), (1027, 0.004900905252247746), (1028, 0.02116705871792346), (1029, 0.022664195305075754), (1030, 0.014972038899618012), (1031, 0.16464902208527857), (1032, 0.017114778142929263), (1033, 0.018551463137128504), (1034, 0.028857827569486183), (1035, 0.009036602846537475), (1036, 0.05522142264305659), (1037, 0.018677748639354296), (1038, 0.02818926334960624), (1039, 0.05027401026693289), (1040, 0.026088637621408138), (1041, 0.01639291711011391), (1042, 0.053490368024023405), (1043, 0.038218490876460176), (1044, 0.01896990347052041), (1045, 0.020109857365569084), (1046, 0.026345862645282176), (1047, 0.04921636174022884), (1048, 0.004813890514112555), (1049, 0.023011853747688233), (1050, 0.013897754196621634), (1051, 0.00450137426440676), (1052, 0.01438464575495108), (1053, 0.022421704963154456), (1054, 0.044694074119113546), (1055, 0.02841368806264461), (1056, 0.004934641337576558), (1057, 0.01761257618573775), (1058, 0.004102550475621633), (1059, 0.029535958918850268), (1060, 0.03134296173725275), (1061, 0.009523973857037548), (1062, 0.06248755261459201), (1063, 0.02683015900314687), (1064, 0.05439523539284974), (1065, 0.042174526174423944), (1066, 0.035574831991596785), (1067, 0.0185687097798818), (1068, 0.021400062296080654), (1069, 0.029519994918727258), (1070, 0.04370310970762111), (1071, 0.015773680428110073), (1072, 0.03266081433401674), (1073, 0.025614525550687734), (1074, 0.010692696951428804), (1075, 0.029868009829357143), (1076, 0.01831819480559676), (1077, 0.02280004026390727), (1078, 0.022665725184482184), (1079, 0.024042390016159886), (1080, 0.0), (1081, 0.04818144016680758), (1082, 0.007632676265490372), (1083, 0.07825569674013767), (1084, 0.04115304001155405), (1085, 0.03899190269006486), (1086, 0.011100975915483867), (1087, 0.0683304753718231), (1088, 0.039261094896161704), (1089, 0.03623479198153009), (1090, 0.0318546160393708), (1091, 0.021113270733762218), (1092, 0.0524666888151302), (1093, 0.01595067580905027), (1094, 0.04313667112094918), (1095, 0.09918785498353891), (1096, 0.058105404575632215), (1097, 0.015607967174810045), (1098, 0.024036280130016272), (1099, 0.0245655037350652), (1100, 0.1789302764449629), (1101, 0.020317136970529948), (1102, 0.040575325054211575), (1103, 0.055426319557283985), (1104, 0.014711991288582062), (1105, 0.04602193397627184), (1106, 0.0316994213991029), (1107, 0.013084060008827053), (1108, 0.006525307898898261), (1109, 0.060736471369762214), (1110, 0.03477453010299422), (1111, 0.04613345378559575), (1112, 0.046234950024894104), (1113, 0.02918084738745283), (1114, 0.029818302705219808), (1115, 0.006647447164626489), (1116, 0.03908279814780689), (1117, 0.02109430983349405), (1118, 0.014301934658922549), (1119, 0.015550249006703473), (1120, 0.03161158795006382), (1121, 0.023101162723359603), (1122, 0.02422353384174401), (1123, 0.019516785183707863), (1124, 0.031917867545485604), (1125, 0.09026131835003663), (1126, 0.11113060608697653), (1127, 0.025983122359240846), (1128, 0.02788075236277638), (1129, 0.027328578210108027), (1130, 0.009909657389149854), (1131, 0.04499598936909583), (1132, 0.01965478119393546), (1133, 0.05029953024111835), (1134, 0.011047881131937295), (1135, 0.021503799003362935), (1136, 0.019199079843280703), (1137, 0.023307438624357416), (1138, 0.007160016361144427), (1139, 0.02168685420119278), (1140, 0.04089508255847653), (1141, 0.016954616312382494), (1142, 0.02900760134714934), (1143, 0.04158243196229121), (1144, 0.028503680277146642), (1145, 0.06722372855701979), (1146, 0.024350662096385242), (1147, 0.028876557591192394), (1148, 0.031127776007631575), (1149, 0.025153986824260798), (1150, 0.017109134577930868), (1151, 0.051116497600760265), (1152, 0.04189294846702357), (1153, 0.008331653254903993), (1154, 0.018693315963660757), (1155, 0.022152260744572723), (1156, 0.02059630187583388), (1157, 0.012825727069639694), (1158, 0.02351299655445161), (1159, 0.018828947826860187), (1160, 0.027624124313297645), (1161, 0.030695985965934904), (1162, 0.046310084931899864), (1163, 0.018571664583972504), (1164, 0.07416576642258975), (1165, 0.01951484671025145), (1166, 0.014959171603083457), (1167, 0.022883086558207307), (1168, 0.01949325889157013), (1169, 0.022275596841335316), (1170, 0.006350101939405608), (1171, 0.01421357684358738), (1172, 0.03925731222122816), (1173, 0.011582528429569708), (1174, 0.021349931405015107), (1175, 0.07053789006273835), (1176, 0.031809088298673405), (1177, 0.16900349168849693), (1178, 0.006343481273792851), (1179, 0.031927101077529864), (1180, 0.04744986844744746), (1181, 0.0002120525885226878), (1182, 0.05500569098840464), (1183, 0.06932562822413543), (1184, 0.0036774146986233345), (1185, 0.009346749066520886), (1186, 0.02135386298344892), (1187, 0.014374587507358797), (1188, 0.01910219654494225), (1189, 0.007290377501682269), (1190, 0.020508697900045714), (1191, 0.02611155859919056), (1192, 0.051478791833007), (1193, 0.015718748750897182), (1194, 0.06326205446641937), (1195, 0.045191917063942044), (1196, 0.04912377183987581), (1197, 0.045024475407165095), (1198, 0.04071414880641184), (1199, 0.07442976464171086), (1200, 0.016510501386323394), (1201, 0.007390089576395784), (1202, 0.02739530735958917), (1203, 0.008012596672068467), (1204, 0.03810856898377963), (1205, 0.051917978675233394), (1206, 0.012206449044854392), (1207, 0.015049738622738595), (1208, 0.007732449920250045), (1209, 0.03364949603118922), (1210, 0.03565250238765633), (1211, 0.04755688030351653), (1212, 0.012679119239014018), (1213, 0.0037330087975567775), (1214, 0.04670615128378819), (1215, 0.05134407087506503), (1216, 0.012967549830204234), (1217, 0.034218000861333066), (1218, 0.02658805420730417), (1219, 0.012737046744041176), (1220, 0.030619104321589277), (1221, 0.020615181855239195), (1222, 0.005715019865348189), (1223, 0.07543443262281939), (1224, 0.03479114183695858), (1225, 0.032993695882404556), (1226, 0.011662832090740309), (1227, 0.018709994382527788), (1228, 0.02646612114210743), (1229, 0.05904680381680028), (1230, 0.016554010598354433), (1231, 0.03613497903244894), (1232, 0.04572538399598566), (1233, 0.20006012669311796), (1234, 0.4731011514622635), (1235, 0.01721551417439747), (1236, 0.012874308243989052), (1237, 0.02450097439520483), (1238, 0.04362515733571015), (1239, 0.026709004909017828), (1240, 0.05502633610841127), (1241, 0.013697899551514459), (1242, 0.016789936051635302), (1243, 0.037158743057728594), (1244, 0.0076096569435089275), (1245, 0.04265958558812449), (1246, 0.0476513040768919), (1247, 0.008315928436535175), (1248, 0.05449279474537587), (1249, 0.015425893568398076), (1250, 0.051712803246080956), (1251, 0.06902545214872031), (1252, 0.01561868464216064), (1253, 0.023510821014647854), (1254, 0.005187243910324695), (1255, 0.027179322411262766), (1256, 0.023197397276845028), (1257, 0.038383173799442824), (1258, 0.012595171764054485), (1259, 0.05344662434840314), (1260, 0.02260518030796278), (1261, 0.07916710307001304), (1262, 0.018989544718670013), (1263, 0.0172256192220412), (1264, 0.014241692182340353), (1265, 0.0218803511402048), (1266, 0.020252876946414502), (1267, 0.008637949621392343), (1268, 0.013761165522758167), (1269, 0.02763975479049348), (1270, 0.01565153370610581), (1271, 0.009945538595583664), (1272, 0.03442884631832415), (1273, 0.016821668281868915), (1274, 0.02097523198214033), (1275, 0.0057802776253418125), (1276, 0.016855126923083878), (1277, 0.07419812073340419), (1278, 0.05062572613338605), (1279, 0.04034474976095986), (1280, 0.04507956643139024), (1281, 0.01921536534293721), (1282, 0.038422613417962714), (1283, 0.025457914612239667), (1284, 0.03191332066801464), (1285, 0.02635204732929841), (1286, 0.009091035792276173), (1287, 0.09667061113330042), (1288, 0.015033052540060876), (1289, 0.0396558291014895), (1290, 0.054020665596991695), (1291, 0.05353106151874943), (1292, 0.0020278235784372857), (1293, 0.043534896889981724), (1294, 0.023163302729546264), (1295, 0.02130985723606214), (1296, 0.024976942765678866), (1297, 0.0218129594494898), (1298, 0.05108527890515035), (1299, 0.00862937507765655), (1300, 0.03177084172009672), (1301, 0.04045326328387389), (1302, 0.01230846306722704), (1303, 0.021323683147894876), (1304, 0.04386300070266736), (1305, 0.030176939008121767), (1306, 0.021767940859426453), (1307, 0.006517556231718742), (1308, 0.014751100598999766), (1309, 0.02502160769295862), (1310, 0.008447698256516208), (1311, 0.005947366999327687), (1312, 0.002730127270217012), (1313, 0.03292489476688868), (1314, 0.020819611628868896), (1315, 0.03966066325217621), (1316, 0.0559989839181964), (1317, 0.12488460581053555), (1318, 0.0162286576198534), (1319, 0.007336457382801695), (1320, 0.009873353215222444), (1321, 0.010375258211960392), (1322, 0.036349171813841175), (1323, 0.03788731902324635), (1324, 0.11966259258990519), (1325, 0.013887738340708153), (1326, 0.15426510979001012), (1327, 0.013237662394341985), (1328, 0.012718209355669636), (1329, 0.00583530769000644), (1330, 0.014782816127352473), (1331, 0.01685324178886767), (1332, 0.057077071185077474), (1333, 0.058227065934306294), (1334, 0.028998608412327143), (1335, 0.02501335632280533), (1336, 0.03834998868156711), (1337, 0.021430722070160092), (1338, 0.026407591124361113), (1339, 0.005109333901030015), (1340, 0.01190845566256544), (1341, 0.03274028125855577), (1342, 0.022499137729062625), (1343, 0.023813690764020748), (1344, 0.02706465709173571), (1345, 0.010451349420680142), (1346, 0.011054399767373043), (1347, 0.006877988904363865), (1348, 0.015616957754792013), (1349, 0.024624276666768006), (1350, 0.018598421230592837), (1351, 0.046764000544881244), (1352, 0.005377024900387045), (1353, 0.013049027085323888), (1354, 0.020905567109953182), (1355, 0.017031513791651184), (1356, 0.04214204878192547), (1357, 0.02659342402252456), (1358, 0.010208383788158543), (1359, 0.025101372823393867), (1360, 0.022335268629437712), (1361, 0.026702971644961524), (1362, 0.051023759078613964), (1363, 0.031922248410160746), (1364, 0.07578425688154208), (1365, 0.07044236070223243), (1366, 0.039617177641771945), (1367, 0.09586389354161481), (1368, 0.037980664026690085), (1369, 0.06598942655028507), (1370, 0.022222217055000923), (1371, 0.017701552852301114), (1372, 0.05344025901162392), (1373, 0.029086916283343957), (1374, 0.023319155863683785), (1375, 0.05173969266340617), (1376, 0.024241461866304152), (1377, 0.022677806923104452), (1378, 0.016850685173900398), (1379, 0.01650566285186578), (1380, 0.009670322817058846), (1381, 0.12406843451790482), (1382, 0.02391426258892704), (1383, 0.08576480653930257), (1384, 0.007880954444076391), (1385, 0.04719333420264152), (1386, 0.022676060507111226), (1387, 0.029497674221923162), (1388, 0.04526488809727313), (1389, 0.019702433925347148), (1390, 0.017048690956503267), (1391, 0.008219661475169695), (1392, 0.017654422432058826), (1393, 0.021597420338761948), (1394, 0.011760274668649217), (1395, 0.03102085737112523), (1396, 0.018865282620844977), (1397, 0.008938379896294679), (1398, 0.05329491937712444), (1399, 0.027737530336292684), (1400, 0.00714816721921159), (1401, 0.019810482626741864), (1402, 0.019557540104623256), (1403, 0.03170841453832807), (1404, 0.01544384327537198), (1405, 0.02554339563867909), (1406, 0.014649512471177677), (1407, 0.010259651914887194), (1408, 0.030122493754325366), (1409, 0.015598148172376976), (1410, 0.011543355840816253), (1411, 0.01953562066581733), (1412, 0.029222749193991485), (1413, 0.033678493449948076), (1414, 0.05884904153060387), (1415, 0.02763474633378328), (1416, 0.0172972957421979), (1417, 0.016336487412270076), (1418, 0.038369694777356106), (1419, 0.021264772062267068), (1420, 0.010489702688426136), (1421, 0.011070618317121758), (1422, 0.055501395347708725), (1423, 0.10271757413579108), (1424, 0.015485601674505137), (1425, 0.022936304583151945), (1426, 0.01919031891280831), (1427, 0.05208217660183334), (1428, 0.011457962966907867), (1429, 0.056396104064598995), (1430, 0.005123487967000281), (1431, 0.05052634571776223), (1432, 0.028022238478108388), (1433, 0.08647070987852222), (1434, 0.03111679549457181), (1435, 0.02841338569180038), (1436, 0.04355937656802611), (1437, 0.012043769485696337), (1438, 0.029588852308685725), (1439, 0.03649605660253019), (1440, 0.022800928982601627), (1441, 0.013478036484857531), (1442, 0.16276304943786862), (1443, 0.03494896105094276), (1444, 0.01693453982816799), (1445, 0.010231440266105021), (1446, 0.017970321990842142), (1447, 0.01690852845707614), (1448, 0.009678462090849537), (1449, 0.014440524987827158), (1450, 0.025192090115274866), (1451, 0.024064996939240028), (1452, 0.01892011954533291), (1453, 0.031114970193607393), (1454, 0.01635361731324047), (1455, 0.005680683713542255), (1456, 0.027797851007389584), (1457, 0.037406215506308155), (1458, 0.0985347091747679), (1459, 0.009565742546591531), (1460, 0.01844188612209773), (1461, 0.020875738044382974), (1462, 0.0024724216013227913), (1463, 0.019095707170519588), (1464, 0.014411966925648147), (1465, 0.016045018388137974), (1466, 0.009739880962527385), (1467, 0.006832879907932948), (1468, 0.02601746342610213), (1469, 0.040341326785992136), (1470, 0.03139839005235343), (1471, 0.010301781807881757), (1472, 0.03359057781676859), (1473, 0.05938456815403962), (1474, 0.0265461118032845), (1475, 0.01885572826807809), (1476, 0.047849105481516815), (1477, 0.0455088840510645), (1478, 0.0181583675870811), (1479, 0.05766059130908768), (1480, 0.11871937951872852), (1481, 0.3557574410731724), (1482, 0.011661331616632777), (1483, 0.01138023566784604), (1484, 0.04961982635700396), (1485, 0.025120944019046593), (1486, 0.021092381071089402), (1487, 0.05413319060940466), (1488, 0.009638478104829274), (1489, 0.017827071255934163), (1490, 0.021970854892142174), (1491, 0.01885908441489825), (1492, 0.03322160346914066), (1493, 0.026613298557278023), (1494, 0.01765202522695155), (1495, 0.023899981957643222), (1496, 0.037493257412177725), (1497, 0.002557601265873859), (1498, 0.01654395660796079), (1499, 0.048054221130218296), (1500, 0.035859239848847285), (1501, 0.009315801598322035), (1502, 0.017280073360883736), (1503, 0.03457076524334812), (1504, 0.03688994890530941), (1505, 0.06232275288622288), (1506, 0.048254295651596404), (1507, 0.02677309195700324), (1508, 0.019252997771071402), (1509, 0.015277572661395117), (1510, 0.014386096231690017), (1511, 0.02126543437070655), (1512, 0.026722465381999683), (1513, 0.02168939210013463), (1514, 0.04743971939700147), (1515, 0.007097372344097087), (1516, 0.005371890076557268), (1517, 0.009691887744994118), (1518, 0.023700225394758124), (1519, 0.024249996738149232), (1520, 0.016436435842385348), (1521, 0.020832421595841293), (1522, 0.012809936819172335), (1523, 0.005036357760542431), (1524, 0.007879870080532089), (1525, 0.01813006998697972), (1526, 0.030220914905276276), (1527, 0.12778002965155436), (1528, 0.10313038660946677), (1529, 0.013820709199657649), (1530, 0.05039402125897877), (1531, 0.0167369326281592), (1532, 0.011983242036194598), (1533, 0.007539118458456957), (1534, 0.01703060069608858), (1535, 0.057685353224312605), (1536, 0.05174710715469469), (1537, 0.031342244832820956), (1538, 0.011749601615708071), (1539, 0.010161441135839158), (1540, 0.025687237192525955), (1541, 0.024981931119856336), (1542, 0.027895043606594894), (1543, 0.012948982356412059), (1544, 0.010593801550469127), (1545, 0.019028768336732817), (1546, 0.044537265537424674), (1547, 0.024553237150639878), (1548, 0.019327430992109807), (1549, 0.006084162613114703), (1550, 0.01089694347847648), (1551, 0.11587588298769125), (1552, 0.009589180644775576), (1553, 0.01475230679990358), (1554, 0.024246122946181982), (1555, 0.017986260675647556), (1556, 0.0269018125324087), (1557, 0.01933059682130689), (1558, 0.007660528503829139), (1559, 0.009248203932668734), (1560, 0.021075496383603076), (1561, 0.01611092826024581), (1562, 0.021035297156130818), (1563, 0.018141282041270274), (1564, 0.0463905738871892), (1565, 0.008119172049639772), (1566, 0.03531962789636466), (1567, 0.024755804049739392), (1568, 0.026520307981324286), (1569, 0.03584731125507343), (1570, 0.01955656154513527), (1571, 0.04029151875215677), (1572, 0.01331621363040399), (1573, 0.017703647493199467), (1574, 0.020836920796294702), (1575, 0.023078790858207635), (1576, 0.024248300025466334), (1577, 0.010423987609291592), (1578, 0.014860878200182101), (1579, 0.03415587630671221), (1580, 0.02367657515265082), (1581, 0.050182340964712954), (1582, 0.03803566933013404), (1583, 0.03744676281941886), (1584, 0.03661164635615841), (1585, 0.015312853642824439), (1586, 0.013332369649538288), (1587, 0.0323451441912145), (1588, 0.035275417830274845), (1589, 0.005202874960001137), (1590, 0.023144240936963396), (1591, 0.10237550567929725), (1592, 0.10340459382646658), (1593, 0.02609695155026992), (1594, 0.020006114928398187), (1595, 0.005991119558537026), (1596, 0.13752270872449182), (1597, 0.021587660030689102), (1598, 0.022388323937499614), (1599, 0.028707632672764348), (1600, 0.030497239427541956), (1601, 0.012473347214281824), (1602, 0.04627339358383605), (1603, 0.029402861164607934), (1604, 0.008243509497339648), (1605, 0.0391430075273181), (1606, 0.0191501372933566), (1607, 0.08846161884617312), (1608, 0.05869825132291086), (1609, 0.03634703879938366), (1610, 0.011969681100510773), (1611, 0.0374109442408376), (1612, 0.020406555870024427), (1613, 0.0355832102897685), (1614, 0.0707947261056045), (1615, 0.026046620515156417), (1616, 0.02963312669427456), (1617, 0.005775220856335644), (1618, 0.0033712012383684256), (1619, 0.002821508071919326), (1620, 0.01778082562427216), (1621, 0.00972138865962609), (1622, 0.022859966446833215), (1623, 0.01073208578988059), (1624, 0.00998378600541345), (1625, 0.026698998650259955), (1626, 0.03396432441659279), (1627, 0.03773736807133485), (1628, 0.01187262713303537), (1629, 0.018215555048842105), (1630, 0.04251901010670661), (1631, 0.07528882795976641), (1632, 0.0251933043142341), (1633, 0.008211912203420144), (1634, 0.01807597068278876), (1635, 0.07841133438630224), (1636, 0.018200465677137463), (1637, 0.007915897500745681), (1638, 0.016761635385167298), (1639, 0.010974943423274017), (1640, 0.0074426719279242805), (1641, 0.03241789414058864), (1642, 0.03353466487512), (1643, 0.01864952322519616), (1644, 0.034257447557773706), (1645, 0.014874653276154302), (1646, 0.028472112979889868), (1647, 0.03235697255689555), (1648, 0.03251423441108666), (1649, 0.10184192904142293), (1650, 0.02199824798385018), (1651, 0.05460958167393343), (1652, 0.056394617323867156), (1653, 0.00943752211947882), (1654, 0.014642078649548161), (1655, 0.020518403754628163), (1656, 0.02821194026100885), (1657, 0.02999642189600324), (1658, 0.02654659337354908), (1659, 0.03198564969449139), (1660, 0.04848806123999967), (1661, 0.042664358350255324), (1662, 0.03221955196026498), (1663, 0.04487348015241841), (1664, 0.005645998605188851), (1665, 0.009833665525805117), (1666, 0.015220360478776462), (1667, 0.04309795305467801), (1668, 0.008317272694328061), (1669, 0.03942154902264146), (1670, 0.013734951200361903), (1671, 0.005713850398734495), (1672, 0.03190557084948722), (1673, 0.03719749032502201), (1674, 0.030463391625156277), (1675, 0.02492920252006403), (1676, 0.03139705911569793), (1677, 0.02389970017243432), (1678, 0.008062692507225829), (1679, 0.09315707497264243), (1680, 0.021425278599400563), (1681, 0.012386657026508633), (1682, 0.03359890089847376), (1683, 0.021874679765172555), (1684, 0.009014288098763874), (1685, 0.012203684846557143), (1686, 0.059707018849640164), (1687, 0.03130094555898158), (1688, 0.033390359852139666), (1689, 0.05597504940775183), (1690, 0.011764518695541458), (1691, 0.02302733250669762), (1692, 0.01603073680571405), (1693, 0.011131227231281238), (1694, 0.04938893330583401), (1695, 0.010309675678538468), (1696, 0.016569228422874113), (1697, 0.01598363710968069), (1698, 0.02540116498879696), (1699, 0.016393420369824552), (1700, 0.026539439222506636), (1701, 0.06192503984583617), (1702, 0.03370224815919262), (1703, 0.020265932799734335), (1704, 0.04600695891764617), (1705, 0.024387827616919676), (1706, 0.04774858057450805), (1707, 0.030372446245909814), (1708, 0.014478248650613593), (1709, 0.028186576708878426), (1710, 0.016938992853824948), (1711, 0.0341381060674714), (1712, 0.0228728299776588), (1713, 0.020080541580180102), (1714, 0.019732955717833213), (1715, 0.038205711032337754), (1716, 0.023699603529938492), (1717, 0.02063324521837511), (1718, 0.025845324376338), (1719, 0.0170785310223504), (1720, 0.021641396845749908), (1721, 0.024932113609106472), (1722, 0.010529006411485667), (1723, 0.06364428727732582), (1724, 0.02062989553759048), (1725, 0.015382125242269302), (1726, 0.049216446678432134), (1727, 0.014970210236427505), (1728, 0.04202970778828222), (1729, 0.01187222687866058), (1730, 0.01056141873139352), (1731, 0.021960153477243446), (1732, 0.025383738267190287), (1733, 0.014283764057753874), (1734, 0.023039895821843636), (1735, 0.03849960495192103), (1736, 0.033973856241033495), (1737, 0.0354698259678229), (1738, 0.01754777348287214), (1739, 0.035670616044903604), (1740, 0.026657245291761028), (1741, 0.007328161493082729), (1742, 0.03977656761214965), (1743, 0.06288225472253112), (1744, 0.012470546248675862), (1745, 0.014174640670368872), (1746, 0.08569934198668362), (1747, 0.015072166014303891), (1748, 0.03422709235826109), (1749, 0.03437706146558107), (1750, 0.051391332460461785), (1751, 0.04590645260566631), (1752, 0.037294802285726764), (1753, 0.07246346377367896), (1754, 0.0071289257209917805), (1755, 0.025250891422849767), (1756, 0.015238552855166664), (1757, 0.02179866227888853), (1758, 0.04965592196662013), (1759, 0.021901433159489128), (1760, 0.06942628294811543), (1761, 0.008501900095920277), (1762, 0.05031288521471722), (1763, 0.022939566343668272), (1764, 0.012672354151886124), (1765, 0.02808131380611789), (1766, 0.02654693694450952), (1767, 0.022658247331275846), (1768, 0.02629820837830662), (1769, 0.006097595335562668), (1770, 0.04168649684305151), (1771, 0.023654115838792008), (1772, 0.014205186610972618), (1773, 0.017227526241429682), (1774, 0.03029330797127898), (1775, 0.024132706437959554), (1776, 0.01140026888143002), (1777, 0.09818265223444742), (1778, 0.03310343408887407), (1779, 0.0255970618327352), (1780, 0.010559691951967948), (1781, 0.024958748418591973), (1782, 0.052956678804359184), (1783, 0.041328712318957246), (1784, 0.025981358524505723), (1785, 0.014870981260232527), (1786, 0.03253550423273518), (1787, 0.021482906222707293), (1788, 0.04372403222227999), (1789, 0.021051530787111788), (1790, 0.02630004490990115), (1791, 0.030550462586580722), (1792, 0.023340328507996666), (1793, 0.017503319776481504), (1794, 0.04454669567690795), (1795, 0.014253283309919406), (1796, 0.020263188583549113), (1797, 0.023139364510588345), (1798, 0.02389832172818519), (1799, 0.0018595209585327431), (1800, 0.014135691905219794), (1801, 0.015215492518334208), (1802, 0.018571993811308113), (1803, 0.022408810448778085), (1804, 0.010479562167873829), (1805, 0.014048609202439739), (1806, 0.019732249775797014), (1807, 0.012270360101904089), (1808, 0.03920362090595156), (1809, 0.04931879838737625), (1810, 0.008301210148276242), (1811, 0.02364518953158444), (1812, 0.020253877920192568), (1813, 0.021596222334132838), (1814, 0.006573365965470841), (1815, 0.05579806999534529), (1816, 0.06263275787149947), (1817, 0.0645371930091732), (1818, 0.039451867915634355), (1819, 0.00878589073256038), (1820, 0.04621341198718352), (1821, 0.03885156142088075), (1822, 0.003929389759740489), (1823, 0.018772835755985786), (1824, 0.008838132535317218), (1825, 0.034770252411441854), (1826, 0.07370093889857982), (1827, 0.030229021561915585), (1828, 0.023258036236078285), (1829, 0.009931883121158868), (1830, 0.021588570141156626), (1831, 0.012509519560212583), (1832, 0.008173382816229905), (1833, 0.027596512024394542), (1834, 0.011359738851906342), (1835, 0.09127682659615469), (1836, 0.065618342627268), (1837, 0.029598149182275206), (1838, 0.002858019689820214), (1839, 0.015693755185402808), (1840, 0.021548966087556153), (1841, 0.08424266505927477), (1842, 0.026826890900255716), (1843, 0.019383629020310118), (1844, 0.026505818006215303), (1845, 0.017727026856111917), (1846, 0.011022741204225153), (1847, 0.00588680661140376), (1848, 0.013289695359330772), (1849, 0.00999813021364688), (1850, 0.027703245264011363), (1851, 0.015201827245980768), (1852, 0.03636410220799014), (1853, 0.005423568754229552), (1854, 0.019044972136973256), (1855, 0.022390352033918405), (1856, 0.005463033414929654), (1857, 0.01582717587277028), (1858, 0.01416641850646634), (1859, 0.023747893361052007), (1860, 0.03109472404886447), (1861, 0.03358273776780234), (1862, 0.017656789132730735), (1863, 0.02538780565237658), (1864, 0.011952520101347126), (1865, 0.019480980024378026), (1866, 0.01448940009109475), (1867, 0.012574877115218876), (1868, 0.001907595119757028), (1869, 0.038515360076496884), (1870, 0.0704084325656006), (1871, 0.03286368086540398), (1872, 0.011712063658979845), (1873, 0.01981575105588576), (1874, 0.025773009181422436), (1875, 0.012437572661939622), (1876, 0.08236569534048177), (1877, 0.01927257876663692), (1878, 0.03927091109915472), (1879, 0.009017439649241768), (1880, 0.04390009721591843), (1881, 0.05081392680589805), (1882, 0.016162838832605855), (1883, 0.03933813964373245), (1884, 0.015357667312760871), (1885, 0.01803929780933404), (1886, 0.015740464487161487), (1887, 0.06627959589647371), (1888, 0.06132642059689681), (1889, 0.08559670555953781), (1890, 0.01862977896460663), (1891, 0.01723347677171224), (1892, 0.04288898292863131), (1893, 0.02350305739997205), (1894, 0.028734899126519983), (1895, 0.06186264652687112), (1896, 0.06844393883002532), (1897, 0.020224295114045197), (1898, 0.017420601917977233), (1899, 0.04005526362838986), (1900, 0.010620766720566405), (1901, 0.09171439906427646), (1902, 0.019989074946964676), (1903, 0.006500087423033795), (1904, 0.010178865931602702), (1905, 0.035800192857102016), (1906, 0.029109108223295144), (1907, 0.060443974880275905), (1908, 0.06716739355268542), (1909, 0.018230605833828677), (1910, 0.015452351476360577), (1911, 0.02909380911335136), (1912, 0.020349608536524545), (1913, 0.020947579127177814), (1914, 0.02720402199862505), (1915, 0.020517196982809315), (1916, 0.03322509216904551), (1917, 0.04642067218621133), (1918, 0.04753203307679805), (1919, 0.048292234299422906), (1920, 0.03854577258213473), (1921, 0.05514820636453518), (1922, 0.030772201881391414), (1923, 0.01326651072537434), (1924, 0.013912865902926543), (1925, 0.04415472510889455), (1926, 0.019293764095067622), (1927, 0.0068239497401425386), (1928, 0.04961061487290302), (1929, 0.07652468993379324), (1930, 0.13752253675279366), (1931, 0.09388962121641178), (1932, 0.02295426135069611), (1933, 0.02170655590934279), (1934, 0.019615289841165055), (1935, 0.018896849093817836), (1936, 0.018760788851198626), (1937, 0.013339642638120382), (1938, 0.03300711388112578), (1939, 0.013902731489893062), (1940, 0.016752914100920616), (1941, 0.004933216746211462), (1942, 0.020397769218201876), (1943, 0.047705130634707486), (1944, 0.032520445880934834), (1945, 0.014398441915508046), (1946, 0.005419661580940453), (1947, 0.015141254979623885), (1948, 0.03840555265212017), (1949, 0.0337768245319454), (1950, 0.055750597810835946), (1951, 0.023700002627689114), (1952, 0.018268462409013878), (1953, 0.01693243417212201), (1954, 0.016500961749812124), (1955, 0.008861935805350683), (1956, 0.020839037604141457), (1957, 0.03917977796806827), (1958, 0.010652040223571775), (1959, 0.02889571197754138), (1960, 0.03843213152907406), (1961, 0.023251215582483695), (1962, 0.019370028240470363), (1963, 0.03460486707511292), (1964, 0.014939564768696328), (1965, 0.017841006087149777), (1966, 0.08592067256289551), (1967, 0.0233118971064966), (1968, 0.023153550515423834), (1969, 0.1204487243952963), (1970, 0.012661795331322414), (1971, 0.0763271719248453), (1972, 0.015523309903234347), (1973, 0.011719963639697335), (1974, 0.014702435487161306), (1975, 0.03831528052820827), (1976, 0.01949992949302749), (1977, 0.00971454027447517), (1978, 0.026715770115983285), (1979, 0.008301421808450272), (1980, 0.04837581358084948), (1981, 0.021367172809246923), (1982, 0.020432426493525134), (1983, 0.022373564514018233), (1984, 0.010358703060859877), (1985, 0.01656330837129302), (1986, 0.007852970905057335), (1987, 0.034414949306478086), (1988, 0.011243588172535209), (1989, 0.02501165035769083), (1990, 0.014573848161816973), (1991, 0.014334203803389857), (1992, 0.04431075847427184), (1993, 0.0060677726491993374), (1994, 0.07859141195356435), (1995, 0.0411531046099458), (1996, 0.011722678892566856), (1997, 0.0177480381108465), (1998, 0.026353453546107467), (1999, 0.030564285666543616), (2000, 0.016236903843331978), (2001, 0.009594704246142982), (2002, 0.027760019042046644), (2003, 0.03471585499094083), (2004, 0.038404930516718436), (2005, 0.006094200499882927), (2006, 0.02544895560064273), (2007, 0.03497632548299846), (2008, 0.033514193496918435), (2009, 0.005286651455702791), (2010, 0.01624956155993348), (2011, 0.04543168195397016), (2012, 0.1352734016463266), (2013, 0.1204487243952963), (2014, 0.02568081291272382), (2015, 0.02342016375384649), (2016, 0.03036139968642622), (2017, 0.015686384124071775), (2018, 0.019682939593239777), (2019, 0.04351468617067439), (2020, 0.02144289874843396), (2021, 0.053555637021490195), (2022, 0.020605080348104227), (2023, 0.01087590632122416), (2024, 0.0048352097732843715), (2025, 0.027818357696998443), (2026, 0.0088847684221518), (2027, 0.03544175044109559), (2028, 0.008074435395304442), (2029, 0.045099957651188266), (2030, 0.015191939977067316), (2031, 0.2045721415349984), (2032, 0.00863926063966789), (2033, 0.005450218710786916), (2034, 0.0283126218077485), (2035, 0.013454639056431282), (2036, 0.010541603478440846), (2037, 0.0368653671559789), (2038, 0.01532993694956908), (2039, 0.02548570879771286), (2040, 0.028535100485409425), (2041, 0.03149151993799936), (2042, 0.01596698564970791), (2043, 0.04428214613475595), (2044, 0.014109940585392576), (2045, 0.004363157197439767), (2046, 0.037865491408715896), (2047, 0.07586752245754183), (2048, 0.014598416121764289), (2049, 0.03109806990101128), (2050, 0.05292314826530407), (2051, 0.02596557521226823), (2052, 0.020628435912145526), (2053, 0.03618504986805267), (2054, 0.009657026945277706), (2055, 0.016419838091804927), (2056, 0.03110799733142845), (2057, 0.019087950376760022), (2058, 0.008181087767903121), (2059, 0.02199794691501815), (2060, 0.04042497015311041), (2061, 0.03330787759271157), (2062, 0.034656710246123504), (2063, 0.007568845805301873), (2064, 0.02786472389504511), (2065, 0.017063703240142454), (2066, 0.011245273231106336), (2067, 0.008588277809665493), (2068, 0.009911848805751489), (2069, 0.02469711575186983), (2070, 0.05287292175090963), (2071, 0.034562282211808217), (2072, 0.045410699959187076), (2073, 0.026510187172132264), (2074, 0.02507127345896957), (2075, 0.05426631660392838), (2076, 0.01594324993404776), (2077, 0.01890336907297835), (2078, 0.028487677528094103), (2079, 0.02976045540987975), (2080, 0.04361369905249481), (2081, 0.020595264051869292), (2082, 0.06675832080995833), (2083, 0.014722342232141743), (2084, 0.007754783897332831), (2085, 0.05907035943736576), (2086, 0.020826413490098228), (2087, 0.054175358627591645), (2088, 0.03802557042892141), (2089, 0.02754532448348561), (2090, 0.036902830557325426), (2091, 0.05109571047504832), (2092, 0.032463580118094096), (2093, 0.012785265808576756), (2094, 0.015386025444115554), (2095, 0.036069326201235354), (2096, 0.04441979717132914), (2097, 0.02186344888165617), (2098, 0.044876876006530425), (2099, 0.03481695302124816), (2100, 0.0350825992342943), (2101, 0.01620109448044402), (2102, 0.0043978228263276105), (2103, 0.004846044985065759), (2104, 0.014809555383533877), (2105, 0.05354401612648101), (2106, 0.022961190002595694), (2107, 0.11723446762199487), (2108, 0.015345200735963013), (2109, 0.028203781276080787), (2110, 0.07871651850392762), (2111, 0.03284677918220483), (2112, 0.011048420035712127), (2113, 0.036765531312313596), (2114, 0.05309062425518008), (2115, 0.02845424743736872), (2116, 0.01140517845087183), (2117, 0.20004036919760682), (2118, 0.03023101731832777), (2119, 0.014899976308675272), (2120, 0.009547925598234678), (2121, 0.05460189548533389), (2122, 0.021812676231033792), (2123, 0.04166234084596534), (2124, 0.03814654369574789), (2125, 0.17124612253481808), (2126, 0.0009356442112614765), (2127, 0.00687616476044986), (2128, 0.06273835582786427), (2129, 0.008097310615842198), (2130, 0.04644732385211125), (2131, 0.04503344816505139), (2132, 0.059159441890980075), (2133, 0.018770730179600476), (2134, 0.0360672885701097), (2135, 0.053250415086823925), (2136, 0.02449030464422384), (2137, 0.011676692189502782), (2138, 0.0935732988985877), (2139, 0.06273475347297794), (2140, 0.08466219408450923), (2141, 0.019961106798861334), (2142, 0.03631766151634568), (2143, 0.03964219240846143), (2144, 0.007865676418204947), (2145, 0.05276681743129978), (2146, 0.02653655095255839), (2147, 0.006532086421725632), (2148, 0.024199794905639765), (2149, 0.04239492007120603), (2150, 0.02997166539039512), (2151, 0.029568200072337552), (2152, 0.038005997352841825), (2153, 0.02265391094909476), (2154, 0.052423799370066956), (2155, 0.023893403510472398), (2156, 0.26235023402101626), (2157, 0.016630472231136516), (2158, 0.019968885446927962), (2159, 0.03998842995456433), (2160, 0.08142182817165733), (2161, 0.04339806690569705), (2162, 0.051775762443662235), (2163, 0.019920762580475378), (2164, 0.023928736593372607), (2165, 0.022833235936733646), (2166, 0.024233602886328177), (2167, 0.036281744050217724), (2168, 0.05879123792093055), (2169, 0.02811892322774851), (2170, 0.019310697986582713), (2171, 0.03278314522706473), (2172, 0.04904323885779583), (2173, 0.044612734195800405), (2174, 0.02828281904651338), (2175, 0.012441582960524968), (2176, 0.036572025062027363), (2177, 0.024326264939148936), (2178, 0.018811239254287244), (2179, 0.014636816317442593), (2180, 0.03237592791205835), (2181, 0.018903209396755688)]\n"
          ]
        }
      ]
    },
    {
      "cell_type": "code",
      "source": [
        "# We will now arrange the scores in descending order. This will bring the highest scores to the fore. \n",
        "# This way, we can examine the score to see if there are similarities at all and also output the articles that show similarity.\n",
        "        \n",
        "similar_articles_sorted = sorted(articles_index_score, key=lambda x:x[1], reverse=True)[:388]  # use the values specified by the lambda function (i.e., second element in each tuple) to order and give me the top 10.\n",
        "\n",
        "similar_articles_sorted[:10]"
      ],
      "metadata": {
        "colab": {
          "base_uri": "https://localhost:8080/"
        },
        "id": "wzPKi1RLFGRv",
        "outputId": "8386d60d-1e27-48b7-c274-f4b15b97a9f2"
      },
      "execution_count": null,
      "outputs": [
        {
          "output_type": "execute_result",
          "data": {
            "text/plain": [
              "[(305, 1.0),\n",
              " (1234, 0.4731011514622635),\n",
              " (1481, 0.3557574410731724),\n",
              " (2156, 0.26235023402101626),\n",
              " (350, 0.2056736766185862),\n",
              " (2031, 0.2045721415349984),\n",
              " (1233, 0.20006012669311796),\n",
              " (2117, 0.20004036919760682),\n",
              " (963, 0.19428241185014786),\n",
              " (1100, 0.1789302764449629)]"
            ]
          },
          "metadata": {},
          "execution_count": 88
        }
      ]
    },
    {
      "cell_type": "markdown",
      "source": [
        "* The cosine similarities are, largely, low. Only one article recorded a score close to 0.5."
      ],
      "metadata": {
        "id": "qawlltxyN5Bo"
      }
    },
    {
      "cell_type": "code",
      "source": [
        "# Now, Let's get the articles that correspond to these indices. Ofcourse, we see that the highest similarity score is from comparing the test article to itself.\n",
        "# Let's define another function that will get the corresponding articles when we supply the indices we have obtained to it.\n",
        "\n",
        "def get_index_text(index):\n",
        "  return articles_eng[articles_eng.index == index].text.values[0]  # To acess the text themselves, as strings.\n",
        "\n",
        "for i in similar_articles_sorted[:10]:\n",
        "  print(get_index_text(i[0]))"
      ],
      "metadata": {
        "colab": {
          "base_uri": "https://localhost:8080/"
        },
        "id": "31oLBuMcJwRY",
        "outputId": "b650ac23-0e2a-4b87-93fe-ad444c2fab69"
      },
      "execution_count": null,
      "outputs": [
        {
          "output_type": "stream",
          "name": "stdout",
          "text": [
            "NoSQL Performance Benchmarks Benchmarking NoSQL Databases: Cassandra vs. MongoDB vs. HBase vs. Couchbase Understanding the performance behavior of a NoSQL database like Apache Cassandra ™ under various conditions is critical. Conducting a formal proof of concept (POC) in the environment in which the database will run is the best way to evaluate platforms. POC processes that include the right benchmarks such as production configurations, parameters and anticipated data and concurrent user workloads give both IT and business stakeholders powerful insight about platforms under consideration and a view for how business applications will perform in production. Independent benchmark analyses and testing of various NoSQL platforms under big data, production-level workloads have been performed over the years and have consistently identified Apache Cassandra as the platform of choice for businesses interested in adopting NoSQL as the database for modern Web, mobile and IOT applications. One benchmark analysis ( Solving Big Data Challenges for Enterprise Application Performance Management ) by engineers at the University of Toronto, which in evaluating six different data stores, found Apache Cassandra the \"clear winner throughout our experiments\". Also, End Point Corporation, a database and open source consulting company, benchmarked the top NoSQL databases including: Apache Cassandra, Apache HBase, Couchbase, and MongoDB using a variety of different workloads on AWS EC2. The databases involved were: Apache Cassandra : Highly scalable, high performance distributed database designed to handle large amounts of data across many commodity servers, providing high availability with no single point of failure. Apache HBase: Open source, non-relational, distributed database modeled after Google's BigTable and is written in Java. It is developed as part of Apache Software Foundation's Apache Hadoop project and runs on top of HDFS (Hadoop Distributed File System), providing BigTable-like capabilities for Hadoop. MongoDB : Cross-platform document-oriented database system that eschews the traditional table-based relational database structure in favor of JSON-like documents with dynamic schemas making the integration of data in certain types of applications easier and faster. Couchbase : Distributed NoSQL document-oriented database that is optimized for interactive applications. End Point conducted the benchmark of these NoSQL database options on Amazon Web Services EC2 instances, which is an industry-standard platform for hosting horizontally scalable services. In order to minimize the effect of AWS CPU and I/O variability, End Point performed each test 3 times on 3 different days. New EC2 instances were used for each test run to further reduce the impact of any \"lame instance\" or \"noisy neighbor\" effects sometimes experienced in cloud environments, on any one test. NoSQL Database Performance Testing Results When it comes to performance, it should be noted that there is (to date) no single \"winner takes all\" among the top NoSQL databases or any other NoSQL engine for that matter. Depending on the use case and deployment conditions, it is almost always possible for one NoSQL database to outperform another and yet lag its competitor when the rules of engagement change. Here are a couple snapshots of the performance benchmark to give you a sense of how each NoSQL database stacks up. Throughput by Workload Each workload appears below with the throughput/operations-per-second (more is better) graphed vertically, the number of nodes used for the workload displayed horizontally, and a table with the result numbers following each graph. Load process For load, Couchbase, HBase, and MongoDB all had to be configured for non-durable writes to complete in a reasonable amount of time, with Cassandra being the only database performing durable write operations. Therefore, the numbers below for Couchbase, HBase, and MongoDB represent non-durable write metrics. Mixed Operational and Analytical Workload Note that Couchbase was eliminated from this test because it does not support scan operations (producing the error: \"Range scan is not supported\"). For a comprehensive analysis, please download the complete report: Benchmarking Top NoSQL Databases . NoSQL Database Performance Conclusion These performance metrics are just a few of the many that have solidified Apache Cassandra as the NoSQL database of choice for businesses needing a modern, distributed database for their Web, mobile and IOT applications. Each database option (Cassandra, HBase, Couchbase and MongoDB) will certainly shine in particular use cases, so it's important to test your specific use cases to ensure your selected database meets your performance SLA. Whether you are primarily concerned with throughput or latency, or more interested in the architectural benefits such as having no single point of failure or being able to have elastic scalability across multiple data centers and the cloud, much of an application's success comes down to its ability to deliver the response times Web, mobile and IOT customers expect. As the benchmarks referenced here showcase, Cassandra's reputation for fast write and read performance, and delivering true linear scale performance in a masterless, scale-out design, bests its top NoSQL database rivals in many use cases.en\n",
            "SQL vs NoSQL: you do want to have a relational storage by default - Enterprise Craftsmanship The concept of NoSQL databases has been around for a while, but there still are quite a few misunderstandings regarding the topic of relational SQL vs NoSQL databases. In this post, I'd like to clarify the most common misconceptions and discuss the primary use cases for each of them. Are NoSQL databases really schemaless? A quick note before we start: the notion of NoSQL refers to 4 different types of databases: Document-Oriented, Column-Oriented, Key-Value stores, and Graph DBs. In this post, I talk about Document-Oriented databases primarily. I refer to them as NoSQL for the sake of brevity but keep in mind the term itself has a more broad scope. Alright, so are NoSQL databases really schemaless? Let's take an example. Let's say we have a document collection named Customers with the following data inside: Because of the collection's schemaless nature, nothing prevents us from adding another document, like this: Now, let's say we have a method that looks for customers given a particular name: What would happen if we add Alice Christopher to the collection the way we did previously? Would the Find method find her? Surely, not. The repository class implicitly relies on the collection schema and require all customers to have the Name property in order to be detected. In this scenario, we have to adjust the Find method so that it would start looking at both Name and FirstName/LastName properties. While NoSQL databases are technically schemaless meaning that they allow us to store documents in any shape we want, the notion of schema itself doesn't vanish from our domain model. Schemaless databases just shift the responsibility to maintain the schema to us, developers . The use of a NoSQL storage means a move from explicitly defined data structures to implicit ones. And that is a huge step back from what we have in relational databases, because, as we know, we should always try to make implicit assumptions in our code explicit . And of course, the notion of schemaless data doesn't belong to NoSQL databases exclusively. We can do the same in traditional relational databases. For example, one could serialize the whole customer object to an XML or JSON document and put it to an MSSQL/Oracle/MySQL table. This would make the customer storage schemaless as well. As you might guess, such design decisions are frowned upon in the world of relational databases because of the lack of explicitness. Explicit schema SQL storages introduce is a great assistant when it comes to defining data structures. It helps developers make sure the shape of the data they work with is consistent across the whole database. Are schema migrations easier with NoSQL databases? Another broadly accepted statement is that schema migrations are easier with NoSQL databases. Are they? In the example above, how would we handle the two editions of the customer data? We would need to introduce schema versioning: It means that in any given time there exist at least 2 versions of the Customer class and we have to handle both of them in our domain model manually: /* Other members */ lastName = /* Get the last name out of customer.Name somehow */ ; /* Work with lastName here */ The situation here is essentially the same. NoSQL databases don't help us with the schema migrations, they transfer the obligation to perform it to us, developers . With a non-relational storage, we have to do the following: Change our code so that it handles both versions of the schema (see the CustomerProcessor.Process method). Create a background job which searches for documents of the old versions and transforms them into the new version, one by one. Now, compare this to the explicit \"fire-and-forget\" migrations we can employ in an SQL database. All we have to do there is write a single script that would handle all data migrations at once . The migration logic in relational storages tends not to infiltrate to the domain model which helps keep the latter clean and simple. Schema migrations in NoSQL databases are not easier. Contrarily, they are more difficult to implement and maintain comparing to SQL storages. Other benefits of traditional SQL databases There are two more benefits traditional SQL databases provide us out of the box. There're no analogues for them in most Document-Oriented DBs. The first one is data (referential) integrity. This feature helps us verify we don't reference non-existing rows and thus keep the data consistent in the first place. For example, we can create a foreign key constraint in our customers table and thereby make sure all our customers belong to one of the predefined countries: A relational database acts here as the last stand guardian, so to speak. It means that we still need to employ proper validation in the application code ourselves but if we miss something, that wouldn't lead to data corruption. The database would inform us about the inconsistency by rejecting the incorrect transaction. In NoSQL storages, we have to - once again - handle such situations manually. It's a common practice to create a background job to reveal inconsistent data and try to settle the conflicts after they took place. Atomic transactions across different tables and/or rows is the other benefit. It's not as important as those we discussed previously because a well-designed NoSQL storage rarely requires the change of multiple documents at once. But still, it's a nice-to-have feature in many cases. NoSQL databases usually support atomic operations within a single document only. So why ever bother choosing a NoSQL data storage? Despite all the merits relational databases have, they lack two important ones: scalability and performance. And this is the only reasons why one should ever consider choosing NoSQL. Not because NoSQL database are schemaless (they are not, essentially), nor because they make schema migrations easier (they don't). Scalability. And performance. Relational databases are Jacks of all trades. They provide rich functionality out of the box. They also do pretty well with any kind of software. The only problem with SQL storages is that when your data outgrows a single database instance, you no longer can rely on the relational model. If that is the case, you have to revisit your application and try to accommodate a NoSQL storage - one that fits the needs of your software the most: But even in this case, it doesn't mean you should forgo the SQL database completely. You can employ a NoSQL storage for the part of your system that doesn't fit the relational model and keep the rest in place. This practice is called Polyglot Persistence . All said above doesn't mean you can't scale a relational DB. You can (to some extent). But this means you will need to give up on the benefits it provides, such as data integrity. Also, SQL databases don't provide such functionality out of the box, so it often becomes a pain to do that. In most cases, you are better off just choosing a NoSQL DB for scalability purposes. SQL vs NoSQL: Conclusion In most cases, NoSQL is a forced choice. It's a tool the use of which you want to postpone as much as possible as it shifts too much of burden to you as a programmer. Relational databases are more friendly, they provide rich capabilities out of the box: Explicit schema The ease of migrations Data integrity Atomic transactions across several tables/rows If your application is not expecting outstanding scalability requirements in any near future, you are almost always better off choosing a relational storage. The reason is that non-relational databases require constant (and quite big) maintenance overhead comparing to relational ones. Only if you are sure your system will contain more than tens or hundreds of millions rows in a single table, should you consider using NoSQL. And even in this case, try to extract to the non-relational storage only the parts that don't fit the relational DB. That would help reduce the overall maintenance overhead. Related articlesen\n",
            "Advancing enterprise database workloads on Google Cloud Platform We are committed to making Google Cloud Platform the best public cloud for your database workloads. From our managed database services to self-managed versions of your favorite relational or NoSQL database, we want enterprises with databases of all sizes and types to experience the best price-performance with the least amount of friction. Today, we're excited to announce that all of our database storage products are generally available and covered by corresponding Service Level Agreements (SLAs). We're also releasing new performance and security support for Google Compute Engine . Whether you're running a WordPress application with a Cloud SQL backend or building a petabyte-scale monitoring system, Cloud Platform is secure, reliable and able to store databases of all types. Cloud SQL, Cloud Bigtable and Cloud Datastore are now generally available Cloud SQL Second Generation, our fully-managed database service offering easy-to-use MySQL instances, has completed a successful beta and is now generally available. Since beta, we've added a number of enterprise features such as support for MySQL 5.7 , point-in-time-recovery (PITR), automatic storage re-sizing and setting up failover replicas with a single click. Performance is key to enterprise database workloads, and Cloud SQL is delivering industry-leading throughput. Cloud Bigtable is our scalable, fully-managed NoSQL wide-column database service with Apache HBase client compatibility, and is now generally available. Since beta, many of our customers such as Spotify, Energyworx and FIS (formerly Sungard) have built scalable applications on top of Cloud Bigtable for workloads such as monitoring, financial and geospatial data analysis. Cloud Datastore , our scalable, fully-managed NoSQL document database serves 15 trillion requests a month, and its v1 API for applications outside of Google App Engine has reached general availability. The Cloud Datastore SLA of 99.95% monthly uptime demonstrates high confidence in the scalability and availability of this cross-region, replicated service for your toughest web and mobile workloads. Customers like Snapchat, Workiva and Khan Academy have built amazing web and mobile applications with Cloud Datastore. Improved performance, security and platform support for databases For enterprises looking to manage their own databases on Google Compute Engine (GCE), we're also offering the following improvements: Microsoft SQL Server images available on Google Compute Engine - Our top enterprise customers emphasize the importance of continuity for their mission-critical applications. The unique strengths of Google Compute Engine make it the best environment to run Microsoft SQL Server featuring images with built-in licenses (in beta), as well as the ability to bring your existing application licenses . Stay tuned for a post covering the details of running SQL Server and other key Windows workloads on Google Cloud Platform. Increased IOPS for Persistent Disk volumes - Database workloads are dependent on great block storage performance, so we're increasing the maximum read and write IOPS for SSD-backed Persistent Disk volumes from 15,000 to 25,000 at no additional cost, servicing the needs of the most demanding databases. This continues Google's history of delivering greater price-performance over time with no action on the part of our customers. Custom encryption for Google Cloud Storage - When you need to store your database backups, you now have the added option of using customer-supplied encryption keys (CSEK). This feature allows Cloud Storage to be a zero-knowledge system without access to the keys and is now generally available. Low-latency for Google Cloud Storage Nearline storage - If you want a cost-effective way to store your database backups, Google Cloud Storage Nearline offers object storage at costs less than tape. Prior to today, retrieving data from Nearline incurred 3 to 5 seconds of latency per object. We've been continuously improving Nearline performance, and now it enables access times and throughput similar to Standard class objects. These faster access times and throughput give customers the ability to leverage big data tools such as Google BigQuery to run federated queries across your stored data. Today marks a major milestone in our tremendous momentum and commitment to making Google Cloud Platform the best public cloud for your enterprise database workloads. We look forward to the journey ahead and helping enterprises of all sizes be successful with Cloud Platform.en\n",
            "Introducing Cloud Spanner: a global database service for mission-critical applications Today, we're excited to announce the public beta for Cloud Spanner , a globally distributed relational database service that lets customers have their cake and eat it too: ACID transactions and SQL semantics, without giving up horizontal scaling and high availability. When building cloud applications, database administrators and developers have been forced to choose between traditional databases that guarantee transactional consistency, or NoSQL databases that offer simple, horizontal scaling and data distribution. Cloud Spanner breaks that dichotomy, offering both of these critical capabilities in a single, fully managed service. \" Cloud Spanner presents tremendous value for our customers who are retailers, manufacturers and wholesale distributors around the world. With its ease of provisioning and scalability, it will accelerate our ability to bring cloud-based omni-channel supply chain solutions to our users around the world ,\" - John Sarvari, Group Vice President of Technology, JDA JDA, a retail and supply chain software leader, has used Google Cloud Platform (GCP) as the basis of its new application development and delivery since 2015 and was an early user of Cloud Spanner. The company saw its potential to handle the explosion of data coming from new information sources such as IoT, while providing the consistency and high availability needed when using this data. Cloud Spanner rounds out our portfolio of database services on GCP, alongside Cloud SQL, Cloud Datastore and Cloud Bigtable. As a managed service, Cloud Spanner provides key benefits to DBAs: Focus on your application logic instead of spending valuable time managing hardware and software Scale out your RDBMS solutions without complex sharding or clustering Gain horizontal scaling without migration from relational to NoSQL databases Maintain high availability and protect against disaster without needing to engineer a complex replication and failover infrastructure Gain integrated security with data-layer encryption, identity and access management and audit logging With Cloud Spanner, your database scales up and down as needed, and you'll only pay for what you use. It features a simple pricing model that charges for compute node-hours, actual storage consumption (no pre-provisioning) and external network access. Cloud Spanner keeps application development simple by supporting standard tools and languages in a familiar relational database environment. It's ideal for operational workloads supported by traditional relational databases, including inventory management, financial transactions and control systems, that are outgrowing those systems. It supports distributed transactions, schemas and DDL statements, SQL queries and JDBC drivers and offers client libraries for the most popular languages, including Java, Go, Python and Node.js. More Cloud Spanner customers share feedback Quizlet, an online learning tool that supports more than 20 million students and teachers each month, uses MySQL as its primary database; database performance and stability are critical to the business. But with users growing at roughly 50% a year, Quizlet has been forced to scale its database many times to handle this load. By splitting tables into their own databases (vertical sharding), and moving query load to replicas, it's been able to increase query capacity - but this technique is reaching its limits quickly, as the tables themselves are outgrowing what a single MySQL shard can support. In its search for a more scalable architecture, Quizlet discovered Cloud Spanner, which will allow it to easily scale its relational database and simplify its application: \" Based on our experience and performance testing, Cloud Spanner is the most compelling option we've seen to power a high-scale relational query workload. It has the performance and scalability of a NoSQL database, but can execute SQL so it's a viable alternative to sharded MySQL. It's an impressive technology and could dramatically simplify how we manage our databases. \" - Peter Bakkum, Platform Lead, Quizlet The history of Spanner For decades, developers have relied on traditional databases with a relational data model and SQL semantics to build applications that meet business needs. Meanwhile, NoSQL solutions emerged that were great for scale and fast, efficient data-processing, but they didn't meet the need for strong consistency. Faced with these two sub-optimal choices that customers grapple with today, in 2007, a team of systems researchers and engineers at Google set out to develop a globally-distributed database that could bridge this gap. In 2012, we published the Spanner research paper that described many of these innovations. The result was a database that offers the best of both worlds: Remarkably, Cloud Spanner achieves this combination of features without violating the CAP Theorem . To understand how, read this post by the author of the CAP Theorem and Google Vice President of Infrastructure, Eric Brewer. Over the years, we've battle-tested Spanner internally with hundreds of different applications and petabytes of data across data centers around the world. At Google, Spanner supports tens of millions of queries per second and runs some of our most critical services, including AdWords and Google Play. If you have a MySQL or PostgreSQL system that's bursting at the seams, or are struggling with hand-rolled transactions on top of an eventually-consistent database, Cloud Spanner could be the solution you're looking for. Visit the Cloud Spanner page to learn more and get started building applications on our next-generation database service.en\n",
            "Performance Testing in a Nutshell It is very easy to forget about performance testing and its importance while delivering software under tight deadlines. It is also a challenge to convince the client to start with performance testing right from the beginning of the project, rather than treat it as a second class citizen. Whether we are developing an ecommerce website or a mobile app, we need to be prepared for the traffic that is going to hit us. More importantly, we need to understand, estimate and analyze, based on past and future trends, the level of traffic that we are going to expect, and how efficiently we are going to serve them without any dropouts. Also, if we hit the peak loads, then how are we going to gracefully handle the additional load? These are some of the questions that I start asking myself and the stakeholders at the beginning of the project. The stakeholders will have to take a call on how much to invest in performance testing, based on the business impact, versus the cost of delivering to their performance expectations. Performance testing is an ongoing task throughout the life cycle of the project. It not only involves testers, but also developers and operations to run and maintain the application to its performance expectations. Performance testing has always been challenging and equally interesting to me. It requires multifaceted skill-sets from writing test scripts, monitoring and analyzing test results, tweaking the application and repeating the whole process again. As part of performance testing an application, we also take part in Load and Soak testing at the very least. I will be covering this, along with front end performance testing, in a separate blog. There are various elements to consider when coming up with a back end performance test strategy. Environments Cloud vs Physical Hardware Traditionally, running the performance tests from local dev boxes was the norm, but it would limit you to the performance of the dev box itself. Harnessing the power of cloud computing and using a cloud provider to run your tests, is what I find economical and low maintenance. Another approach is to buy beefy hardware and spin up multiple virtual machines to simulate tests. This may be comfortable for companies who are limited by their VPNs, firewalls and may not be able to access local environments from outside the network. Configuration I would make sure that my environments are configured to what is expected, both in terms of software (OS, application etc.) and hardware (infrastructure, architecture etc.). Ideally, the configuration should be as close to production as possible. Scaling We had the capability to automatically scale up/down the number of machines we used in the environment, based on the traffic. If you are using a cloud based provider, this usually is a cost effective solution, where you only pay for what you use. The ability to scale up sometimes gives a little bit of breathing space when the traffic goes up. Independent Infrastructure It would be ideal if the environments are on an independent infrastructure. If they are in a shared environment, then we need to analyze how much and how often other systems, outside our realm, impact the performance of the application. Scripts Session Handling Initially, I used to find it tricky to write performance tests with multiple user logins, as it involved user sessions. On the one hand, I had to get the dynamically generated sessions and on the other, I had to make sure that the sessions did not clash with each other while the tests were running. Recently, I started to grab the session id from the browser and inject that in the test script as a parameter value. At the same time, I force the test to use a new browser for every session. Caching While coding, we should make sure that static content is cached to some level. In two of my projects, the static content being served from one of the services was eating up all its memory. As a byproduct, we started observing memory leaks with performance degradation. Test Pyramid We can write and run the performance tests at different levels, just like functional tests. We can have performance tests written at a service level to test its individual performance. We can have an inter-service level to test the performance between a few services. And finally, at a user journey level to test the performance of all the services and the system as a whole. Having structured performance tests at different levels greatly helps us in identifying, narrowing and quickly diagnosing the performance issues. Monitoring Monitoring the results of the performance test is equally important. What and how you monitor plays a significant role. How to Monitor Your Metrics Ideally, the monitoring tools should be sitting as close to the application servers as possible, to avoid network lags and loss of data points. On the other hand, if the monitoring tools are sharing the same resources as the system under test, then that too may affect the performance of the application. I would avoid taking into account the network lag into the metrics. We can do only so much about it. And, it would also hide the actual problems in the system under test. What Metrics to Monitor At an application level, the two main metrics that one needs to usually monitor are the Response Times (how long it takes to serve a request) and Throughput (how many requests it can serve per second). At an infrastructure level, we should be keeping an eye on CPU usage and memory for various machines and services. Graphite is a tool that we used on several projects for monitoring. Jemalloc along with JProfile are really good tools to analyze memory usage in services. Record Your Metrics It is very important to keep a record of the different metrics from the test results. The trend helps us to trace back and analyze any improvement or deterioration of the performance, based on the changes we have made over time. Analyze Your Metrics Once we run the performance test and analyze the results, it is time to tackle the problem. Finding the bottleneck and fixing it may result in another bottleneck surfacing up. Scripting Tools Like any other development tool on a project, we need to carefully choose the right performance tools. The tools may vary, based on the programming language you are using. Like automated functional tests, the higher the level of performance tests, the more difficult it is to analyze a performance issue. Some of the criteria that I would consider while choosing a tool are Easy to create and maintain user agents Easy to create and maintain tests Debug and validate your scripts through in-built logging Can easily simulate multiple user sessions during the test Ability to ramp up and ramp down users Parameterisation of test data Works for both API and Web Can run across environments Keeps history of the test runs Customized graphical test result reporting with various parameters Good support through email Can be automated to run on CI ( Jenkins , TeamCity , GO and New Relic ) Can spit server metrics (CPU, memory etc) Works on mobile Spins up tests in various browsers Simulates different network speeds including 3G Load Impact is the tool that satisfied most of these criteria. In my previous projects, I have also used Browsermob (Neustar) and JMeter . Some Lessons to Take Away Say No to Background Tasks Application services and databases should not be doing any background tasks (data analysis, generating mass emails etc.), when their primary purpose is to serve the customer. You should have other instances of these services, which are not serving the end user, to perform the background tasks. One Parameter Principle While performance testing, change one parameter at a time. For example, do not change the script and the application build at the same time. In that case, if you see any discrepancies in performance, then you do not know whether it was the application build or the script that caused it. Hence, you need to create baselines for every change you make and take baby steps to analyze your results. Think Like a Real User Make sure that the performance test scripts depict actual user behavior. If there is a legacy system, this would help in comparing the stats generated from production to the stats on the performance environment. Cache or No Cache Something that helps increase the performance of the system is caching. At the same time, too much of caching will not help either. We should cache intelligently. Otherwise, users would start seeing stale information. Caching can be considered at several levels. You can have caching from the content delivery network (CDN) level, to the application level or even at the service / database levels. Beware of Expensive Queries Sometimes, database queries too can be expensive. The queries, if not given enough attention, may slow the running or use up all the databases resources. So these should be monitored and the calls should be minimized. Minimize Additional Calls Sometimes, a section of the page would make extra calls to the backend systems to retrieve additional information, even though not all end users may require to view it. So it would be better to analyze these cases and wrap the sections under expanding links, such that the additional calls would be made only when a user genuinely wants that information and clicks on the link. In a nutshell, this is an overview of some of the things one may look out for while performance testing. I am sure you may come across many other challenges based on different project conditions, but the underlying principles which I've outlined here would more or less remain the same.en\n",
            "A Data Engineer's Guide To Non-Traditional Data Storages Data Engineering With the rise of big data and data science, many engineering roles are being challenged and expanded. One new-age role is data engineering . Originally, the purpose of data engineering was the loading of external data sources and the designing of databases (designing and developing pipelines to collect, manipulate, store, and analyze data). It has since grown to support the volume and complexity of big data. So data engineering now encapsulates a wide range of skills, from web-crawling, data cleansing, distributed computing, and data storage and retrieval. For data engineering and data engineers, data storage and retrieval is the critical component of the pipeline together with how the data can be used and analyzed. In recent times, many new and different data storage technologies have emerged. However, which one is best suited and has the most appropriate features for data engineering? Most engineers are familiar with SQL databases, such as PostgreSQL, MSSQL, and MySQL, which are structured in relational data tables with row-oriented storage. Given how ubiquitous these databases are, we won't discuss them today. Instead, we explore three types of alternative data storages that are growing in popularity and that have introduced different approaches to dealing with data. Within the context of data engineering, these technologies are search engines, document stores, and columnar stores. Search engines excel at text queries. When compared to text matches in SQL databases, such as LIKE , search engines offer higher query capabilities and better performance out of the box. Document stores provide better data schema adaptability than traditional databases. By storing the data as individual document objects, often represented as JSONs, they do not require schema predefining. Columnar stores specialize in single column queries and value aggregations. SQL operations, such as SUM and AVG , are considerably faster in columnar stores, as data of the same column are stored closer together on the hard drive. In this article, we explore all three technologies: Elasticsearch as a search engine, MongoDB as a document store, and Amazon Redshift as a columnar store. By understanding alternative data storage, we can choose the most suitable one for each situation. For data engineers, the most important aspects of data storages are how they index, shard, and aggregate data. To compare these technologies, we'll examine how they index, shard, and aggregate data. Each data indexing strategy improves certain queries while hindering others. Knowing which queries are used most often can influence which data store to adopt. Sharding, a methodology by which databases divide its data into chunks, determines how the infrastructure will grow as more data is ingested. Choosing one that matches our growth plan and budget is critical. Finally, these technologies each aggregate its data very differently. When we are dealing with gigabytes and terabytes of data, the wrong aggregation strategy can limit the types and performances of reports we can generate. As data engineers, we must consider all three aspects when evaluating different data storages. Contenders Search Engine: Elasticsearch Elasticsearch quickly gained popularity among its peers for its scalability and ease of integration. Built on top of Apache Lucene , it offers a powerful, out-of-the-box text search and indexing functionality. Aside from the traditional search engine tasks, text search, and exact value queries, Elasticsearch also offers layered aggregation capabilities. Document Store: MongoDB At this point, MongoDB can be considered the go-to NoSQL database. Its ease of use and flexibility quickly earned its popularity. MongoDB supports rich and adaptable querying for digging into complex documents. Often-queried fields can be sped up through indexing, and when aggregating a large chunk of data, MongoDB offers a multi-stage pipeline. Columnar Store: Amazon Redshift Alongside the growth of NoSQL's popularity, columnar databases have also gathered attention, especially for data analytics. By storing data in columns instead of the usual rows, aggregation operations can be executed directly from the disk, greatly increasing performance. A few years ago, Amazon rolled out its hosted service for a columnar store called Redshift. Indexing Elasticsearch's Indexing Capability In many ways, search engines are data stores that specialize in indexing texts. While other data stores create indices based on the exact values of the field, search engines allow retrieval with only a fragment of the (usually text) field. By default, this retrieval is done automatically for every field through analyzers. An analyzer is a module that creates multiple index keys by evaluating the field values and breaking them down into smaller values. For example, a basic analyzer might examine \"the quick brown fox jumped over the lazy dog\" into words, such as \"the,\" \"quick,\" \"brown,\" \"fox\" and so on. This method enables users to find the data by searching for fragments within the results, ranked by how many fragments match the same document data. A more sophisticated analyzer could utilize edit distances , n-grams , and filter by stopwords , to build a comprehensive retrieval index. MongoDB's Indexing Capability As a generic data store, MongoDB has a lot of flexibility for indexing data. Unlike Elasticsearch, it only indexes the _id field by default, and we need to create indices for the commonly queried fields manually. Compared to Elasticsearch, MongoDB's text analyzer isn't as powerful. But it does provide a lot of flexibility with indexing methods, from the compound and geospatial for optimal querying to the TTL and sparse for storage reduction. Redshift's Indexing Capability Unlike Elasticsearch, MongoDB, or even traditional databases, including PostgreSQL, Amazon Redshift does not support an indexing method. Instead, it reduces its query time by maintaining a consistent sorting on the disk. As users, we can configure an ordered set of column values as the table sort key. With the data sorted on the disk, Redshift can skip an entire block during retrieval if its value falls outside the queried range, heavily boosting performance. Sharding Elasticsearch's Sharding Capability Elasticsearch was built on top of Lucene to scale horizontally and be production ready. Scaling is done by creating multiple Lucene instances (shards) and distributing them across multiple nodes (servers) within a cluster. By default, each document is routed to its respective shard through its _id field. During retrieval, the master node sends each shard a copy of the query before finally aggregating and ranking them for output. MongoDB's Sharding Capability Within a MongoDB cluster, there are three types of servers: router, config, and shard. By scaling the router, servers can accept more requests, but the heavy lifting happens at the shard servers. As with Elasticsearch, MongoDB documents are routed (by default) via _id to their respective shards. At the query time, the config server notifies the router, which shards the query, and the router server then distributes the query and aggregates the results. Redshift's Sharding Capability An Amazon Redshift cluster consists of one leader node, and several compute nodes. The leader node handles the compilation and distribution of queries as well as the aggregation of intermediate results. Unlike MongoDB's router servers, the leader node is consistent and can't be scaled horizontally. While this creates a bottleneck, it also allows efficient caching of compiled execution plans for popular queries. Aggregating Elasticsearch's Aggregating Capability Documents within Elasticsearch can be bucketed by exact, ranged, or even temporal and geolocation values. These buckets can be further grouped into finer granularity through nested aggregation. Metrics, including means and standard deviations, can be calculated for each layer, which provides the ability to calculate a hierarchy of analyses within a single query. Being a document-based storage, it does suffer the limitation of intra-document field comparisons. For example, while it is good at filtering if a field followers is greater than 10, we cannot check if followers is greater than another field following . As an alternative, we can inject scripts as custom predicates. This feature is great for one-off analysis, but performance suffers in production. MongoDB's Aggregating Capability The Aggregation Pipeline is powerful and fast. As its name suggests, it operates on returned data in a stage-wise fashion. Each step can filter, aggregate and transform the documents, introduce new metrics, or unwind previously aggregated groups. Because these operations are done in a stage-wise manner, and by ensuring documents and fields are reduced to only filtered, the memory cost can be minimized. Compared to Elasticsearch, and even Redshift, Aggregation Pipeline is an extremely flexible way to view the data. Despite its adaptability, MongoDB suffers the same lack of intra-document field comparison as Elasticsearch. Furthermore, some operations, including $group , require the results to be passed to the master node. Thus, they do not leverage the distributed computing. Those unfamiliar with the stage-wise pipeline calculation will find certain tasks unintuitive. For example, summing up the number of elements in an array field would require two steps: first, the $unwind , and then the $group operation. Redshift's Aggregating Capability The benefits of Amazon Redshift cannot be understated. Frustratingly slow aggregations on MongoDB while analyzing mobile traffic is quickly solved by Amazon Redshift. Supporting SQL, traditional database engineers will have an easy time migrating their queries to Redshift. Onboarding time aside, SQL is a proven, scalable, and powerful query language, supporting intra-document/row field comparisons with ease. Amazon Redshift further improves its performance by compiling and caching popular queries executed on the compute nodes. As a relational database, Amazon Redshift does not have the schema flexibility that MongoDB and Elasticsearch have. Optimized for read operations, it suffers performance hits during updates and deletes. To maintain the best read time, the rows must be sorted, adding extra operational efforts. Tailored to those with petabyte-sized problems, it is not cheap and likely not worth the investment unless there are scaling problems with other databases. Picking the Winner In this article, we examined three different technologies - Elasticsearch, MongoDB, and Amazon Redshift - within the context of data engineering. However, there is no clear winner as each of these technologies is a front-runner in its storage type category. For data engineering, depending on the use case, some options are better than others. MongoDB is a fantastic starter database. It provides the flexibility we want when data schema is still to be determined. That said, MongoDB does not outperform specific use cases that other databases specialize in. While Elasticsearch offers a similar fluid schema to MongoDB, it is optimized for multiple indices and text queries at the expense of write performance and storage size. Thus, we should consider migrating to Elasticsearch when we find ourselves maintaining numerous indices in MongoDB. Redshift requires a predefined data schema, and is lacking the adaptability that MongoDB provides. In return, it outclasses other databases for queries only involving single (or a few) columns. When the budget permits, Amazon Redshift is a great secret weapon when others cannot handle the data quantity. About the authoren\n",
            "Stream processing, Event sourcing, Reactive, CEP... and making sense of it all Some people call it stream processing. Others call it Event Sourcing or CQRS. Some even call it Complex Event Processing. Sometimes, such self-important buzzwords are just smoke and mirrors, invented by companies who want to sell you stuff. But sometimes, they contain a kernel of wisdom which can really help us design better systems. In this talk, we will go in search of the wisdom behind the buzzwords. We will discuss how event streams can help make your application more scalable, more reliable and more maintainable. Founded in the experience of building large-scale data systems at LinkedIn, and implemented in open source projects like Apache Kafka and Apache Samza, stream processing is finally coming of age. This is an edited transcript of a talk I gave at /dev/winter 2015 . In this presentation, I'm going to discuss some of the ideas that people have about processing event streams. The idea of structuring data as a stream of events is nothing new, but I've recently noticed this idea reappearing in many different places, often with different terminology and different use cases, but with the same underlying principles. The problem when a technique becomes fashionable is that people start generating a lot of hype and buzzwords around it, often reinventing ideas that are already commonplace in a different field, but using different words to describe the same thing. In this talk I'm going to try to cut through some of the hype and jargon in the general area of stream processing, and try to get down to the underlying fundamental ideas. Although the jargon can be off-putting when you first encounter it, there's no need to be scared. A lot of the ideas are quite simple when you get down to the core. Also, there are a lot of good ideas which are worth learning about, because they can help us build applications better. The notion of processing events appears in many different areas, which is really confusing at first. People in different fields use different vocabulary to refer to the same thing. I think this is mainly because the techniques originated in different communities of people, and people seem to often stick within their own community and not look at what their neighbours are doing. The current tools for distributed stream processing have come out of internet companies like LinkedIn, with philosophical roots in database research of the early 2000s. On the other hand, complex event processing (CEP) originated in event simulation research in the 1990s and is now used for operational purposes in enterprises. Event sourcing has its roots in the domain-driven design community, which deals with enterprise software development - people who have to work with very complex data models, but often smaller datasets than the internet companies. My background is in internet companies, but I'm doing my best to understand the jargon of the other communities, and figure out the commonalities and differences. If I've misunderstood something, please correct me. To make this concrete, I'm going to start by giving an example from the field of stream processing, specifically analytics. I'll then draw parallels with other areas. To start with, take something like Google Analytics. As you probably know, Google Analytics is a bit of Javascript that you can put on your website, and that keeps track of which pages have been viewed by which visitors. An administrator can then explore this data, breaking it down by time period, or by URL, and so on. How would you implement something like Google Analytics? First take the input to the system. Every time a user views a page, we need to log an event to record that fact. A page view event may look something like this (using a kind of pseudo-JSON): A page view has an event type (PageViewEvent), a Unix timestamp that indicates when the event happened, the IP address of the client, the session ID (this may be a unique identifier from a cookie, which allows you to figure out what series of page views is from the same person), the URL of the page that was viewed, how the user got to that page (for example, from a search engine, or clicking a link from another site), the user's browser and language settings, and so on. Note that each page view event is a simple, immutable fact. It simply records that something happened. Now, how do you go from these page view events to the nice graphical dashboard on which you can explore how people are using your website? Broadly speaking, you have two options. Option (a): you can simply store every single event as it comes in, dump them all in a big database, a data warehouse or a Hadoop cluster. Now, whenever you want to analyze this data in some way, you run a big SELECT query against this dataset. For example, you might group by URL and by time period, you might filter by some condition, and then COUNT(*) to get the number of page views for each URL over time. This will scan over essentially all the events, or at least some large subset, and do the aggregation on the fly. Option (b): if storing every single event is too much for you, you can instead store an aggregated summary of the events. For example, if you're counting things, you increment a few counters every time an event comes in, and then you throw away the actual event. You might keep several counters in something that's called an OLAP cube : imagine a multi-dimensional cube, where one dimension is the URL, another dimension is the time of the event, another dimension is the browser, and so on. For each event, you just need to increment the counters for that particular URL, that particular time, etc. With an OLAP cube, when you want to find the number of page views for a particular URL on a particular day, you just need to read the counter for that combination of URL and date. You don't have to scan over a long list of events; it's just a matter of reading a single value. Now option (a) may sound a bit crazy, but it actually works surprisingly well. I believe Google Analytics actually does store the raw events, or at least a large sample of events, and performs a big scan over those events when you look at the data. Modern analytic databases have become really good at scanning quickly over large amounts of data. The big advantage of storing raw event data is that you have maximum flexibility for analysis. For example, you can trace the sequence of pages that one person visited over the course of their session. You can't do that if you've squashed all the events into counters. That sort of analysis is really important for some offline processing tasks, such as training a recommender system (\"people who bought X also bought Y\", that sort of thing). For such use cases, it's best to simply keep all the raw events, so that you can later feed them all into your shiny new machine learning system. However, option (b) also has its uses, especially when you need to make decisions or react to things in real time. For example, if you want to prevent people from scraping your website, you can introduce a rate limit, so that you only allow 100 requests per hour from any particular IP address; if a client goes over the limit, you block it. Implementing that with raw event storage would be incredibly inefficient, because you'd be continually re-scanning your history of events to determine whether someone has gone over the limit. It's much more efficient to just keep a counter of number of page views per IP address per time window, and then you can check on every request whether that number has crossed your threshold. Similarly, for alerting purposes, you need to respond quickly to what the events are telling you. For stock market trading, you also need to be quick. The bottom line here is that raw event storage and aggregated summaries of events are both very useful. They just have different use cases. Let's focus on those aggregated summaries for now. How do you implement those? Well, in the simplest case, you simply have the web server update the aggregates directly. Say you want to count page views per IP address per hour, for rate limiting purposes. You can keep those counters in something like memcached or Redis, which have an atomic increment operation. Every time a web server processes a request, it directly sends an increment command to the store, with a key that is constructed from the client IP address and the current time (truncated to the nearest hour). If you want to get a bit more sophisticated, you can introduce an event stream, or a message queue, or an event log, or whatever you want to call it. The messages on that stream are the PageViewEvent records that we saw earlier: one message contains the properties of one particular page view. The nice thing about this architecture is that you can now have multiple consumers for the same event data. You can have one consumer which simply archives the raw events to some big storage; even if you don't yet have the capability to process the raw events, you might as well store them, since storage is cheap and you can use them in future. Then you can have another consumer which does some aggregation (for example, incrementing counters), and another consumer which does something else. Those can all feed off the same event stream. Let's now change topic for a moment, and look at similar ideas from a different field. Event sourcing is an idea that has come out of the domain-driven design community - it seems to be fairly well known amongst enterprise software developers, but it's totally unknown in internet companies. It comes with a large amount of jargon that I find very confusing, but there seem to be some very good ideas in event sourcing. So I'm going to try to extract those good ideas without going into all the jargon, and we'll see that there are some surprising parallels with my last example from the field of stream processing analytics. Event sourcing is concerned with how we structure data in databases. As example database I'm going to use a shopping cart from an e-commerce website. Each customer may have some number of different products in their cart at one time, and for each item in the cart there is a quantity. Nothing very complicated here. Now say that customer 123 updates their cart: instead of quantity 1 of product 999, they now want quantity 3 of that product. You can imagine this being recorded in the database using an UPDATE query, which matches the row for customer 123 and product 999, and modifies that row, changing the quantity from 1 to 3. This example uses a relational data model, but that doesn't really matter. With most non-relational databases you'd do more or less the same thing: overwrite the old value with the new value when it changes. However, event sourcing says that this isn't a good way to design databases. Instead, we should individually record every change that happens to the database. For example, we first record an AddToCart event when customer 123 first adds product 888 to their cart, with quantity 1. We then record a separate UpdateCartQuantity event when they change the quantity to 3. Later, the customer changes their mind again, and reduces the quantity to 2, and finally they go to the checkout. Each of these actions is recorded as a separate event, and appended to the database. You can imagine having a timestamp on every event too. When you structure the data like this, every change to the shopping cart is an immutable event - a fact. Even if the customer did change the quantity to 2, it is still true that at a previous point in time, the selected quantity was 3. If you overwrite data in your database, you lose this historic information. Keeping the list of all changes as a log of immutable events thus gives you strictly richer information than if you overwrite things in the database. And this is really the essence of event sourcing: rather than performing destructive state mutation on a database when writing to it, we should record every write as a \"command\", as an immutable event. And that brings us back to our stream processing example (Google Analytics). Remember we discussed two options for storing data: (a) raw events, or (b) aggregated summaries. What we have here with event sourcing is looking very similar. You can think of those event-sourced commands (AddToCart, UpdateCartQuantity) as raw events: they comprise the history of what happened over time. But when you're looking at the contents of your shopping cart, you see the its current state - the end result, which is what you get when you have applied the entire history of events and squashed them together into one thing. So the current state of the cart may say quantity 2. The history of raw events will tell you that at some previous point in time the quantity was 3, but that the customer later changed their mind and updated it to 2. The aggregated end result only tells you that the current quantity is 2. Thinking about it further, you can observe that the raw events are the form in which it's ideal to write the data: all the information in the database write is contained in a single blob. You don't need to go and update five different tables if you're storing raw events - you only need to append the event to the end of a log. That's the simplest and fastest possible way of writing to a database. On the other hand, the aggregated data is the form in which it's ideal to read data from the database. If a customer is looking at the contents of their shopping cart, they are not interested in the entire history of modifications that led to the current state - they only want to know what's in the cart right now. So when you're reading, you can get the best performance if the history of changes has already been squashed together into a single object representing the current state. Going even further, think about the user interfaces that lead to database writes and database reads. A database write typically happened because the user clicked some button: for example, they edited some data, and now they click the save button. So, buttons in the user interface correspond to raw events in the event sourcing history. On the other hand, a database read typically happens because the user views some screen: they click on some link or open some document, and now they need to read the contents. These reads typically want to know the current state of the database. So screens in the user interface correspond to aggregated state. This is quite an abstract idea, so let me go through a few examples. Take Twitter, for example. The most common way of writing to Twitter's database - i.e. to provide input into the Twitter system - is to tweet something. A tweet is very simple: it consists of some text, a timestamp, and the ID of the user who tweeted. (Perhaps optionally a location, or a photo, or something.) The user then clicks that \"Tweet\" button, which causes a database write to happen, i.e. an event is generated. On the output side, the way how you read from Twitter's database is by viewing your timeline. It shows all the stuff that was written by people you follow. It's a vastly more complicated structure: For each tweet, you now have not just the text, timestamp and user ID, but also the name of the user, their profile photo, and other information that has been joined with the tweet. Also, the list of tweets has been selected based on the people you follow, which may itself change. How would you go from the simple input to the more complex output? Well, you could try expressing it in SQL, something like this: That is, find all of the users who $user is following, find all the tweets that they have written, order them by time and pick the 100 most recent. Turns out this query really doesn't scale very well. Do you remember in the early days of Twitter, when they kept having the fail whale all the time? Apparently that was essentially because they were using something like the query above. When a user views their timeline, it's too expensive to iterate over all the people they are following to get those users' tweets. Instead, Twitter must compute a user's timeline ahead of time, and cache it, so that it's fast when a user looks at it. To do that, they need a process that translates from the write-optimized event (a single tweet) to the read-optimized aggregate (a timeline). Twitter has such a process, and calls it the fanout service . Another example: take Facebook. It has many buttons that enable you to write something to Facebook's database, but a classic one is the \"Like\" button. When you click it, that generates an event, a fact with a very simple structure: you (identified by your user ID) like (an action verb) some item (identified by its ID). However, if you look at the output side, reading something on Facebook, it's incredibly complicated. In this example we have a Facebook post which is not just some text, but also the name of the author and his profile photo; and it's telling me that 160,216 people like this update, of which three have been especially highlighted (presumably because Facebook thinks that amongst the likers of this update, these are the ones I am most likely to know); it's telling me that there are 6,027 shares and 12,851 comments, of which the top 4 comments are shown (clearly some kind of comment ranking is happening here); and so on. There must be some translation process happening here, which takes the very simple events as input, and produces the massively complex and personalized output structure. You can't even conceive what the database query would look like to fetch all the information in that Facebook update. There is no way they could efficiently query all of that on the fly, not with over 100,000 likes. Clever caching is absolutely essential if you want to build something like this. From the Twitter and Facebook examples we can see a certain pattern: the input events, corresponding to the buttons in the user interface, are quite simple. They are immutable facts, we can simply store them all, and we can treat them as the source of truth . Everything that you can see on a website, i.e. everything that you read from the database, can be derived from those raw events. There is a process which derives those aggregates from the raw events, and which updates the caches when new events come in, and that process is entirely deterministic. You could, if necessary, re-run it from scratch: if you feed in the entire history of everything that ever happened on the site, you can reconstruct every cache entry to be exactly as it was before. The database you read from is just a cached view of the event log . The beautiful thing about this separation between source of truth and caches is that in your caches, you can denormalize data to your heart's content. In regular databases, it is often considered best practice to normalize data, because if something changes, you then only have to change it one place. Normalization makes writes fast and simple, but means you have to do more work (joins) at read time. In order to speed up reads, you can denormalize data, i.e. duplicate information in various places so that it can be read faster. The problem is now that if the original data changes, all the places where you copied it to also need to change. In a typical database, that's a nightmare, because you may not know all the places where something has been copied. But if your caches are built from your raw events using a repeatable process, you have much more freedom to denormalize, because you know what data is flowing where. Another example: Wikipedia. This is almost a counter-example to Twitter and Facebook, because on Wikipedia the input and the output are almost the same. When you edit a page on Wikipedia, you get a big text field containing the entire page content (using wiki markup), and when you click the save button, it sends that entire page content back to the server. The server replaces the entire page with whatever you posted to it. When someone views the page, it returns that same content back to the user (formatted into HTML). So, in this case, the input and the output are the same. What would event sourcing mean in this case? Would it perhaps make sense to represent a write event as a diff, like a patch file, rather than a copy of the entire page? It's an interesting case to think about. (Google Docs works by continually applying diffs at a character granularity - effectively an event per keystroke.) Final example: LinkedIn. Say you update your LinkedIn profile, and add your current job, which consists of a job title, a company, and some text. Again, the edit event for writing to the database is very simple. There are various ways how you can read this data, and in this example, let's look at the search feature. On the output side, one way you can read LinkedIn's database is by typing some keywords and maybe a company name into a search box, and find all the people matching those criteria. How is that implemented? Well, in order to search, you need a full-text index, which is essentially a big dictionary - for every keyword, it tells you the IDs of all the profiles that contain the keyword. This search index is another aggregate structure, and whenever some data is written to the database, this structure needs to be updated with the new data. So for example, if I add my job \"Author at O'Reilly\" to my profile, the search index must now be updated to include my profile ID under the entries for \"author\" and \"o'reilly\". The search index is just another kind of cache. It also needs to be built from the source of truth (all the profile edits that have ever occurred) and it needs to be updated whenever a new event occurs (someone edits their profile). Now, returning to stream processing. I first described how you might build something like Google Analytics, and compared storing raw page view events versus aggregated counters, and discussed how you can maintain those aggregates by consuming a stream of events. I then explained event sourcing, which applies a similar approach to databases: treat all the database writes as a stream of events, and build aggregates (views, caches, search indexes) from that stream. Once you have that event stream, you can do many great things with it: You can take all the raw events, perhaps transform them a bit, and load them into a big data warehouse where analysts can query the data to their heart's content. You can update full-text search indexes, so that when a user hits the search box, they are searching an up-to-date version of the data. You can invalidate or refill any caches, so that reads can be served from fast caches while also making sure that the data in the cache remains fresh. And finally, you can even take one event stream, and process it in some way (perhaps joining a few streams together) to create a new output stream. This way, you can plug the output of one system into the input of another system. This is a very powerful way of building complex applications cleanly. Moving to an event-sourcing-like approach for databases is a big change from the way that databases have traditionally been used (where you can update and delete data at will). Why would you want to go to all that effort of changing the way you do things? What's the benefit of using append-only streams of immutable events? Several reasons: Loose coupling. If you write data to the database in the same schema as you use for reading, you have tight coupling between the part of the application doing the writing (the \"button\") and the part doing the reading (the \"screen\"). We know that loose coupling is a good design principle for software. By separating the form in which you write and read data, and by explicitly translating from one to the other, you get much looser coupling between different parts of your application. Read and write performance. The decades-old debate over normalization (faster writes) vs. denormalization (faster reads) exists only because of the assumption that writes and reads use the same schema. If you separate the two, you can have fast writes and fast reads. Event streams are great for scalability , because they are a simple abstraction (comparatively easy to parallelize and scale across multiple machines), and because they allow you to decompose your application into producers and consumers of streams (which can operate independently, and can take advantage of more parallelism in hardware). Flexibility and agility. Raw events are so simple and obvious that a \"schema migration\" doesn't really make sense (you may just add a new field from time to time, but you don't usually need to rewrite historic data into a new format). On the other hand, the ways in which you want to present data to users are much more complex, and may be continually changing. If you have an explicit translation process between the source of truth and the caches that you read from, you can experiment with new user interfaces by just building new caches using new logic, running the new system in parallel with the old one, gradually moving people over from the old system, and then discarding the old system (or reverting to the old system if the new one didn't work). Such flexibility is incredibly liberating. Finally, error scenarios are much easier to reason about if data is immutable. If something goes wrong in your system, you can always replay events in the same order, and reconstruct exactly what happened (especially important in finance, where auditability is crucial). If you deploy buggy code that writes bad data to a database, you can just re-run it after you fixed the bug, and thus correct the outputs. Those things are not possible if your database writes are destructive. Finally, let's talk about how you might put these ideas into practice. I should point out that in reality, database writes often already do have a certain event-like immutable quality . The write-ahead log that exists in most databases is essentially an event stream of writes, although it's very specific to a particular database. The MVCC mechanism in databases like PostgreSQL, MySQL's InnoDB and Oracle, and the append-only B-trees of CouchDB, Datomic and LMDB are examples of the same thinking: it's better to structure writes as an append-only log than to perform destructive overwrites. However, here we're not talking about the internals of storage engines, but about using event streams at the application level. Some databases such as Event Store have oriented themselves specifically at the event sourcing model, and some people have implemented event sourcing on top of relational databases. Those may be viable solutions if you're operating at fairly small scale. The systems I have worked with most are Apache Kafka and Apache Samza . They are open source projects that originated at LinkedIn, and now have a big community around them. Kafka is a message broker, like a publish-subscribe message queue, which supports event streams with many millions of messages per second, durably stored on disk and replicated across multiple machines. Samza is the processing counterpart to Kafka: a framework which lets you write code to consume input streams and produce output streams, and it handles stuff like deploying your code to a cluster and recovering from failures. I would definitely recommend Kafka as a system for high-throughput reliable event streams. On the processing side, there are a few choices: Samza , Storm and Spark Streaming are the most popular stream processing frameworks. They all allow you to run your stream processing code distributed across multiple machines. There are interesting design differences (pros and cons) between these three frameworks, which I don't have time to go into here. You can read up a detailed comparison between them in the Samza documentation . And yes, I also think it's funny that they all start with the letter S. Today's distributed stream processing systems have come out of internet companies (Samza from LinkedIn, Storm from Backtype/Twitter). Arguably, they have their roots in stream processing research from the early 2000s ( TelegraphCQ , Borealis , etc), which originated from a relational database background. Just as NoSQL datastores stripped databases down to a minimal feature set, modern stream processing systems look quite stripped-down compared to the earlier research. The modern stream processing frameworks (Samza, Storm, Spark Streaming) are mostly concerned with low-level matters: how to scale processing across multiple machines, how to deploy a job to a cluster, how to handle faults (crashes, machine failures, network outages), and how to achieve reliable performance in a multi-tenant environment . The APIs they provide are quite low-level (e.g. a callback that is invoked for every message). They look much more like MapReduce and less like a database. They are more interested in reliable operation than in fancy features. By contrast, there is also some work on high-level query languages for stream processing, and Complex Event Processing is especially worth mentioning. It originated in 1990s research on event-driven simulation , and most CEP products are commercial, expensive enterprise software (only Esper is free/open source, and it's limited to running on a single machine). With CEP, you write queries or rules that match certain patterns in the events. They are comparable to SQL queries (which describe what results you want to return from a database), except that the CEP engine continually searches the stream for sets of events that match the query and notifies you (generates a \"complex event\") whenever a match is found. This is useful for fraud detection or monitoring business processes, for example. For use cases that can be easily described in terms of a CEP query language, such a high-level language is much more convenient than a low-level event processing API. On the other hand, a low-level API gives you more freedom, allowing you to do a wider range of things than a query language would let you do. Also, by focussing their efforts on scalability and fault tolerance, stream processing frameworks provide a solid foundation upon which query languages can be built. A related idea is doing full-text search on streams, where you register a search query in advance, and then get notified whenever an event matches your query. We've done some experimental work with Luwak in this area, but it's still very new. Finally, there are a lot of other things that are somehow related to stream processing. Going into laundry-list mode, here is a brief summary: Actor frameworks such as Akka, Orleans and Erlang OTP are also based on streams of immutable events. However, they are primarily a mechanism for concurrency, less a mechanism for data management. Some actor frameworks do have a distributed component, so you could build a distributed stream processing framework on top of actors. However, it's worth looking carefully at the fault-tolerance guarantees and failure modes of these systems: many don't provide durability, for example. There's a lot of buzz around \" reactive \", which seems to encompass a quite loosely-defined set of ideas . My impression is that there is some good work happening in dataflow languages and functional reactive programming (FRP), which I see as mostly about bringing event streams to the user interface, i.e. updating the user interface when some underlying data changes. This is a natural counterpart to event streams in the data backend. Finally, change data capture (CDC) means using an existing database in the familiar way, but extracting any inserts, updates and deletes into a stream of data change events which other applications can consume. This is a great migration path towards a stream-oriented architecture, and I'll be talking and writing more about CDC in future. I hope this talk helped you make some sense of the many facets of stream processing! Martin Kleppmann is a software engineer and entrepreneur. He is a committer on Apache Samza and author of the upcoming O'Reilly book Designing Data-Intensive Applications . He's @martinkl on Twitter.en\n",
            "Stream processing, Event sourcing, Reactive, CEP... and making sense of it all - Confluent Some people call it stream processing. Others call it Event Sourcing or CQRS. Some even call it Complex Event Processing. Sometimes, such self-important buzzwords are just smoke and mirrors, invented by companies who want to sell you stuff. But sometimes, they contain a kernel of wisdom which can really help us design better systems. In this talk, we will go in search of the wisdom behind the buzzwords. We will discuss how event streams can help make your application more scalable, more reliable and more maintainable. Founded in the experience of building large-scale data systems at LinkedIn, and implemented in open source projects like Apache Kafka and Apache Samza, stream processing is finally coming of age. This is an edited transcript of a talk I gave at /dev/winter 2015 . In this presentation, I'm going to discuss some of the ideas that people have about processing event streams. The idea of structuring data as a stream of events is nothing new, but I've recently noticed this idea reappearing in many different places, often with different terminology and different use cases, but with the same underlying principles. The problem when a technique becomes fashionable is that people start generating a lot of hype and buzzwords around it, often reinventing ideas that are already commonplace in a different field, but using different words to describe the same thing. In this talk I'm going to try to cut through some of the hype and jargon in the general area of stream processing, and try to get down to the underlying fundamental ideas. Although the jargon can be off-putting when you first encounter it, there's no need to be scared. A lot of the ideas are quite simple when you get down to the core. Also, there are a lot of good ideas which are worth learning about, because they can help us build applications better. The notion of processing events appears in many different areas, which is really confusing at first. People in different fields use different vocabulary to refer to the same thing. I think this is mainly because the techniques originated in different communities of people, and people seem to often stick within their own community and not look at what their neighbours are doing. The current tools for distributed stream processing have come out of internet companies like LinkedIn, with philosophical roots in database research of the early 2000s. On the other hand, complex event processing (CEP) originated in event simulation research in the 1990s and is now used for operational purposes in enterprises. Event sourcing has its roots in the domain-driven design community, which deals with enterprise software development - people who have to work with very complex data models, but often smaller datasets than the internet companies. My background is in internet companies, but I'm doing my best to understand the jargon of the other communities, and figure out the commonalities and differences. If I've misunderstood something, please correct me. To make this concrete, I'm going to start by giving an example from the field of stream processing, specifically analytics. I'll then draw parallels with other areas. To start with, take something like Google Analytics. As you probably know, Google Analytics is a bit of Javascript that you can put on your website, and that keeps track of which pages have been viewed by which visitors. An administrator can then explore this data, breaking it down by time period, or by URL, and so on. How would you implement something like Google Analytics? First take the input to the system. Every time a user views a page, we need to log an event to record that fact. A page view event may look something like this (using a kind of pseudo-JSON): A page view has an event type (PageViewEvent), a Unix timestamp that indicates when the event happened, the IP address of the client, the session ID (this may be a unique identifier from a cookie, which allows you to figure out what series of page views is from the same person), the URL of the page that was viewed, how the user got to that page (for example, from a search engine, or clicking a link from another site), the user's browser and language settings, and so on. Note that each page view event is a simple, immutable fact. It simply records that something happened. Now, how do you go from these page view events to the nice graphical dashboard on which you can explore how people are using your website? Broadly speaking, you have two options. Option (a): you can simply store every single event as it comes in, dump them all in a big database, a data warehouse or a Hadoop cluster. Now, whenever you want to analyze this data in some way, you run a big SELECT query against this dataset. For example, you might group by URL and by time period, you might filter by some condition, and then COUNT(*) to get the number of page views for each URL over time. This will scan over essentially all the events, or at least some large subset, and do the aggregation on the fly. Option (b): if storing every single event is too much for you, you can instead store an aggregated summary of the events. For example, if you're counting things, you increment a few counters every time an event comes in, and then you throw away the actual event. You might keep several counters in something that's called an OLAP cube : imagine a multi-dimensional cube, where one dimension is the URL, another dimension is the time of the event, another dimension is the browser, and so on. For each event, you just need to increment the counters for that particular URL, that particular time, etc. With an OLAP cube, when you want to find the number of page views for a particular URL on a particular day, you just need to read the counter for that combination of URL and date. You don't have to scan over a long list of events; it's just a matter of reading a single value. Now option (a) may sound a bit crazy, but it actually works surprisingly well. I believe Google Analytics actually does store the raw events, or at least a large sample of events, and performs a big scan over those events when you look at the data. Modern analytic databases have become really good at scanning quickly over large amounts of data. The big advantage of storing raw event data is that you have maximum flexibility for analysis. For example, you can trace the sequence of pages that one person visited over the course of their session. You can't do that if you've squashed all the events into counters. That sort of analysis is really important for some offline processing tasks, such as training a recommender system (\"people who bought X also bought Y\", that sort of thing). For such use cases, it's best to simply keep all the raw events, so that you can later feed them all into your shiny new machine learning system. However, option (b) also has its uses, especially when you need to make decisions or react to things in real time. For example, if you want to prevent people from scraping your website, you can introduce a rate limit, so that you only allow 100 requests per hour from any particular IP address; if a client goes over the limit, you block it. Implementing that with raw event storage would be incredibly inefficient, because you'd be continually re-scanning your history of events to determine whether someone has gone over the limit. It's much more efficient to just keep a counter of number of page views per IP address per time window, and then you can check on every request whether that number has crossed your threshold. Similarly, for alerting purposes, you need to respond quickly to what the events are telling you. For stock market trading, you also need to be quick. The bottom line here is that raw event storage and aggregated summaries of events are both very useful. They just have different use cases. Let's focus on those aggregated summaries for now. How do you implement those? Well, in the simplest case, you simply have the web server update the aggregates directly. Say you want to count page views per IP address per hour, for rate limiting purposes. You can keep those counters in something like memcached or Redis, which have an atomic increment operation. Every time a web server processes a request, it directly sends an increment command to the store, with a key that is constructed from the client IP address and the current time (truncated to the nearest hour). If you want to get a bit more sophisticated, you can introduce an event stream, or a message queue, or an event log, or whatever you want to call it. The messages on that stream are the PageViewEvent records that we saw earlier: one message contains the properties of one particular page view. The nice thing about this architecture is that you can now have multiple consumers for the same event data. You can have one consumer which simply archives the raw events to some big storage; even if you don't yet have the capability to process the raw events, you might as well store them, since storage is cheap and you can use them in future. Then you can have another consumer which does some aggregation (for example, incrementing counters), and another consumer which does something else. Those can all feed off the same event stream. Let's now change topic for a moment, and look at similar ideas from a different field. Event sourcing is an idea that has come out of the domain-driven design community - it seems to be fairly well known amongst enterprise software developers, but it's totally unknown in internet companies. It comes with a large amount of jargon that I find very confusing, but there seem to be some very good ideas in event sourcing. So I'm going to try to extract those good ideas without going into all the jargon, and we'll see that there are some surprising parallels with my last example from the field of stream processing analytics. Event sourcing is concerned with how we structure data in databases. As example database I'm going to use a shopping cart from an e-commerce website. Each customer may have some number of different products in their cart at one time, and for each item in the cart there is a quantity. Nothing very complicated here. Now say that customer 123 updates their cart: instead of quantity 1 of product 999, they now want quantity 3 of that product. You can imagine this being recorded in the database using an UPDATE query, which matches the row for customer 123 and product 999, and modifies that row, changing the quantity from 1 to 3. This example uses a relational data model, but that doesn't really matter. With most non-relational databases you'd do more or less the same thing: overwrite the old value with the new value when it changes. However, event sourcing says that this isn't a good way to design databases. Instead, we should individually record every change that happens to the database. For example, we first record an AddToCart event when customer 123 first adds product 888 to their cart, with quantity 1. We then record a separate UpdateCartQuantity event when they change the quantity to 3. Later, the customer changes their mind again, and reduces the quantity to 2, and finally they go to the checkout. Each of these actions is recorded as a separate event, and appended to the database. You can imagine having a timestamp on every event too. When you structure the data like this, every change to the shopping cart is an immutable event - a fact. Even if the customer did change the quantity to 2, it is still true that at a previous point in time, the selected quantity was 3. If you overwrite data in your database, you lose this historic information. Keeping the list of all changes as a log of immutable events thus gives you strictly richer information than if you overwrite things in the database. And this is really the essence of event sourcing: rather than performing destructive state mutation on a database when writing to it, we should record every write as a \"command\", as an immutable event. And that brings us back to our stream processing example (Google Analytics). Remember we discussed two options for storing data: (a) raw events, or (b) aggregated summaries. What we have here with event sourcing is looking very similar. You can think of those event-sourced commands (AddToCart, UpdateCartQuantity) as raw events: they comprise the history of what happened over time. But when you're looking at the contents of your shopping cart, you see the its current state - the end result, which is what you get when you have applied the entire history of events and squashed them together into one thing. So the current state of the cart may say quantity 2. The history of raw events will tell you that at some previous point in time the quantity was 3, but that the customer later changed their mind and updated it to 2. The aggregated end result only tells you that the current quantity is 2. Thinking about it further, you can observe that the raw events are the form in which it's ideal to write the data: all the information in the database write is contained in a single blob. You don't need to go and update five different tables if you're storing raw events - you only need to append the event to the end of a log. That's the simplest and fastest possible way of writing to a database. On the other hand, the aggregated data is the form in which it's ideal to read data from the database. If a customer is looking at the contents of their shopping cart, they are not interested in the entire history of modifications that led to the current state - they only want to know what's in the cart right now. So when you're reading, you can get the best performance if the history of changes has already been squashed together into a single object representing the current state. Going even further, think about the user interfaces that lead to database writes and database reads. A database write typically happened because the user clicked some button: for example, they edited some data, and now they click the save button. So, buttons in the user interface correspond to raw events in the event sourcing history. On the other hand, a database read typically happens because the user views some screen: they click on some link or open some document, and now they need to read the contents. These reads typically want to know the current state of the database. So screens in the user interface correspond to aggregated state. This is quite an abstract idea, so let me go through a few examples. Take Twitter, for example. The most common way of writing to Twitter's database - i.e. to provide input into the Twitter system - is to tweet something. A tweet is very simple: it consists of some text, a timestamp, and the ID of the user who tweeted. (Perhaps optionally a location, or a photo, or something.) The user then clicks that \"Tweet\" button, which causes a database write to happen, i.e. an event is generated. On the output side, the way how you read from Twitter's database is by viewing your timeline. It shows all the stuff that was written by people you follow. It's a vastly more complicated structure: For each tweet, you now have not just the text, timestamp and user ID, but also the name of the user, their profile photo, and other information that has been joined with the tweet. Also, the list of tweets has been selected based on the people you follow, which may itself change. How would you go from the simple input to the more complex output? Well, you could try expressing it in SQL, something like this: That is, find all of the users who $user is following, find all the tweets that they have written, order them by time and pick the 100 most recent. Turns out this query really doesn't scale very well. Do you remember in the early days of Twitter, when they kept having the fail whale all the time? Apparently that was essentially because they were using something like the query above. When a user views their timeline, it's too expensive to iterate over all the people they are following to get those users' tweets. Instead, Twitter must compute a user's timeline ahead of time, and cache it, so that it's fast when a user looks at it. To do that, they need a process that translates from the write-optimized event (a single tweet) to the read-optimized aggregate (a timeline). Twitter has such a process, and calls it the fanout service . Another example: take Facebook. It has many buttons that enable you to write something to Facebook's database, but a classic one is the \"Like\" button. When you click it, that generates an event, a fact with a very simple structure: you (identified by your user ID) like (an action verb) some item (identified by its ID). However, if you look at the output side, reading something on Facebook, it's incredibly complicated. In this example we have a Facebook post which is not just some text, but also the name of the author and his profile photo; and it's telling me that 160,216 people like this update, of which three have been especially highlighted (presumably because Facebook thinks that amongst the likers of this update, these are the ones I am most likely to know); it's telling me that there are 6,027 shares and 12,851 comments, of which the top 4 comments are shown (clearly some kind of comment ranking is happening here); and so on. There must be some translation process happening here, which takes the very simple events as input, and produces the massively complex and personalized output structure. You can't even conceive what the database query would look like to fetch all the information in that Facebook update. There is no way they could efficiently query all of that on the fly, not with over 100,000 likes. Clever caching is absolutely essential if you want to build something like this. From the Twitter and Facebook examples we can see a certain pattern: the input events, corresponding to the buttons in the user interface, are quite simple. They are immutable facts, we can simply store them all, and we can treat them as the source of truth . Everything that you can see on a website, i.e. everything that you read from the database, can be derived from those raw events. There is a process which derives those aggregates from the raw events, and which updates the caches when new events come in, and that process is entirely deterministic. You could, if necessary, re-run it from scratch: if you feed in the entire history of everything that ever happened on the site, you can reconstruct every cache entry to be exactly as it was before. The database you read from is just a cached view of the event log . The beautiful thing about this separation between source of truth and caches is that in your caches, you can denormalize data to your heart's content. In regular databases, it is often considered best practice to normalize data, because if something changes, you then only have to change it one place. Normalization makes writes fast and simple, but means you have to do more work (joins) at read time. In order to speed up reads, you can denormalize data, i.e. duplicate information in various places so that it can be read faster. The problem is now that if the original data changes, all the places where you copied it to also need to change. In a typical database, that's a nightmare, because you may not know all the places where something has been copied. But if your caches are built from your raw events using a repeatable process, you have much more freedom to denormalize, because you know what data is flowing where. Another example: Wikipedia. This is almost a counter-example to Twitter and Facebook, because on Wikipedia the input and the output are almost the same. When you edit a page on Wikipedia, you get a big text field containing the entire page content (using wiki markup), and when you click the save button, it sends that entire page content back to the server. The server replaces the entire page with whatever you posted to it. When someone views the page, it returns that same content back to the user (formatted into HTML). So, in this case, the input and the output are the same. What would event sourcing mean in this case? Would it perhaps make sense to represent a write event as a diff, like a patch file, rather than a copy of the entire page? It's an interesting case to think about. (Google Docs works by continually applying diffs at a character granularity - effectively an event per keystroke.) Final example: LinkedIn. Say you update your LinkedIn profile, and add your current job, which consists of a job title, a company, and some text. Again, the edit event for writing to the database is very simple. There are various ways how you can read this data, and in this example, let's look at the search feature. On the output side, one way you can read LinkedIn's database is by typing some keywords and maybe a company name into a search box, and find all the people matching those criteria. How is that implemented? Well, in order to search, you need a full-text index, which is essentially a big dictionary - for every keyword, it tells you the IDs of all the profiles that contain the keyword. This search index is another aggregate structure, and whenever some data is written to the database, this structure needs to be updated with the new data. So for example, if I add my job \"Author at O'Reilly\" to my profile, the search index must now be updated to include my profile ID under the entries for \"author\" and \"o'reilly\". The search index is just another kind of cache. It also needs to be built from the source of truth (all the profile edits that have ever occurred) and it needs to be updated whenever a new event occurs (someone edits their profile). Now, returning to stream processing. I first described how you might build something like Google Analytics, and compared storing raw page view events versus aggregated counters, and discussed how you can maintain those aggregates by consuming a stream of events. I then explained event sourcing, which applies a similar approach to databases: treat all the database writes as a stream of events, and build aggregates (views, caches, search indexes) from that stream. Once you have that event stream, you can do many great things with it: You can take all the raw events, perhaps transform them a bit, and load them into a big data warehouse where analysts can query the data to their heart's content. You can update full-text search indexes, so that when a user hits the search box, they are searching an up-to-date version of the data. You can invalidate or refill any caches, so that reads can be served from fast caches while also making sure that the data in the cache remains fresh. And finally, you can even take one event stream, and process it in some way (perhaps joining a few streams together) to create a new output stream. This way, you can plug the output of one system into the input of another system. This is a very powerful way of building complex applications cleanly. Moving to an event-sourcing-like approach for databases is a big change from the way that databases have traditionally been used (where you can update and delete data at will). Why would you want to go to all that effort of changing the way you do things? What's the benefit of using append-only streams of immutable events? Several reasons: Loose coupling. If you write data to the database in the same schema as you use for reading, you have tight coupling between the part of the application doing the writing (the \"button\") and the part doing the reading (the \"screen\"). We know that loose coupling is a good design principle for software. By separating the form in which you write and read data, and by explicitly translating from one to the other, you get much looser coupling between different parts of your application. Read and write performance. The decades-old debate over normalization (faster writes) vs. denormalization (faster reads) exists only because of the assumption that writes and reads use the same schema. If you separate the two, you can have fast writes and fast reads. Event streams are great for scalability , because they are a simple abstraction (comparatively easy to parallelize and scale across multiple machines), and because they allow you to decompose your application into producers and consumers of streams (which can operate independently, and can take advantage of more parallelism in hardware). Flexibility and agility. Raw events are so simple and obvious that a \"schema migration\" doesn't really make sense (you may just add a new field from time to time, but you don't usually need to rewrite historic data into a new format). On the other hand, the ways in which you want to present data to users are much more complex, and may be continually changing. If you have an explicit translation process between the source of truth and the caches that you read from, you can experiment with new user interfaces by just building new caches using new logic, running the new system in parallel with the old one, gradually moving people over from the old system, and then discarding the old system (or reverting to the old system if the new one didn't work). Such flexibility is incredibly liberating. Finally, error scenarios are much easier to reason about if data is immutable. If something goes wrong in your system, you can always replay events in the same order, and reconstruct exactly what happened (especially important in finance, where auditability is crucial). If you deploy buggy code that writes bad data to a database, you can just re-run it after you fixed the bug, and thus correct the outputs. Those things are not possible if your database writes are destructive. Finally, let's talk about how you might put these ideas into practice. I should point out that in reality, database writes often already do have a certain event-like immutable quality . The write-ahead log that exists in most databases is essentially an event stream of writes, although it's very specific to a particular database. The MVCC mechanism in databases like PostgreSQL, MySQL's InnoDB and Oracle, and the append-only B-trees of CouchDB, Datomic and LMDB are examples of the same thinking: it's better to structure writes as an append-only log than to perform destructive overwrites. However, here we're not talking about the internals of storage engines, but about using event streams at the application level. Some databases such as Event Store have oriented themselves specifically at the event sourcing model, and some people have implemented event sourcing on top of relational databases. Those may be viable solutions if you're operating at fairly small scale. The systems I have worked with most are Apache Kafka and Apache Samza . They are open source projects that originated at LinkedIn, and now have a big community around them. Kafka is a message broker, like a publish-subscribe message queue, which supports event streams with many millions of messages per second, durably stored on disk and replicated across multiple machines. Samza is the processing counterpart to Kafka: a framework which lets you write code to consume input streams and produce output streams, and it handles stuff like deploying your code to a cluster and recovering from failures. I would definitely recommend Kafka as a system for high-throughput reliable event streams. On the processing side, there are a few choices: Samza , Storm and Spark Streaming are the most popular stream processing frameworks. They all allow you to run your stream processing code distributed across multiple machines. There are interesting design differences (pros and cons) between these three frameworks, which I don't have time to go into here. You can read up a detailed comparison between them in the Samza documentation . And yes, I also think it's funny that they all start with the letter S. Today's distributed stream processing systems have come out of internet companies (Samza from LinkedIn, Storm from Backtype/Twitter). Arguably, they have their roots in stream processing research from the early 2000s ( TelegraphCQ , Borealis , etc), which originated from a relational database background. Just as NoSQL datastores stripped databases down to a minimal feature set, modern stream processing systems look quite stripped-down compared to the earlier research. The modern stream processing frameworks (Samza, Storm, Spark Streaming) are mostly concerned with low-level matters: how to scale processing across multiple machines, how to deploy a job to a cluster, how to handle faults (crashes, machine failures, network outages), and how to achieve reliable performance in a multi-tenant environment . The APIs they provide are quite low-level (e.g. a callback that is invoked for every message). They look much more like MapReduce and less like a database. They are more interested in reliable operation than in fancy features. By contrast, there is also some work on high-level query languages for stream processing, and Complex Event Processing is especially worth mentioning. It originated in 1990s research on event-driven simulation , and most CEP products are commercial, expensive enterprise software (only Esper is free/open source, and it's limited to running on a single machine). With CEP, you write queries or rules that match certain patterns in the events. They are comparable to SQL queries (which describe what results you want to return from a database), except that the CEP engine continually searches the stream for sets of events that match the query and notifies you (generates a \"complex event\") whenever a match is found. This is useful for fraud detection or monitoring business processes, for example. For use cases that can be easily described in terms of a CEP query language, such a high-level language is much more convenient than a low-level event processing API. On the other hand, a low-level API gives you more freedom, allowing you to do a wider range of things than a query language would let you do. Also, by focussing their efforts on scalability and fault tolerance, stream processing frameworks provide a solid foundation upon which query languages can be built. A related idea is doing full-text search on streams, where you register a search query in advance, and then get notified whenever an event matches your query. We've done some experimental work with Luwak in this area, but it's still very new. Finally, there are a lot of other things that are somehow related to stream processing. Going into laundry-list mode, here is a brief summary: Actor frameworks such as Akka, Orleans and Erlang OTP are also based on streams of immutable events. However, they are primarily a mechanism for concurrency, less a mechanism for data management. Some actor frameworks do have a distributed component, so you could build a distributed stream processing framework on top of actors. However, it's worth looking carefully at the fault-tolerance guarantees and failure modes of these systems: many don't provide durability, for example. There's a lot of buzz around \" reactive \", which seems to encompass a quite loosely-defined set of ideas . My impression is that there is some good work happening in dataflow languages and functional reactive programming (FRP), which I see as mostly about bringing event streams to the user interface, i.e. updating the user interface when some underlying data changes. This is a natural counterpart to event streams in the data backend. Finally, change data capture (CDC) means using an existing database in the familiar way, but extracting any inserts, updates and deletes into a stream of data change events which other applications can consume. This is a great migration path towards a stream-oriented architecture, and I'll be talking and writing more about CDC in future. I hope this talk helped you make some sense of the many facets of stream processing! Martin Kleppmann is a software engineer and entrepreneur. He is a committer on Apache Samza and author of the upcoming O'Reilly book Designing Data-Intensive Applications . He's @martinkl on Twitter.en\n",
            "The Definitive Guide to Database Version Control In the brave new world of big data and business intelligence, the only technology constant is change, especially when it comes to the database. Almost daily changes in business needs due to demographics, increased service delivery demand and the regulatory environment drive database change. So when it comes to database change, agility through automation - the ability to do more with less more rapidly to accelerate delivery - is what differentiates highly competitive, world-class enterprises from the rest of the crowd. If your competitor can deliver relevant features faster, with better quality, you will lose market share. Agile development arose from the need to move more quickly to deal with ever-changing requirements, ensuring optimum quality despite resource constraints. The big release approach is obsolete - waiting six months until the next rollout or release is self-defeating. Agile development reduces release scope to complete each change faster, minimizing the impact of each change. Agility is expected from tech companies and IT divisions to support changing business needs. The next logical step is to link development with operations - to adopt DevOps. To master Agile sprint deployments effectively with DevOps, you need the ability to implement deployment and process automation internally within development and QA, or to production. Otherwise, deployments and releases will require manual steps and processes, which are prone to human error and cannot be frequently replicated. The automation required relies on a version control repository that manages all software assets ready to be built and deployed to the next environment. The build process starts by cleaning the working space and getting the relevant files from the version control repository. This critical phase prevents out-of-process changes. These changes can still happen though they can be avoided if developers save their changes directly in the build server working space, instead of checking-in the changes to the version control repository. This example may sound absurd because developers know if they do so, their changes will be lost, as the technology enforces the process. This phase also prevents the build phase from accepting work-in-progress changes by referring to only those changes that were submitted to the version control repository in a check-in process. The version control repository acts as the single source of truth . The Database is a Key Component Most IT applications today have many components using different technologies; mobile, ASP, PHP, application servers, Citrix, databases, etc. These must all be in sync for the application to work. If, for example, a new column was added to a table, or a new parameter was added to a stored procedure, all other application components must be synchronized to the structure change to function correctly. If this synchronization breaks, the application can fail by calling the wrong parameters to the stored procedure, or by trying to insert data without the new column. The unique properties of the database component differentiate it from other components: A database is more than just SQL scripts. It has a table structure, code written in the database language within stored procedures, content saved in reference tables or configuration tables, and dependencies between objects. A database is a central resource. Several developers can work on the same object, so their work must be synchronized to prevent code overrides. Deploying database changes is not as simple as copying and replacing old binaries. Database deployment transforms version A into version B while keeping business data and transferring it to the new structure. Database code exists in any database, and can be directly modified in any environment. This is in contrast to other components, where everything starts from a clean workspace in the build server. Must-Have Requirements Several challenges must be addressed when managing database changes. You must: Ensure all database code is covered (structure, code, reference content, grants) Ensure the version control repository acts as the single source of truth Ensure the deployment script being executed knows environment status when the script is executing Ensure the deployment script handles and merges conflicts Generate a deployment script for only relevant changes Ensure the deployment script knows the database's dependencies There are four common approaches to managing database changes in development and deploying them internally (Dev, QA) or to the production environment. Utilizing SQL alter scripts generated during development Utilizing a changelog activities tracking system Utilizing simple compare & sync Utilizing a database enforced change management solution Utilizing SQL Alter Scripts Generated During Development The most basic method for managing database changes is to save the alter command in a script or set of scripts, and manage them in the exiting file-based version control. This guarantees a single repository that stores all the application component assets. Developers have the same functionality when checking-in changes for the database as they do when they check-in changes for .NET or Java, such as linking the change to the reason (CR, defect#, user story, etc.). Almost any modern file-based version control solution has a merge notification when several developers change the same file. But let's see if this solution actually overcomes the challenges for the database, and avoids the potential pitfalls: Ensures all database code is covered - since the developer or DBA writes the script, they can ensure it will handle all database code. Ensures the version control repository acts as the single source of truth - not really, as the developer/DBA can login directly to the database (in any environment) and make changes directly in the database. Manually-Written SQL Scripts Changes made to the deployment scripts as part of scope changes, branch merges, or re-works are done manually and require additional testing. Two sets of scripts must be maintained - the create script and the alter script for the specific change for the release. Having two sets of scripts for the same change is a recipe for disaster. Ensures the deployment script being executed knows the environment status when the script is executing - this depends on the developer and how the script is written. If the script just contains the relevant alter command, then it is not aware of the environment status when it is executed. This means it may try to add the column although it already exists. Writing scripts that will be aware of the environment status at execution time significantly complicates script development. Ensures the deployment script handles conflicts and merges them - although the file-based version control provides the ability to merge conflicts, this is irrelevant to the database as the version control repository is not 100% accurate and cannot be the single source of truth. The script might override a hot fix performed by another team, leaving no evidence that something went wrong. Generates deployment scripts for only relevant changes - scripts are generated as part of development. Ensuring the scripts include only relevant and authorized changes - based on the tasks being approved - requires changing the script(s), which creates more risk to the deployment and wastes time. Ensures the deployment script knows the database dependencies - developers must be aware of database dependencies during the development of the script. If a single script is being used, then the change is usually being appended. This can result in many changes to the same objects. If many scripts are being used, then the order of the scripts is critical and is maintained manually. Bottom line: not only does this basic approach fail to solve the database challenges, it's also error-prone, time consuming, and requires an additional system to keep track of the scripts being executed. Utilizing a Changelog Activities Tracking System Another common approach is to use XML files, which use an abstract language for the change and keep track of the execution. The most common open source solution for this is Liquibase. With XML files, Liquibase separates the logical change from the physical change, and allows the developer to write the change without knowing the database-specific command. At execution time, it converts the XML to the specific RDBMS language to perform the change. Changes are grouped into a changelog, and they can be in a single XML file or many XML files referred by a major XML file which contains the order of the changes. The XML files can be saved using the existing file-based version control, which offers the same benefits as the basic approach. In addition, based on the Liquibase execution track, it knows which changelog(s) have already been deployed and shouldn't run again, and which were not yet deployed and should be deployed. Let's see if Liquibase answers the challenges: Ensures all database code is covered - managing changes to reference content is not supported in the XML files used by Liquibase, and must be handled as an external addition, which can result in changes being forgotten. Ensures the version control repository acts as the single source of truth - Liquibase doesn't have any version control functionality. It depends on third-party version control tools to manage XML files, so you have the same challenges in making sure the file-based version control repository reflects the version that was tested. The process that will ensure the version control repository can be the single source of truth requires developers to check-in changes in order to test them. This can result in work-in-progress changes being deployed to next environment. Ensures the deployment script being executed knows the environment status when the script is executing - Liquibase knows which changelogs have been deployed and will not execute them again. However, if the logical change is to add a date column that exists in varchar format, the deployment will fail. Also, overrides of out-of-process changes cannot be prevented. Ensures the deployment script handles conflicts and merges them - any change being made to the database outside of Liquibase can cause a conflict, which will not be handled by Liquibase. Out of process changes are not handled Generates deployment scripts for only relevant changes - changes can be skipped at the changelog level, but breaking a changelog into several changelogs requires writing a new XML file, thus requiring more tests. Ensures the deployment script knows the database dependencies - the order of the changes is maintained manually during the development of the changelog XML. Bottom line: using a system that tracks change execution does not address the challenges associated with database development and, as a result, does not meet the deployment requirements. Utilizing Simple Compare & Sync Another common approach is to generate the database change script automatically by comparing the source environment (development) to the target environment (test, UAT, Production, etc.). This saves the developers and DBAs time because they don't have to manually maintain the script if it is a create script or an alter script for the release. Scripts can be generated when needed, and refer to the current structure of the target environment. Let's review the challenges and see if this approach overcomes them: Ensures all database code is covered - most compare & sync tools know how to handle the different database objects, but only a few have the functionality to handle compare & sync of the reference data. Ensures the version control repository acts as the single source of truth - simple compare & sync does not utilize the version control repository when performing the compare and generating the merge script. Ensures the deployment script being executed knows the environment status when the script is executing - the best practice is to generate the script just before executing it so it will refer the current environment status. Ensures the deployment script handles conflicts and merges them - simple compare & sync tools compare A to B (source to target). Based on the simple table at the right, the tool then generates a script to \"upgrade\" the target to match the source. Without knowing the nature of the change, the wrong script can be generated. For example, there is an index in the target that was created from a different branch or critical fix. If this index does not exist in the source environment, what should the tool do? Drop the index? If there is an index in development, but not in production, was it added in development? Dropped in production? Using such a solution requires deep knowledge of each change to make sure they are handled properly. Generates deployment scripts for only relevant changes - the compare & sync tools compare the entire schema and show the differences. They are unaware of the reason behind the changes, as this information is stored in the ALM, CMS, or version control repository, which is external to the compare & sync tool. You might get a lot of background noise, making it difficult to determine what you actually need to deal with. Ensures the deployment script knows the database dependencies - compare & sync tools are aware of database dependencies and generate the relevant DDLs, DCLs, and DMLs in the correct order. Not all compare & sync tools support generating a script that contains objects from several schemas. Bottom line: compare & sync tools satisfy some of the must-have requirements, but fail to deal with others. Scripts must be manually reviewed, and cannot be trusted in an automated process. Utilizing a Database Enforced Change Management Solution Database enforced change management combines enforcement of version control processes on database objects with generation of the deployment script when required, based on the version control repository and the structure of the environment at that time. This approach uses \"build and deploy on-demand,\" meaning the deploy script is built (generated) when needed, not as part of development. This allows for efficient handling of conflicts, merges, and out-of-process changes. Build & Deploy On-Demand How does database enforced change management handle the challenges? Ensures all database code is covered - structure, business logic written in the database language, reference content, database permissions and more are managed. Ensures the version control repository acts as the single source of truth - the enforced change policy prevents anyone using any IDE (even command line) from modifying database objects that were not checked-out before and checked-in after the change. This guarantees the version control repository will always be in sync with the definition of the object at check-in time. Single Process Enforcing Version Control Ensures the deployment script being executed knows the environment status when the script is executing - building (generating) the deployment script when needed (just before executing) guarantees it knows the current environment status. Ensures the deployment script handles conflicts and merges them - by using baselines in the analysis, the nature of the change is known and the correct decision whether to promote the change, protect the target (ignore the change), or merge a conflict is easy. Baseline Aware Analysis Generates deployment scripts for only relevant changes - the integration with application lifecycle management (ALM) and change management systems (CMS) enables you to assign a reason to the change, as is done in the file-based version control or task management system. Ensures the deployment script knows the database dependencies - the sophisticated analysis and script generation algorithm ensures the DDLs, DCLs, and DMLs will be executed in the correct order based on the database dependencies, including inter-schema dependencies. In addition to the must-have requirements, there are other requirements, such as supporting parallel development, merging branches, integrating with the database IDE, and supporting changes originating from data modeling tools. You must verify that these requirements will be addressed by whichever method you choose. Bottom Line The database component has special requirements, and therefore creates a real challenge for automation processes. In the old days when there were only a few releases per year, it was common and understandable to invest time manually reviewing and maintaining the database deployment scripts. Today, with the growing need to be agile and provide releases faster, the database must be part of the automation process. Developing SQL or XML scripts, or using simple compare & sync are either inefficient and/or risky approaches when it comes to automation. The most effective method is to implement database enforce change management . About The Author Uri Margalit is the Director of Product Management at DBmaestro , an Enterprise Software Development Company focusing on database development and deployment technologies. Uri has over 15 years' experience in enterprise software and systems management and has held senior Product Management and R&D Management positions at a number of leading software companies.en\n",
            "The Netflix Tech Blog: Netflix Billing Migration to AWS On January 4, 2016, right before Netflix expanded itself into 130 new countries , Netflix Billing infrastructure became 100% AWS cloud-native. Migration of Billing infrastructure from Netflix Data Center(DC) to AWS Cloud was part of a broader initiative. This prior blog post is a great read that summarizes our strategic goals and direction towards AWS migration. For a company, its billing solution is its financial lifeline, while at the same time, it is a visible representation of a company's attitude towards its customers. A great customer experience is one of Netflix's core values. Considering the sensitive nature of Billing for its direct impact on our monetary relationship with our members as well on financial reporting, this migration needed to be handled as delicately as possible. Our primary goal was to define a secure, resilient and granular path for migration to the Cloud, without impacting the member experience. This blog entry discusses our approach to migration of a complex Billing ecosystem from Netflix Data Center(DC) into AWS Cloud. Components of our Billing architecture Billing infrastructure is responsible for managing the billing state of Netflix members. This includes keeping track of open/paid billing periods, the amount of credit on the member's account, managing payment status of the member, initiating charge requests and what date the member has paid through. Other than these, billing data feeds into financial systems for revenue and tax reporting for Netflix accounting. To accomplish above, billing engineering encompasses: Batch jobs to create recurring renewal orders for a global subscriber base, aggregated data feeds into our General Ledger(GL) for daily revenue from all payment methods including gift cards, Tax Service that reads from and posts into Tax engine. Generation of messaging events and streaming/DVD hold events based on billing state of customers. Billing APIs provide billing and gift card details to the customer service platform and website. Other than these, Billing APIs are also part of workflows initiated to process user actions like member signup, change plan, cancellation, update address, chargebacks, and refund requests. Integrations with different services like member account service, payment processing, customer service, customer messaging, DVD website and shipping Billing systems had integrations in DC as well as in cloud with the cloud-native systems. At a high level, our pre-migration architecture could be abstracted out as below:- Considering how much code and data was interacting with Oracle, one of our objectives was to disintegrate our giant Oracle based solution into a services based architecture. Some of our APIs needed to be multi-region and highly available. So we decided to split our data into multiple data stores. Subscriber data was migrated to Cassandra data store. Our payment processing integration needed ACID transaction. Hence all relevant data was migrated to MYSQL. Following is a representation of our post migration architecture. As we approached the mammoth task of migration, we were keenly aware of the many challenges in front of us ... Our migration should ideally not take any downtime for user facing flows. Our new architecture in AWS would need to scale to rapidly growing the member base. We had billions of rows of data, constantly changing and composed of all the historical data since Netflix's inception in 1997. It was growing every single minute in our large shared database on Oracle. To move all this data over to AWS, we needed to first transport and synchronize the data in real time, into a double digit Terabyte RDBMS in cloud. Being a SOX system added another layer of complexity, since all the migration and tooling needed to adhere to our SOX processes. Netflix was launching in many new countries and marching towards being global soon. Billing migration needed to happen without adversely impacting other teams that were busy with their own migration and global launch milestones. Our approach to migration was guided by simple principles that helped us in defining the way forward. We will cover the most important ones below: Challenge complexity and simplify: It is much easier to simply accept complexity inherent in legacy systems than challenge it, though when you are floating in a lot of data and code, simplification becomes the key. It seemed very intimidating until we spent a few days opening up everything and asking ourselves repeatedly about how else we could simplify. Cleaning up Code : We started chipping away existing code into smaller, efficient modules and first moved some critical dependencies to run from the Cloud. We moved our tax solution to the Cloud first. Next, we retired serving member billing history from giant tables that were part of many different code paths. We built a new application to capture billing events, migrated only necessary data into our new Cassandra data store and started serving billing history, globally, from the Cloud. We spent a good amount of time writing a data migration tool that would transform member billing attributes spread across many tables in Oracle into a much simpler Cassandra data structure. We worked with our DVD engineering counterparts to further simplify our integration and got rid of obsolete code. Purging Data : We took a hard look at every single table to ensure that we were migrating only what we needed and leaving everything else behind. Historical billing data is valuable to legal and customer service teams. Our goal was to migrate only necessary data into the Cloud. So, we worked with impacted teams to find out what parts of historical data they really needed. We identified alternative data stores that could serve old data for these teams. After that, we started purging data that was obsolete and was not needed for any function. Build tooling to be resilient and compliant : Our goal was to migrate applications incrementally with zero downtime. To achieve this, we built proxies and redirectors to pipe data back into DC. This helped us in keeping our applications in DC , unimpacted by the change, till we were ready to migrate them. We had to build tooling in order to support our Billing Cloud infrastructure which needed to be SOX compliant. For SOX compliance we needed to ensure mitigation of unexpected developer actions and auditability of actions. Our Cloud deployment tool was enhanced to capture details of deployment and pipe events to and our Big Data Platform for auditability. We needed to enhance Cassandra client for authentication and auditable actions. We wrote new alerts using that would help us in monitoring our applications and data in the Cloud. With the help of our Data analytics team, we built a comparator to reconcile subscriber data in Cassandra datastore against data in Oracle by country and report mismatches. To achieve the above, we heavily used Netflix big data platform to capture deployment events, used sqoop to transport data from our Oracle database and Cassandra clusters to Hive. We wrote Hive queries and MapReduce jobs for needed reports and dashboards. Test with a clean and limited dataset first. How global expansion helped us : As Netflix was launching in new countries, it created a lot of challenges for us, though it also provided an opportunity to test our Cloud infrastructure with new, clean data, not weighted down by legacy. So, we created a new skinny billing infrastructure in Cloud, for all the user facing functionality and a skinny version of our renewal batch process, with integration into DC applications, to complete the billing workflow. Once the data for new countries could be successfully processed in the Cloud, it gave us the confidence to extend the Cloud footprint for existing large legacy countries, especially the US, where we support not only streaming but DVD billing as well. Decouple user facing flows to shield customer experience from downtimes or other migration impacts : As we were getting ready to migrate existing members' data into Cassandra, we needed downtime to halt processing while we migrated subscription data from Oracle to Cassandra for our APIs and batch renewal in Cloud. All our tooling was built around ability to migrate a country at time and tunnel traffic as needed. We worked with ecommerce and membership services to change integration in user workflows to an asynchronous model. We built retry capabilities to rerun failed processing and repeat as needed. We added optimistic customer state management to ensure our members were not penalized while our processing was halted. By doing all the above, we transformed and moved millions of rows from Oracle in DC to Cassandra in AWS without any obvious user impact. Moving a database needs its own strategic planning : Database movement needs to be planned out while keeping the end goal in sight, or else it can go very wrong. There are many decisions to be made, from storage prediction to absorbing at least a year's worth of growth in data that translates into number of instances needed, licensing costs for both production and test environments, using RDS services vs. managing larger EC2 instances, ensuring that database architecture can address scalability, availability and reliability of data. Creating disaster recovery plan, planning minimal migration downtime possible and the list goes on. As part of this migration, we decided to migrate from licenced Oracle to open source MYSQL database running on Netflix managed EC2 instances. While our subscription processing was using data in our Cassandra datastore, our payment processor needed ACID capabilities of an RDBMS to process charge transactions. We still had a multi-terabyte database that would not fit in AWS RDS with TB limitations. With the help of Netflix platform core and database engineering, we defined a multi-region, scalable architecture for our MYSQL master with DRBD copy and multiple read replicas available in different regions. We also moved all our ETL processing to replicas to avoid resource contention on the Master. Database Cloud Engineering built tooling and alerts for MYSQL instances to ensure monitoring and recovery as needed. Our other biggest challenge was migrating constantly changing data to MYSQL in AWS, without taking any downtime. After exploring many options, we proceeded with Oracle GoldenGate, which could replicate our tables across heterogeneous databases, along with ongoing incremental changes. Of course, this was a very large movement of data, that ran in parallel to our production operations and other migration for a couple of months. We conducted iterative testing and issue fixing cycles to run our applications against MYSQL. Eventually, many weeks before flipping the switch, we started running our test database on MYSQL and would fix and test all issues on MYSQL code branch before doing a final validation on Oracle and releasing in production. Running our test environment against MYSQL continuously created a great feedback loop for us. Finally, on January 4, with a flip of a switch, we were able to move our processing and data ETLs against MYSQL. While our migration to the Cloud was relatively smooth, looking back, there are always a few things we could have done better. We underestimated testing automation needs. We did not have a good way to test end to end flows. Having spent enough effort on these aspects, upfront, would have given us better developer velocity. Migrating something as critical as billing with scale and legacy that needed to be addressed was plenty of work, though the benefits from the migration and simplification are also numerous. Post migration, we are more efficient and lighter in our software footprint than before. We are able to fully utilize Cloud capabilities in tooling, alerting and monitoring provided by the Netflix platform services. Our applications are able to scale horizontally as needed, which has helped us in keeping up our processing with subscriber growth. In conclusion, billing migration was a major cross functional engineering effort. Different engineering teams: core platform, security, database engineering, tooling, big data platform, business teams and other engineering teams supported us through this. We plan to cover focused topics on database migration and engineering perspectives as a continuing series of blog posts in the future. Once in the Cloud, we now see numerous opportunities to further enhance our services by using innovations of AWS and the Netflix platform. Netflix being global is bringing many more interesting challenges to our path. We have started our next big effort to re-architect our billing platform to become even more efficient and distributed for a global subscriber scale. If you are interested in helping us solve these problems, we are !en\n"
          ]
        }
      ]
    },
    {
      "cell_type": "code",
      "source": [
        "import numpy as np\n",
        "ind_list = []\n",
        "for i in similar_articles_sorted:\n",
        "  if i[0] in (articles_eng.text[articles_eng.group == 7]):\n",
        "    ind_list.append(i[0])\n",
        "\n",
        "print(f\" {len(ind_list)} indices are common in the results from both models\")"
      ],
      "metadata": {
        "colab": {
          "base_uri": "https://localhost:8080/"
        },
        "id": "-xzxUyku9f28",
        "outputId": "ba1c6bdf-f454-49d2-b26f-0ee2eb7159b0"
      },
      "execution_count": null,
      "outputs": [
        {
          "output_type": "stream",
          "name": "stdout",
          "text": [
            " 147 indices are common in the results from both models\n"
          ]
        }
      ]
    },
    {
      "cell_type": "markdown",
      "source": [
        "This means that nearly 40% of the articles related to our test article according to the KMeans model, are also shown to be related to the test article, according to the cosine_similarity results. \n",
        "\n",
        "This comparison is not necessarily to use one of the models as a benchmark for the other. I just wanted to see if there was any uniformity in the results from these two different algorithms and this provides some credence."
      ],
      "metadata": {
        "id": "vCwPwIxHAQ49"
      }
    }
  ],
  "metadata": {
    "colab": {
      "provenance": []
    },
    "kernelspec": {
      "display_name": "Python 3",
      "name": "python3"
    },
    "language_info": {
      "name": "python"
    }
  },
  "nbformat": 4,
  "nbformat_minor": 0
}